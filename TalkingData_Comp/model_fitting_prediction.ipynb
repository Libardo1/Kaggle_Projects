{
 "cells": [
  {
   "cell_type": "markdown",
   "metadata": {},
   "source": [
    "## Model Fiting and Prediction"
   ]
  },
  {
   "cell_type": "code",
   "execution_count": 2,
   "metadata": {},
   "outputs": [],
   "source": [
    "import pandas as pd\n",
    "import numpy as np\n",
    "from sklearn.model_selection import train_test_split\n",
    "import lightgbm as lgb\n",
    "import matplotlib.pyplot as plt \n",
    "import xgboost as xgb\n",
    "from sklearn.metrics import auc\n",
    "from sklearn.model_selection import GridSearchCV\n",
    "import pickle"
   ]
  },
  {
   "cell_type": "code",
   "execution_count": 4,
   "metadata": {},
   "outputs": [],
   "source": [
    "train = pd.read_csv('input/train_fe.csv')"
   ]
  },
  {
   "cell_type": "code",
   "execution_count": 5,
   "metadata": {},
   "outputs": [],
   "source": [
    "X  = train.drop(columns = ['Unnamed: 0', 'is_attributed'])\n",
    "y  = train['is_attributed'].astype('uint8')\n",
    "del train"
   ]
  },
  {
   "cell_type": "code",
   "execution_count": 17,
   "metadata": {
    "scrolled": true
   },
   "outputs": [
    {
     "name": "stderr",
     "output_type": "stream",
     "text": [
      "/home/jacob/anaconda3/lib/python3.6/site-packages/sklearn/model_selection/_search.py:761: DeprecationWarning: The grid_scores_ attribute was deprecated in version 0.18 in favor of the more elaborate cv_results_ attribute. The grid_scores_ attribute will not be available from 0.20\n",
      "  DeprecationWarning)\n"
     ]
    },
    {
     "data": {
      "text/plain": [
       "([mean: 0.95685, std: 0.01548, params: {'learning_rate': 0.01, 'max_bin': 50, 'max_depth': 4, 'n_estimators': 30, 'num_leaves': 3},\n",
       "  mean: 0.96505, std: 0.01327, params: {'learning_rate': 0.01, 'max_bin': 50, 'max_depth': 4, 'n_estimators': 30, 'num_leaves': 5},\n",
       "  mean: 0.96856, std: 0.01129, params: {'learning_rate': 0.01, 'max_bin': 50, 'max_depth': 4, 'n_estimators': 30, 'num_leaves': 7},\n",
       "  mean: 0.97043, std: 0.01097, params: {'learning_rate': 0.01, 'max_bin': 50, 'max_depth': 4, 'n_estimators': 30, 'num_leaves': 9},\n",
       "  mean: 0.95752, std: 0.01592, params: {'learning_rate': 0.01, 'max_bin': 50, 'max_depth': 4, 'n_estimators': 40, 'num_leaves': 3},\n",
       "  mean: 0.96521, std: 0.01369, params: {'learning_rate': 0.01, 'max_bin': 50, 'max_depth': 4, 'n_estimators': 40, 'num_leaves': 5},\n",
       "  mean: 0.96912, std: 0.01116, params: {'learning_rate': 0.01, 'max_bin': 50, 'max_depth': 4, 'n_estimators': 40, 'num_leaves': 7},\n",
       "  mean: 0.97098, std: 0.01076, params: {'learning_rate': 0.01, 'max_bin': 50, 'max_depth': 4, 'n_estimators': 40, 'num_leaves': 9},\n",
       "  mean: 0.95823, std: 0.01628, params: {'learning_rate': 0.01, 'max_bin': 50, 'max_depth': 4, 'n_estimators': 50, 'num_leaves': 3},\n",
       "  mean: 0.96571, std: 0.01392, params: {'learning_rate': 0.01, 'max_bin': 50, 'max_depth': 4, 'n_estimators': 50, 'num_leaves': 5},\n",
       "  mean: 0.96931, std: 0.01165, params: {'learning_rate': 0.01, 'max_bin': 50, 'max_depth': 4, 'n_estimators': 50, 'num_leaves': 7},\n",
       "  mean: 0.97117, std: 0.01088, params: {'learning_rate': 0.01, 'max_bin': 50, 'max_depth': 4, 'n_estimators': 50, 'num_leaves': 9},\n",
       "  mean: 0.95685, std: 0.01548, params: {'learning_rate': 0.01, 'max_bin': 50, 'max_depth': 5, 'n_estimators': 30, 'num_leaves': 3},\n",
       "  mean: 0.96505, std: 0.01327, params: {'learning_rate': 0.01, 'max_bin': 50, 'max_depth': 5, 'n_estimators': 30, 'num_leaves': 5},\n",
       "  mean: 0.96881, std: 0.01028, params: {'learning_rate': 0.01, 'max_bin': 50, 'max_depth': 5, 'n_estimators': 30, 'num_leaves': 7},\n",
       "  mean: 0.97184, std: 0.00831, params: {'learning_rate': 0.01, 'max_bin': 50, 'max_depth': 5, 'n_estimators': 30, 'num_leaves': 9},\n",
       "  mean: 0.95752, std: 0.01592, params: {'learning_rate': 0.01, 'max_bin': 50, 'max_depth': 5, 'n_estimators': 40, 'num_leaves': 3},\n",
       "  mean: 0.96521, std: 0.01369, params: {'learning_rate': 0.01, 'max_bin': 50, 'max_depth': 5, 'n_estimators': 40, 'num_leaves': 5},\n",
       "  mean: 0.96926, std: 0.01065, params: {'learning_rate': 0.01, 'max_bin': 50, 'max_depth': 5, 'n_estimators': 40, 'num_leaves': 7},\n",
       "  mean: 0.97235, std: 0.00890, params: {'learning_rate': 0.01, 'max_bin': 50, 'max_depth': 5, 'n_estimators': 40, 'num_leaves': 9},\n",
       "  mean: 0.95823, std: 0.01628, params: {'learning_rate': 0.01, 'max_bin': 50, 'max_depth': 5, 'n_estimators': 50, 'num_leaves': 3},\n",
       "  mean: 0.96571, std: 0.01392, params: {'learning_rate': 0.01, 'max_bin': 50, 'max_depth': 5, 'n_estimators': 50, 'num_leaves': 5},\n",
       "  mean: 0.96975, std: 0.01075, params: {'learning_rate': 0.01, 'max_bin': 50, 'max_depth': 5, 'n_estimators': 50, 'num_leaves': 7},\n",
       "  mean: 0.97271, std: 0.00890, params: {'learning_rate': 0.01, 'max_bin': 50, 'max_depth': 5, 'n_estimators': 50, 'num_leaves': 9},\n",
       "  mean: 0.95685, std: 0.01548, params: {'learning_rate': 0.01, 'max_bin': 50, 'max_depth': 7, 'n_estimators': 30, 'num_leaves': 3},\n",
       "  mean: 0.96505, std: 0.01327, params: {'learning_rate': 0.01, 'max_bin': 50, 'max_depth': 7, 'n_estimators': 30, 'num_leaves': 5},\n",
       "  mean: 0.96889, std: 0.01015, params: {'learning_rate': 0.01, 'max_bin': 50, 'max_depth': 7, 'n_estimators': 30, 'num_leaves': 7},\n",
       "  mean: 0.97191, std: 0.00888, params: {'learning_rate': 0.01, 'max_bin': 50, 'max_depth': 7, 'n_estimators': 30, 'num_leaves': 9},\n",
       "  mean: 0.95752, std: 0.01592, params: {'learning_rate': 0.01, 'max_bin': 50, 'max_depth': 7, 'n_estimators': 40, 'num_leaves': 3},\n",
       "  mean: 0.96521, std: 0.01369, params: {'learning_rate': 0.01, 'max_bin': 50, 'max_depth': 7, 'n_estimators': 40, 'num_leaves': 5},\n",
       "  mean: 0.96926, std: 0.01056, params: {'learning_rate': 0.01, 'max_bin': 50, 'max_depth': 7, 'n_estimators': 40, 'num_leaves': 7},\n",
       "  mean: 0.97218, std: 0.00950, params: {'learning_rate': 0.01, 'max_bin': 50, 'max_depth': 7, 'n_estimators': 40, 'num_leaves': 9},\n",
       "  mean: 0.95823, std: 0.01628, params: {'learning_rate': 0.01, 'max_bin': 50, 'max_depth': 7, 'n_estimators': 50, 'num_leaves': 3},\n",
       "  mean: 0.96571, std: 0.01392, params: {'learning_rate': 0.01, 'max_bin': 50, 'max_depth': 7, 'n_estimators': 50, 'num_leaves': 5},\n",
       "  mean: 0.96975, std: 0.01065, params: {'learning_rate': 0.01, 'max_bin': 50, 'max_depth': 7, 'n_estimators': 50, 'num_leaves': 7},\n",
       "  mean: 0.97271, std: 0.00948, params: {'learning_rate': 0.01, 'max_bin': 50, 'max_depth': 7, 'n_estimators': 50, 'num_leaves': 9},\n",
       "  mean: 0.95685, std: 0.01548, params: {'learning_rate': 0.01, 'max_bin': 50, 'max_depth': 8, 'n_estimators': 30, 'num_leaves': 3},\n",
       "  mean: 0.96505, std: 0.01327, params: {'learning_rate': 0.01, 'max_bin': 50, 'max_depth': 8, 'n_estimators': 30, 'num_leaves': 5},\n",
       "  mean: 0.96889, std: 0.01015, params: {'learning_rate': 0.01, 'max_bin': 50, 'max_depth': 8, 'n_estimators': 30, 'num_leaves': 7},\n",
       "  mean: 0.97191, std: 0.00888, params: {'learning_rate': 0.01, 'max_bin': 50, 'max_depth': 8, 'n_estimators': 30, 'num_leaves': 9},\n",
       "  mean: 0.95752, std: 0.01592, params: {'learning_rate': 0.01, 'max_bin': 50, 'max_depth': 8, 'n_estimators': 40, 'num_leaves': 3},\n",
       "  mean: 0.96521, std: 0.01369, params: {'learning_rate': 0.01, 'max_bin': 50, 'max_depth': 8, 'n_estimators': 40, 'num_leaves': 5},\n",
       "  mean: 0.96926, std: 0.01056, params: {'learning_rate': 0.01, 'max_bin': 50, 'max_depth': 8, 'n_estimators': 40, 'num_leaves': 7},\n",
       "  mean: 0.97218, std: 0.00950, params: {'learning_rate': 0.01, 'max_bin': 50, 'max_depth': 8, 'n_estimators': 40, 'num_leaves': 9},\n",
       "  mean: 0.95823, std: 0.01628, params: {'learning_rate': 0.01, 'max_bin': 50, 'max_depth': 8, 'n_estimators': 50, 'num_leaves': 3},\n",
       "  mean: 0.96571, std: 0.01392, params: {'learning_rate': 0.01, 'max_bin': 50, 'max_depth': 8, 'n_estimators': 50, 'num_leaves': 5},\n",
       "  mean: 0.96975, std: 0.01065, params: {'learning_rate': 0.01, 'max_bin': 50, 'max_depth': 8, 'n_estimators': 50, 'num_leaves': 7},\n",
       "  mean: 0.97271, std: 0.00948, params: {'learning_rate': 0.01, 'max_bin': 50, 'max_depth': 8, 'n_estimators': 50, 'num_leaves': 9},\n",
       "  mean: 0.95692, std: 0.01531, params: {'learning_rate': 0.01, 'max_bin': 100, 'max_depth': 4, 'n_estimators': 30, 'num_leaves': 3},\n",
       "  mean: 0.96509, std: 0.01317, params: {'learning_rate': 0.01, 'max_bin': 100, 'max_depth': 4, 'n_estimators': 30, 'num_leaves': 5},\n",
       "  mean: 0.96844, std: 0.01132, params: {'learning_rate': 0.01, 'max_bin': 100, 'max_depth': 4, 'n_estimators': 30, 'num_leaves': 7},\n",
       "  mean: 0.97034, std: 0.01097, params: {'learning_rate': 0.01, 'max_bin': 100, 'max_depth': 4, 'n_estimators': 30, 'num_leaves': 9},\n",
       "  mean: 0.95761, std: 0.01581, params: {'learning_rate': 0.01, 'max_bin': 100, 'max_depth': 4, 'n_estimators': 40, 'num_leaves': 3},\n",
       "  mean: 0.96519, std: 0.01359, params: {'learning_rate': 0.01, 'max_bin': 100, 'max_depth': 4, 'n_estimators': 40, 'num_leaves': 5},\n",
       "  mean: 0.96905, std: 0.01117, params: {'learning_rate': 0.01, 'max_bin': 100, 'max_depth': 4, 'n_estimators': 40, 'num_leaves': 7},\n",
       "  mean: 0.97087, std: 0.01094, params: {'learning_rate': 0.01, 'max_bin': 100, 'max_depth': 4, 'n_estimators': 40, 'num_leaves': 9},\n",
       "  mean: 0.95808, std: 0.01632, params: {'learning_rate': 0.01, 'max_bin': 100, 'max_depth': 4, 'n_estimators': 50, 'num_leaves': 3},\n",
       "  mean: 0.96562, std: 0.01397, params: {'learning_rate': 0.01, 'max_bin': 100, 'max_depth': 4, 'n_estimators': 50, 'num_leaves': 5},\n",
       "  mean: 0.96927, std: 0.01161, params: {'learning_rate': 0.01, 'max_bin': 100, 'max_depth': 4, 'n_estimators': 50, 'num_leaves': 7},\n",
       "  mean: 0.97112, std: 0.01093, params: {'learning_rate': 0.01, 'max_bin': 100, 'max_depth': 4, 'n_estimators': 50, 'num_leaves': 9},\n",
       "  mean: 0.95692, std: 0.01531, params: {'learning_rate': 0.01, 'max_bin': 100, 'max_depth': 5, 'n_estimators': 30, 'num_leaves': 3},\n",
       "  mean: 0.96509, std: 0.01317, params: {'learning_rate': 0.01, 'max_bin': 100, 'max_depth': 5, 'n_estimators': 30, 'num_leaves': 5},\n",
       "  mean: 0.96875, std: 0.01024, params: {'learning_rate': 0.01, 'max_bin': 100, 'max_depth': 5, 'n_estimators': 30, 'num_leaves': 7},\n",
       "  mean: 0.97178, std: 0.00836, params: {'learning_rate': 0.01, 'max_bin': 100, 'max_depth': 5, 'n_estimators': 30, 'num_leaves': 9},\n",
       "  mean: 0.95761, std: 0.01581, params: {'learning_rate': 0.01, 'max_bin': 100, 'max_depth': 5, 'n_estimators': 40, 'num_leaves': 3},\n",
       "  mean: 0.96519, std: 0.01359, params: {'learning_rate': 0.01, 'max_bin': 100, 'max_depth': 5, 'n_estimators': 40, 'num_leaves': 5},\n",
       "  mean: 0.96920, std: 0.01070, params: {'learning_rate': 0.01, 'max_bin': 100, 'max_depth': 5, 'n_estimators': 40, 'num_leaves': 7},\n",
       "  mean: 0.97223, std: 0.00904, params: {'learning_rate': 0.01, 'max_bin': 100, 'max_depth': 5, 'n_estimators': 40, 'num_leaves': 9},\n",
       "  mean: 0.95808, std: 0.01632, params: {'learning_rate': 0.01, 'max_bin': 100, 'max_depth': 5, 'n_estimators': 50, 'num_leaves': 3},\n",
       "  mean: 0.96562, std: 0.01397, params: {'learning_rate': 0.01, 'max_bin': 100, 'max_depth': 5, 'n_estimators': 50, 'num_leaves': 5},\n",
       "  mean: 0.96967, std: 0.01086, params: {'learning_rate': 0.01, 'max_bin': 100, 'max_depth': 5, 'n_estimators': 50, 'num_leaves': 7},\n",
       "  mean: 0.97258, std: 0.00902, params: {'learning_rate': 0.01, 'max_bin': 100, 'max_depth': 5, 'n_estimators': 50, 'num_leaves': 9},\n",
       "  mean: 0.95692, std: 0.01531, params: {'learning_rate': 0.01, 'max_bin': 100, 'max_depth': 7, 'n_estimators': 30, 'num_leaves': 3},\n",
       "  mean: 0.96509, std: 0.01317, params: {'learning_rate': 0.01, 'max_bin': 100, 'max_depth': 7, 'n_estimators': 30, 'num_leaves': 5},\n",
       "  mean: 0.96874, std: 0.01025, params: {'learning_rate': 0.01, 'max_bin': 100, 'max_depth': 7, 'n_estimators': 30, 'num_leaves': 7},\n",
       "  mean: 0.97187, std: 0.00885, params: {'learning_rate': 0.01, 'max_bin': 100, 'max_depth': 7, 'n_estimators': 30, 'num_leaves': 9},\n",
       "  mean: 0.95761, std: 0.01581, params: {'learning_rate': 0.01, 'max_bin': 100, 'max_depth': 7, 'n_estimators': 40, 'num_leaves': 3},\n",
       "  mean: 0.96519, std: 0.01359, params: {'learning_rate': 0.01, 'max_bin': 100, 'max_depth': 7, 'n_estimators': 40, 'num_leaves': 5},\n",
       "  mean: 0.96919, std: 0.01067, params: {'learning_rate': 0.01, 'max_bin': 100, 'max_depth': 7, 'n_estimators': 40, 'num_leaves': 7},\n",
       "  mean: 0.97225, std: 0.00940, params: {'learning_rate': 0.01, 'max_bin': 100, 'max_depth': 7, 'n_estimators': 40, 'num_leaves': 9},\n",
       "  mean: 0.95808, std: 0.01632, params: {'learning_rate': 0.01, 'max_bin': 100, 'max_depth': 7, 'n_estimators': 50, 'num_leaves': 3},\n",
       "  mean: 0.96562, std: 0.01397, params: {'learning_rate': 0.01, 'max_bin': 100, 'max_depth': 7, 'n_estimators': 50, 'num_leaves': 5},\n",
       "  mean: 0.96963, std: 0.01087, params: {'learning_rate': 0.01, 'max_bin': 100, 'max_depth': 7, 'n_estimators': 50, 'num_leaves': 7},\n",
       "  mean: 0.97272, std: 0.00947, params: {'learning_rate': 0.01, 'max_bin': 100, 'max_depth': 7, 'n_estimators': 50, 'num_leaves': 9},\n",
       "  mean: 0.95692, std: 0.01531, params: {'learning_rate': 0.01, 'max_bin': 100, 'max_depth': 8, 'n_estimators': 30, 'num_leaves': 3},\n",
       "  mean: 0.96509, std: 0.01317, params: {'learning_rate': 0.01, 'max_bin': 100, 'max_depth': 8, 'n_estimators': 30, 'num_leaves': 5},\n",
       "  mean: 0.96874, std: 0.01025, params: {'learning_rate': 0.01, 'max_bin': 100, 'max_depth': 8, 'n_estimators': 30, 'num_leaves': 7},\n",
       "  mean: 0.97187, std: 0.00885, params: {'learning_rate': 0.01, 'max_bin': 100, 'max_depth': 8, 'n_estimators': 30, 'num_leaves': 9},\n",
       "  mean: 0.95761, std: 0.01581, params: {'learning_rate': 0.01, 'max_bin': 100, 'max_depth': 8, 'n_estimators': 40, 'num_leaves': 3},\n",
       "  mean: 0.96519, std: 0.01359, params: {'learning_rate': 0.01, 'max_bin': 100, 'max_depth': 8, 'n_estimators': 40, 'num_leaves': 5},\n",
       "  mean: 0.96919, std: 0.01067, params: {'learning_rate': 0.01, 'max_bin': 100, 'max_depth': 8, 'n_estimators': 40, 'num_leaves': 7},\n",
       "  mean: 0.97225, std: 0.00940, params: {'learning_rate': 0.01, 'max_bin': 100, 'max_depth': 8, 'n_estimators': 40, 'num_leaves': 9},\n",
       "  mean: 0.95808, std: 0.01632, params: {'learning_rate': 0.01, 'max_bin': 100, 'max_depth': 8, 'n_estimators': 50, 'num_leaves': 3},\n",
       "  mean: 0.96562, std: 0.01397, params: {'learning_rate': 0.01, 'max_bin': 100, 'max_depth': 8, 'n_estimators': 50, 'num_leaves': 5},\n",
       "  mean: 0.96963, std: 0.01087, params: {'learning_rate': 0.01, 'max_bin': 100, 'max_depth': 8, 'n_estimators': 50, 'num_leaves': 7},\n",
       "  mean: 0.97272, std: 0.00947, params: {'learning_rate': 0.01, 'max_bin': 100, 'max_depth': 8, 'n_estimators': 50, 'num_leaves': 9},\n",
       "  mean: 0.95682, std: 0.01539, params: {'learning_rate': 0.01, 'max_bin': 200, 'max_depth': 4, 'n_estimators': 30, 'num_leaves': 3},\n",
       "  mean: 0.96508, std: 0.01324, params: {'learning_rate': 0.01, 'max_bin': 200, 'max_depth': 4, 'n_estimators': 30, 'num_leaves': 5},\n",
       "  mean: 0.96844, std: 0.01126, params: {'learning_rate': 0.01, 'max_bin': 200, 'max_depth': 4, 'n_estimators': 30, 'num_leaves': 7},\n",
       "  mean: 0.97040, std: 0.01112, params: {'learning_rate': 0.01, 'max_bin': 200, 'max_depth': 4, 'n_estimators': 30, 'num_leaves': 9},\n",
       "  mean: 0.95757, std: 0.01592, params: {'learning_rate': 0.01, 'max_bin': 200, 'max_depth': 4, 'n_estimators': 40, 'num_leaves': 3},\n",
       "  mean: 0.96523, std: 0.01368, params: {'learning_rate': 0.01, 'max_bin': 200, 'max_depth': 4, 'n_estimators': 40, 'num_leaves': 5},\n",
       "  mean: 0.96900, std: 0.01116, params: {'learning_rate': 0.01, 'max_bin': 200, 'max_depth': 4, 'n_estimators': 40, 'num_leaves': 7},\n",
       "  mean: 0.97099, std: 0.01088, params: {'learning_rate': 0.01, 'max_bin': 200, 'max_depth': 4, 'n_estimators': 40, 'num_leaves': 9},\n",
       "  mean: 0.95816, std: 0.01625, params: {'learning_rate': 0.01, 'max_bin': 200, 'max_depth': 4, 'n_estimators': 50, 'num_leaves': 3},\n",
       "  mean: 0.96562, std: 0.01398, params: {'learning_rate': 0.01, 'max_bin': 200, 'max_depth': 4, 'n_estimators': 50, 'num_leaves': 5},\n",
       "  mean: 0.96926, std: 0.01160, params: {'learning_rate': 0.01, 'max_bin': 200, 'max_depth': 4, 'n_estimators': 50, 'num_leaves': 7},\n",
       "  mean: 0.97126, std: 0.01087, params: {'learning_rate': 0.01, 'max_bin': 200, 'max_depth': 4, 'n_estimators': 50, 'num_leaves': 9},\n",
       "  mean: 0.95682, std: 0.01539, params: {'learning_rate': 0.01, 'max_bin': 200, 'max_depth': 5, 'n_estimators': 30, 'num_leaves': 3},\n",
       "  mean: 0.96508, std: 0.01324, params: {'learning_rate': 0.01, 'max_bin': 200, 'max_depth': 5, 'n_estimators': 30, 'num_leaves': 5},\n",
       "  mean: 0.96881, std: 0.01016, params: {'learning_rate': 0.01, 'max_bin': 200, 'max_depth': 5, 'n_estimators': 30, 'num_leaves': 7},\n",
       "  mean: 0.97188, std: 0.00827, params: {'learning_rate': 0.01, 'max_bin': 200, 'max_depth': 5, 'n_estimators': 30, 'num_leaves': 9},\n",
       "  mean: 0.95757, std: 0.01592, params: {'learning_rate': 0.01, 'max_bin': 200, 'max_depth': 5, 'n_estimators': 40, 'num_leaves': 3},\n",
       "  mean: 0.96523, std: 0.01368, params: {'learning_rate': 0.01, 'max_bin': 200, 'max_depth': 5, 'n_estimators': 40, 'num_leaves': 5},\n",
       "  mean: 0.96920, std: 0.01056, params: {'learning_rate': 0.01, 'max_bin': 200, 'max_depth': 5, 'n_estimators': 40, 'num_leaves': 7},\n",
       "  mean: 0.97230, std: 0.00897, params: {'learning_rate': 0.01, 'max_bin': 200, 'max_depth': 5, 'n_estimators': 40, 'num_leaves': 9},\n",
       "  mean: 0.95816, std: 0.01625, params: {'learning_rate': 0.01, 'max_bin': 200, 'max_depth': 5, 'n_estimators': 50, 'num_leaves': 3},\n",
       "  mean: 0.96562, std: 0.01398, params: {'learning_rate': 0.01, 'max_bin': 200, 'max_depth': 5, 'n_estimators': 50, 'num_leaves': 5},\n",
       "  mean: 0.96965, std: 0.01081, params: {'learning_rate': 0.01, 'max_bin': 200, 'max_depth': 5, 'n_estimators': 50, 'num_leaves': 7},\n",
       "  mean: 0.97266, std: 0.00891, params: {'learning_rate': 0.01, 'max_bin': 200, 'max_depth': 5, 'n_estimators': 50, 'num_leaves': 9},\n",
       "  mean: 0.95682, std: 0.01539, params: {'learning_rate': 0.01, 'max_bin': 200, 'max_depth': 7, 'n_estimators': 30, 'num_leaves': 3},\n",
       "  mean: 0.96508, std: 0.01324, params: {'learning_rate': 0.01, 'max_bin': 200, 'max_depth': 7, 'n_estimators': 30, 'num_leaves': 5},\n",
       "  mean: 0.96881, std: 0.01014, params: {'learning_rate': 0.01, 'max_bin': 200, 'max_depth': 7, 'n_estimators': 30, 'num_leaves': 7},\n",
       "  mean: 0.97184, std: 0.00882, params: {'learning_rate': 0.01, 'max_bin': 200, 'max_depth': 7, 'n_estimators': 30, 'num_leaves': 9},\n",
       "  mean: 0.95757, std: 0.01592, params: {'learning_rate': 0.01, 'max_bin': 200, 'max_depth': 7, 'n_estimators': 40, 'num_leaves': 3},\n",
       "  mean: 0.96523, std: 0.01368, params: {'learning_rate': 0.01, 'max_bin': 200, 'max_depth': 7, 'n_estimators': 40, 'num_leaves': 5},\n",
       "  mean: 0.96918, std: 0.01056, params: {'learning_rate': 0.01, 'max_bin': 200, 'max_depth': 7, 'n_estimators': 40, 'num_leaves': 7},\n",
       "  mean: 0.97237, std: 0.00925, params: {'learning_rate': 0.01, 'max_bin': 200, 'max_depth': 7, 'n_estimators': 40, 'num_leaves': 9},\n",
       "  mean: 0.95816, std: 0.01625, params: {'learning_rate': 0.01, 'max_bin': 200, 'max_depth': 7, 'n_estimators': 50, 'num_leaves': 3},\n",
       "  mean: 0.96562, std: 0.01398, params: {'learning_rate': 0.01, 'max_bin': 200, 'max_depth': 7, 'n_estimators': 50, 'num_leaves': 5},\n",
       "  mean: 0.96962, std: 0.01078, params: {'learning_rate': 0.01, 'max_bin': 200, 'max_depth': 7, 'n_estimators': 50, 'num_leaves': 7},\n",
       "  mean: 0.97289, std: 0.00926, params: {'learning_rate': 0.01, 'max_bin': 200, 'max_depth': 7, 'n_estimators': 50, 'num_leaves': 9},\n",
       "  mean: 0.95682, std: 0.01539, params: {'learning_rate': 0.01, 'max_bin': 200, 'max_depth': 8, 'n_estimators': 30, 'num_leaves': 3},\n",
       "  mean: 0.96508, std: 0.01324, params: {'learning_rate': 0.01, 'max_bin': 200, 'max_depth': 8, 'n_estimators': 30, 'num_leaves': 5},\n",
       "  mean: 0.96881, std: 0.01014, params: {'learning_rate': 0.01, 'max_bin': 200, 'max_depth': 8, 'n_estimators': 30, 'num_leaves': 7},\n",
       "  mean: 0.97184, std: 0.00882, params: {'learning_rate': 0.01, 'max_bin': 200, 'max_depth': 8, 'n_estimators': 30, 'num_leaves': 9},\n",
       "  mean: 0.95757, std: 0.01592, params: {'learning_rate': 0.01, 'max_bin': 200, 'max_depth': 8, 'n_estimators': 40, 'num_leaves': 3},\n",
       "  mean: 0.96523, std: 0.01368, params: {'learning_rate': 0.01, 'max_bin': 200, 'max_depth': 8, 'n_estimators': 40, 'num_leaves': 5},\n",
       "  mean: 0.96918, std: 0.01056, params: {'learning_rate': 0.01, 'max_bin': 200, 'max_depth': 8, 'n_estimators': 40, 'num_leaves': 7},\n",
       "  mean: 0.97237, std: 0.00925, params: {'learning_rate': 0.01, 'max_bin': 200, 'max_depth': 8, 'n_estimators': 40, 'num_leaves': 9},\n",
       "  mean: 0.95816, std: 0.01625, params: {'learning_rate': 0.01, 'max_bin': 200, 'max_depth': 8, 'n_estimators': 50, 'num_leaves': 3},\n",
       "  mean: 0.96562, std: 0.01398, params: {'learning_rate': 0.01, 'max_bin': 200, 'max_depth': 8, 'n_estimators': 50, 'num_leaves': 5},\n",
       "  mean: 0.96962, std: 0.01078, params: {'learning_rate': 0.01, 'max_bin': 200, 'max_depth': 8, 'n_estimators': 50, 'num_leaves': 7},\n",
       "  mean: 0.97289, std: 0.00926, params: {'learning_rate': 0.01, 'max_bin': 200, 'max_depth': 8, 'n_estimators': 50, 'num_leaves': 9},\n",
       "  mean: 0.96139, std: 0.01792, params: {'learning_rate': 0.05, 'max_bin': 50, 'max_depth': 4, 'n_estimators': 30, 'num_leaves': 3},\n",
       "  mean: 0.96964, std: 0.01360, params: {'learning_rate': 0.05, 'max_bin': 50, 'max_depth': 4, 'n_estimators': 30, 'num_leaves': 5},\n",
       "  mean: 0.97216, std: 0.01154, params: {'learning_rate': 0.05, 'max_bin': 50, 'max_depth': 4, 'n_estimators': 30, 'num_leaves': 7},\n",
       "  mean: 0.97367, std: 0.01140, params: {'learning_rate': 0.05, 'max_bin': 50, 'max_depth': 4, 'n_estimators': 30, 'num_leaves': 9},\n",
       "  mean: 0.96261, std: 0.01831, params: {'learning_rate': 0.05, 'max_bin': 50, 'max_depth': 4, 'n_estimators': 40, 'num_leaves': 3},\n",
       "  mean: 0.97106, std: 0.01378, params: {'learning_rate': 0.05, 'max_bin': 50, 'max_depth': 4, 'n_estimators': 40, 'num_leaves': 5},\n",
       "  mean: 0.97433, std: 0.01171, params: {'learning_rate': 0.05, 'max_bin': 50, 'max_depth': 4, 'n_estimators': 40, 'num_leaves': 7},\n",
       "  mean: 0.97556, std: 0.01166, params: {'learning_rate': 0.05, 'max_bin': 50, 'max_depth': 4, 'n_estimators': 40, 'num_leaves': 9},\n",
       "  mean: 0.96331, std: 0.01777, params: {'learning_rate': 0.05, 'max_bin': 50, 'max_depth': 4, 'n_estimators': 50, 'num_leaves': 3},\n",
       "  mean: 0.97221, std: 0.01421, params: {'learning_rate': 0.05, 'max_bin': 50, 'max_depth': 4, 'n_estimators': 50, 'num_leaves': 5},\n",
       "  mean: 0.97417, std: 0.01357, params: {'learning_rate': 0.05, 'max_bin': 50, 'max_depth': 4, 'n_estimators': 50, 'num_leaves': 7},\n",
       "  mean: 0.97480, std: 0.01402, params: {'learning_rate': 0.05, 'max_bin': 50, 'max_depth': 4, 'n_estimators': 50, 'num_leaves': 9},\n",
       "  mean: 0.96139, std: 0.01792, params: {'learning_rate': 0.05, 'max_bin': 50, 'max_depth': 5, 'n_estimators': 30, 'num_leaves': 3},\n",
       "  mean: 0.96964, std: 0.01360, params: {'learning_rate': 0.05, 'max_bin': 50, 'max_depth': 5, 'n_estimators': 30, 'num_leaves': 5},\n",
       "  mean: 0.97284, std: 0.01181, params: {'learning_rate': 0.05, 'max_bin': 50, 'max_depth': 5, 'n_estimators': 30, 'num_leaves': 7},\n",
       "  mean: 0.97532, std: 0.01053, params: {'learning_rate': 0.05, 'max_bin': 50, 'max_depth': 5, 'n_estimators': 30, 'num_leaves': 9},\n",
       "  mean: 0.96261, std: 0.01831, params: {'learning_rate': 0.05, 'max_bin': 50, 'max_depth': 5, 'n_estimators': 40, 'num_leaves': 3},\n",
       "  mean: 0.97106, std: 0.01378, params: {'learning_rate': 0.05, 'max_bin': 50, 'max_depth': 5, 'n_estimators': 40, 'num_leaves': 5},\n",
       "  mean: 0.97507, std: 0.01168, params: {'learning_rate': 0.05, 'max_bin': 50, 'max_depth': 5, 'n_estimators': 40, 'num_leaves': 7},\n",
       "  mean: 0.97673, std: 0.01125, params: {'learning_rate': 0.05, 'max_bin': 50, 'max_depth': 5, 'n_estimators': 40, 'num_leaves': 9},\n",
       "  mean: 0.96331, std: 0.01777, params: {'learning_rate': 0.05, 'max_bin': 50, 'max_depth': 5, 'n_estimators': 50, 'num_leaves': 3},\n",
       "  mean: 0.97221, std: 0.01421, params: {'learning_rate': 0.05, 'max_bin': 50, 'max_depth': 5, 'n_estimators': 50, 'num_leaves': 5},\n",
       "  mean: 0.97550, std: 0.01278, params: {'learning_rate': 0.05, 'max_bin': 50, 'max_depth': 5, 'n_estimators': 50, 'num_leaves': 7},\n",
       "  mean: 0.97675, std: 0.01264, params: {'learning_rate': 0.05, 'max_bin': 50, 'max_depth': 5, 'n_estimators': 50, 'num_leaves': 9},\n",
       "  mean: 0.96139, std: 0.01792, params: {'learning_rate': 0.05, 'max_bin': 50, 'max_depth': 7, 'n_estimators': 30, 'num_leaves': 3},\n",
       "  mean: 0.96964, std: 0.01360, params: {'learning_rate': 0.05, 'max_bin': 50, 'max_depth': 7, 'n_estimators': 30, 'num_leaves': 5},\n",
       "  mean: 0.97296, std: 0.01164, params: {'learning_rate': 0.05, 'max_bin': 50, 'max_depth': 7, 'n_estimators': 30, 'num_leaves': 7},\n",
       "  mean: 0.97544, std: 0.01123, params: {'learning_rate': 0.05, 'max_bin': 50, 'max_depth': 7, 'n_estimators': 30, 'num_leaves': 9},\n",
       "  mean: 0.96261, std: 0.01831, params: {'learning_rate': 0.05, 'max_bin': 50, 'max_depth': 7, 'n_estimators': 40, 'num_leaves': 3},\n",
       "  mean: 0.97106, std: 0.01378, params: {'learning_rate': 0.05, 'max_bin': 50, 'max_depth': 7, 'n_estimators': 40, 'num_leaves': 5},\n",
       "  mean: 0.97532, std: 0.01149, params: {'learning_rate': 0.05, 'max_bin': 50, 'max_depth': 7, 'n_estimators': 40, 'num_leaves': 7},\n",
       "  mean: 0.97693, std: 0.01154, params: {'learning_rate': 0.05, 'max_bin': 50, 'max_depth': 7, 'n_estimators': 40, 'num_leaves': 9},\n",
       "  mean: 0.96331, std: 0.01777, params: {'learning_rate': 0.05, 'max_bin': 50, 'max_depth': 7, 'n_estimators': 50, 'num_leaves': 3},\n",
       "  mean: 0.97221, std: 0.01421, params: {'learning_rate': 0.05, 'max_bin': 50, 'max_depth': 7, 'n_estimators': 50, 'num_leaves': 5},\n",
       "  mean: 0.97564, std: 0.01229, params: {'learning_rate': 0.05, 'max_bin': 50, 'max_depth': 7, 'n_estimators': 50, 'num_leaves': 7},\n",
       "  mean: 0.97719, std: 0.01258, params: {'learning_rate': 0.05, 'max_bin': 50, 'max_depth': 7, 'n_estimators': 50, 'num_leaves': 9},\n",
       "  mean: 0.96139, std: 0.01792, params: {'learning_rate': 0.05, 'max_bin': 50, 'max_depth': 8, 'n_estimators': 30, 'num_leaves': 3},\n",
       "  mean: 0.96964, std: 0.01360, params: {'learning_rate': 0.05, 'max_bin': 50, 'max_depth': 8, 'n_estimators': 30, 'num_leaves': 5},\n",
       "  mean: 0.97296, std: 0.01164, params: {'learning_rate': 0.05, 'max_bin': 50, 'max_depth': 8, 'n_estimators': 30, 'num_leaves': 7},\n",
       "  mean: 0.97545, std: 0.01124, params: {'learning_rate': 0.05, 'max_bin': 50, 'max_depth': 8, 'n_estimators': 30, 'num_leaves': 9},\n",
       "  mean: 0.96261, std: 0.01831, params: {'learning_rate': 0.05, 'max_bin': 50, 'max_depth': 8, 'n_estimators': 40, 'num_leaves': 3},\n",
       "  mean: 0.97106, std: 0.01378, params: {'learning_rate': 0.05, 'max_bin': 50, 'max_depth': 8, 'n_estimators': 40, 'num_leaves': 5},\n",
       "  mean: 0.97532, std: 0.01149, params: {'learning_rate': 0.05, 'max_bin': 50, 'max_depth': 8, 'n_estimators': 40, 'num_leaves': 7},\n",
       "  mean: 0.97698, std: 0.01146, params: {'learning_rate': 0.05, 'max_bin': 50, 'max_depth': 8, 'n_estimators': 40, 'num_leaves': 9},\n",
       "  mean: 0.96331, std: 0.01777, params: {'learning_rate': 0.05, 'max_bin': 50, 'max_depth': 8, 'n_estimators': 50, 'num_leaves': 3},\n",
       "  mean: 0.97221, std: 0.01421, params: {'learning_rate': 0.05, 'max_bin': 50, 'max_depth': 8, 'n_estimators': 50, 'num_leaves': 5},\n",
       "  mean: 0.97564, std: 0.01229, params: {'learning_rate': 0.05, 'max_bin': 50, 'max_depth': 8, 'n_estimators': 50, 'num_leaves': 7},\n",
       "  mean: 0.97733, std: 0.01247, params: {'learning_rate': 0.05, 'max_bin': 50, 'max_depth': 8, 'n_estimators': 50, 'num_leaves': 9},\n",
       "  mean: 0.96144, std: 0.01808, params: {'learning_rate': 0.05, 'max_bin': 100, 'max_depth': 4, 'n_estimators': 30, 'num_leaves': 3},\n",
       "  mean: 0.96995, std: 0.01318, params: {'learning_rate': 0.05, 'max_bin': 100, 'max_depth': 4, 'n_estimators': 30, 'num_leaves': 5},\n",
       "  mean: 0.97209, std: 0.01153, params: {'learning_rate': 0.05, 'max_bin': 100, 'max_depth': 4, 'n_estimators': 30, 'num_leaves': 7},\n",
       "  mean: 0.97361, std: 0.01161, params: {'learning_rate': 0.05, 'max_bin': 100, 'max_depth': 4, 'n_estimators': 30, 'num_leaves': 9},\n",
       "  mean: 0.96270, std: 0.01825, params: {'learning_rate': 0.05, 'max_bin': 100, 'max_depth': 4, 'n_estimators': 40, 'num_leaves': 3},\n",
       "  mean: 0.97140, std: 0.01340, params: {'learning_rate': 0.05, 'max_bin': 100, 'max_depth': 4, 'n_estimators': 40, 'num_leaves': 5},\n",
       "  mean: 0.97437, std: 0.01159, params: {'learning_rate': 0.05, 'max_bin': 100, 'max_depth': 4, 'n_estimators': 40, 'num_leaves': 7},\n",
       "  mean: 0.97557, std: 0.01190, params: {'learning_rate': 0.05, 'max_bin': 100, 'max_depth': 4, 'n_estimators': 40, 'num_leaves': 9},\n",
       "  mean: 0.96340, std: 0.01780, params: {'learning_rate': 0.05, 'max_bin': 100, 'max_depth': 4, 'n_estimators': 50, 'num_leaves': 3},\n",
       "  mean: 0.97224, std: 0.01440, params: {'learning_rate': 0.05, 'max_bin': 100, 'max_depth': 4, 'n_estimators': 50, 'num_leaves': 5},\n",
       "  mean: 0.97420, std: 0.01388, params: {'learning_rate': 0.05, 'max_bin': 100, 'max_depth': 4, 'n_estimators': 50, 'num_leaves': 7},\n",
       "  mean: 0.97519, std: 0.01407, params: {'learning_rate': 0.05, 'max_bin': 100, 'max_depth': 4, 'n_estimators': 50, 'num_leaves': 9},\n",
       "  mean: 0.96144, std: 0.01808, params: {'learning_rate': 0.05, 'max_bin': 100, 'max_depth': 5, 'n_estimators': 30, 'num_leaves': 3},\n",
       "  mean: 0.96995, std: 0.01318, params: {'learning_rate': 0.05, 'max_bin': 100, 'max_depth': 5, 'n_estimators': 30, 'num_leaves': 5},\n",
       "  mean: 0.97287, std: 0.01183, params: {'learning_rate': 0.05, 'max_bin': 100, 'max_depth': 5, 'n_estimators': 30, 'num_leaves': 7},\n",
       "  mean: 0.97535, std: 0.01030, params: {'learning_rate': 0.05, 'max_bin': 100, 'max_depth': 5, 'n_estimators': 30, 'num_leaves': 9},\n",
       "  mean: 0.96270, std: 0.01825, params: {'learning_rate': 0.05, 'max_bin': 100, 'max_depth': 5, 'n_estimators': 40, 'num_leaves': 3},\n",
       "  mean: 0.97140, std: 0.01340, params: {'learning_rate': 0.05, 'max_bin': 100, 'max_depth': 5, 'n_estimators': 40, 'num_leaves': 5},\n",
       "  mean: 0.97494, std: 0.01198, params: {'learning_rate': 0.05, 'max_bin': 100, 'max_depth': 5, 'n_estimators': 40, 'num_leaves': 7},\n",
       "  mean: 0.97711, std: 0.01070, params: {'learning_rate': 0.05, 'max_bin': 100, 'max_depth': 5, 'n_estimators': 40, 'num_leaves': 9},\n",
       "  mean: 0.96340, std: 0.01780, params: {'learning_rate': 0.05, 'max_bin': 100, 'max_depth': 5, 'n_estimators': 50, 'num_leaves': 3},\n",
       "  mean: 0.97224, std: 0.01440, params: {'learning_rate': 0.05, 'max_bin': 100, 'max_depth': 5, 'n_estimators': 50, 'num_leaves': 5},\n",
       "  mean: 0.97551, std: 0.01294, params: {'learning_rate': 0.05, 'max_bin': 100, 'max_depth': 5, 'n_estimators': 50, 'num_leaves': 7},\n",
       "  mean: 0.97691, std: 0.01258, params: {'learning_rate': 0.05, 'max_bin': 100, 'max_depth': 5, 'n_estimators': 50, 'num_leaves': 9},\n",
       "  mean: 0.96144, std: 0.01808, params: {'learning_rate': 0.05, 'max_bin': 100, 'max_depth': 7, 'n_estimators': 30, 'num_leaves': 3},\n",
       "  mean: 0.96995, std: 0.01318, params: {'learning_rate': 0.05, 'max_bin': 100, 'max_depth': 7, 'n_estimators': 30, 'num_leaves': 5},\n",
       "  mean: 0.97330, std: 0.01134, params: {'learning_rate': 0.05, 'max_bin': 100, 'max_depth': 7, 'n_estimators': 30, 'num_leaves': 7},\n",
       "  mean: 0.97570, std: 0.01073, params: {'learning_rate': 0.05, 'max_bin': 100, 'max_depth': 7, 'n_estimators': 30, 'num_leaves': 9},\n",
       "  mean: 0.96270, std: 0.01825, params: {'learning_rate': 0.05, 'max_bin': 100, 'max_depth': 7, 'n_estimators': 40, 'num_leaves': 3},\n",
       "  mean: 0.97140, std: 0.01340, params: {'learning_rate': 0.05, 'max_bin': 100, 'max_depth': 7, 'n_estimators': 40, 'num_leaves': 5},\n",
       "  mean: 0.97533, std: 0.01140, params: {'learning_rate': 0.05, 'max_bin': 100, 'max_depth': 7, 'n_estimators': 40, 'num_leaves': 7},\n",
       "  mean: 0.97723, std: 0.01128, params: {'learning_rate': 0.05, 'max_bin': 100, 'max_depth': 7, 'n_estimators': 40, 'num_leaves': 9},\n",
       "  mean: 0.96340, std: 0.01780, params: {'learning_rate': 0.05, 'max_bin': 100, 'max_depth': 7, 'n_estimators': 50, 'num_leaves': 3},\n",
       "  mean: 0.97224, std: 0.01440, params: {'learning_rate': 0.05, 'max_bin': 100, 'max_depth': 7, 'n_estimators': 50, 'num_leaves': 5},\n",
       "  mean: 0.97575, std: 0.01253, params: {'learning_rate': 0.05, 'max_bin': 100, 'max_depth': 7, 'n_estimators': 50, 'num_leaves': 7},\n",
       "  mean: 0.97755, std: 0.01256, params: {'learning_rate': 0.05, 'max_bin': 100, 'max_depth': 7, 'n_estimators': 50, 'num_leaves': 9},\n",
       "  mean: 0.96144, std: 0.01808, params: {'learning_rate': 0.05, 'max_bin': 100, 'max_depth': 8, 'n_estimators': 30, 'num_leaves': 3},\n",
       "  mean: 0.96995, std: 0.01318, params: {'learning_rate': 0.05, 'max_bin': 100, 'max_depth': 8, 'n_estimators': 30, 'num_leaves': 5},\n",
       "  mean: 0.97330, std: 0.01134, params: {'learning_rate': 0.05, 'max_bin': 100, 'max_depth': 8, 'n_estimators': 30, 'num_leaves': 7},\n",
       "  mean: 0.97566, std: 0.01086, params: {'learning_rate': 0.05, 'max_bin': 100, 'max_depth': 8, 'n_estimators': 30, 'num_leaves': 9},\n",
       "  mean: 0.96270, std: 0.01825, params: {'learning_rate': 0.05, 'max_bin': 100, 'max_depth': 8, 'n_estimators': 40, 'num_leaves': 3},\n",
       "  mean: 0.97140, std: 0.01340, params: {'learning_rate': 0.05, 'max_bin': 100, 'max_depth': 8, 'n_estimators': 40, 'num_leaves': 5},\n",
       "  mean: 0.97533, std: 0.01140, params: {'learning_rate': 0.05, 'max_bin': 100, 'max_depth': 8, 'n_estimators': 40, 'num_leaves': 7},\n",
       "  mean: 0.97720, std: 0.01134, params: {'learning_rate': 0.05, 'max_bin': 100, 'max_depth': 8, 'n_estimators': 40, 'num_leaves': 9},\n",
       "  mean: 0.96340, std: 0.01780, params: {'learning_rate': 0.05, 'max_bin': 100, 'max_depth': 8, 'n_estimators': 50, 'num_leaves': 3},\n",
       "  mean: 0.97224, std: 0.01440, params: {'learning_rate': 0.05, 'max_bin': 100, 'max_depth': 8, 'n_estimators': 50, 'num_leaves': 5},\n",
       "  mean: 0.97575, std: 0.01253, params: {'learning_rate': 0.05, 'max_bin': 100, 'max_depth': 8, 'n_estimators': 50, 'num_leaves': 7},\n",
       "  mean: 0.97750, std: 0.01253, params: {'learning_rate': 0.05, 'max_bin': 100, 'max_depth': 8, 'n_estimators': 50, 'num_leaves': 9},\n",
       "  mean: 0.96132, std: 0.01804, params: {'learning_rate': 0.05, 'max_bin': 200, 'max_depth': 4, 'n_estimators': 30, 'num_leaves': 3},\n",
       "  mean: 0.96954, std: 0.01337, params: {'learning_rate': 0.05, 'max_bin': 200, 'max_depth': 4, 'n_estimators': 30, 'num_leaves': 5},\n",
       "  mean: 0.97221, std: 0.01160, params: {'learning_rate': 0.05, 'max_bin': 200, 'max_depth': 4, 'n_estimators': 30, 'num_leaves': 7},\n",
       "  mean: 0.97381, std: 0.01160, params: {'learning_rate': 0.05, 'max_bin': 200, 'max_depth': 4, 'n_estimators': 30, 'num_leaves': 9},\n",
       "  mean: 0.96255, std: 0.01806, params: {'learning_rate': 0.05, 'max_bin': 200, 'max_depth': 4, 'n_estimators': 40, 'num_leaves': 3},\n",
       "  mean: 0.97110, std: 0.01346, params: {'learning_rate': 0.05, 'max_bin': 200, 'max_depth': 4, 'n_estimators': 40, 'num_leaves': 5},\n",
       "  mean: 0.97460, std: 0.01168, params: {'learning_rate': 0.05, 'max_bin': 200, 'max_depth': 4, 'n_estimators': 40, 'num_leaves': 7},\n",
       "  mean: 0.97573, std: 0.01193, params: {'learning_rate': 0.05, 'max_bin': 200, 'max_depth': 4, 'n_estimators': 40, 'num_leaves': 9},\n",
       "  mean: 0.96328, std: 0.01774, params: {'learning_rate': 0.05, 'max_bin': 200, 'max_depth': 4, 'n_estimators': 50, 'num_leaves': 3},\n",
       "  mean: 0.97206, std: 0.01431, params: {'learning_rate': 0.05, 'max_bin': 200, 'max_depth': 4, 'n_estimators': 50, 'num_leaves': 5},\n",
       "  mean: 0.97434, std: 0.01389, params: {'learning_rate': 0.05, 'max_bin': 200, 'max_depth': 4, 'n_estimators': 50, 'num_leaves': 7},\n",
       "  mean: 0.97516, std: 0.01419, params: {'learning_rate': 0.05, 'max_bin': 200, 'max_depth': 4, 'n_estimators': 50, 'num_leaves': 9},\n",
       "  mean: 0.96132, std: 0.01804, params: {'learning_rate': 0.05, 'max_bin': 200, 'max_depth': 5, 'n_estimators': 30, 'num_leaves': 3},\n",
       "  mean: 0.96954, std: 0.01337, params: {'learning_rate': 0.05, 'max_bin': 200, 'max_depth': 5, 'n_estimators': 30, 'num_leaves': 5},\n",
       "  mean: 0.97302, std: 0.01140, params: {'learning_rate': 0.05, 'max_bin': 200, 'max_depth': 5, 'n_estimators': 30, 'num_leaves': 7},\n",
       "  mean: 0.97574, std: 0.01006, params: {'learning_rate': 0.05, 'max_bin': 200, 'max_depth': 5, 'n_estimators': 30, 'num_leaves': 9},\n",
       "  mean: 0.96255, std: 0.01806, params: {'learning_rate': 0.05, 'max_bin': 200, 'max_depth': 5, 'n_estimators': 40, 'num_leaves': 3},\n",
       "  mean: 0.97110, std: 0.01346, params: {'learning_rate': 0.05, 'max_bin': 200, 'max_depth': 5, 'n_estimators': 40, 'num_leaves': 5},\n",
       "  mean: 0.97540, std: 0.01137, params: {'learning_rate': 0.05, 'max_bin': 200, 'max_depth': 5, 'n_estimators': 40, 'num_leaves': 7},\n",
       "  mean: 0.97733, std: 0.01054, params: {'learning_rate': 0.05, 'max_bin': 200, 'max_depth': 5, 'n_estimators': 40, 'num_leaves': 9},\n",
       "  mean: 0.96328, std: 0.01774, params: {'learning_rate': 0.05, 'max_bin': 200, 'max_depth': 5, 'n_estimators': 50, 'num_leaves': 3},\n",
       "  mean: 0.97206, std: 0.01431, params: {'learning_rate': 0.05, 'max_bin': 200, 'max_depth': 5, 'n_estimators': 50, 'num_leaves': 5},\n",
       "  mean: 0.97594, std: 0.01236, params: {'learning_rate': 0.05, 'max_bin': 200, 'max_depth': 5, 'n_estimators': 50, 'num_leaves': 7},\n",
       "  mean: 0.97690, std: 0.01277, params: {'learning_rate': 0.05, 'max_bin': 200, 'max_depth': 5, 'n_estimators': 50, 'num_leaves': 9},\n",
       "  mean: 0.96132, std: 0.01804, params: {'learning_rate': 0.05, 'max_bin': 200, 'max_depth': 7, 'n_estimators': 30, 'num_leaves': 3},\n",
       "  mean: 0.96954, std: 0.01337, params: {'learning_rate': 0.05, 'max_bin': 200, 'max_depth': 7, 'n_estimators': 30, 'num_leaves': 5},\n",
       "  mean: 0.97313, std: 0.01142, params: {'learning_rate': 0.05, 'max_bin': 200, 'max_depth': 7, 'n_estimators': 30, 'num_leaves': 7},\n",
       "  mean: 0.97593, std: 0.01089, params: {'learning_rate': 0.05, 'max_bin': 200, 'max_depth': 7, 'n_estimators': 30, 'num_leaves': 9},\n",
       "  mean: 0.96255, std: 0.01806, params: {'learning_rate': 0.05, 'max_bin': 200, 'max_depth': 7, 'n_estimators': 40, 'num_leaves': 3},\n",
       "  mean: 0.97110, std: 0.01346, params: {'learning_rate': 0.05, 'max_bin': 200, 'max_depth': 7, 'n_estimators': 40, 'num_leaves': 5},\n",
       "  mean: 0.97550, std: 0.01104, params: {'learning_rate': 0.05, 'max_bin': 200, 'max_depth': 7, 'n_estimators': 40, 'num_leaves': 7},\n",
       "  mean: 0.97736, std: 0.01130, params: {'learning_rate': 0.05, 'max_bin': 200, 'max_depth': 7, 'n_estimators': 40, 'num_leaves': 9},\n",
       "  mean: 0.96328, std: 0.01774, params: {'learning_rate': 0.05, 'max_bin': 200, 'max_depth': 7, 'n_estimators': 50, 'num_leaves': 3},\n",
       "  mean: 0.97206, std: 0.01431, params: {'learning_rate': 0.05, 'max_bin': 200, 'max_depth': 7, 'n_estimators': 50, 'num_leaves': 5},\n",
       "  mean: 0.97586, std: 0.01214, params: {'learning_rate': 0.05, 'max_bin': 200, 'max_depth': 7, 'n_estimators': 50, 'num_leaves': 7},\n",
       "  mean: 0.97744, std: 0.01263, params: {'learning_rate': 0.05, 'max_bin': 200, 'max_depth': 7, 'n_estimators': 50, 'num_leaves': 9},\n",
       "  mean: 0.96132, std: 0.01804, params: {'learning_rate': 0.05, 'max_bin': 200, 'max_depth': 8, 'n_estimators': 30, 'num_leaves': 3},\n",
       "  mean: 0.96954, std: 0.01337, params: {'learning_rate': 0.05, 'max_bin': 200, 'max_depth': 8, 'n_estimators': 30, 'num_leaves': 5},\n",
       "  mean: 0.97313, std: 0.01142, params: {'learning_rate': 0.05, 'max_bin': 200, 'max_depth': 8, 'n_estimators': 30, 'num_leaves': 7},\n",
       "  mean: 0.97588, std: 0.01104, params: {'learning_rate': 0.05, 'max_bin': 200, 'max_depth': 8, 'n_estimators': 30, 'num_leaves': 9},\n",
       "  mean: 0.96255, std: 0.01806, params: {'learning_rate': 0.05, 'max_bin': 200, 'max_depth': 8, 'n_estimators': 40, 'num_leaves': 3},\n",
       "  mean: 0.97110, std: 0.01346, params: {'learning_rate': 0.05, 'max_bin': 200, 'max_depth': 8, 'n_estimators': 40, 'num_leaves': 5},\n",
       "  mean: 0.97550, std: 0.01104, params: {'learning_rate': 0.05, 'max_bin': 200, 'max_depth': 8, 'n_estimators': 40, 'num_leaves': 7},\n",
       "  mean: 0.97729, std: 0.01150, params: {'learning_rate': 0.05, 'max_bin': 200, 'max_depth': 8, 'n_estimators': 40, 'num_leaves': 9},\n",
       "  mean: 0.96328, std: 0.01774, params: {'learning_rate': 0.05, 'max_bin': 200, 'max_depth': 8, 'n_estimators': 50, 'num_leaves': 3},\n",
       "  mean: 0.97206, std: 0.01431, params: {'learning_rate': 0.05, 'max_bin': 200, 'max_depth': 8, 'n_estimators': 50, 'num_leaves': 5},\n",
       "  mean: 0.97586, std: 0.01214, params: {'learning_rate': 0.05, 'max_bin': 200, 'max_depth': 8, 'n_estimators': 50, 'num_leaves': 7},\n",
       "  mean: 0.97720, std: 0.01304, params: {'learning_rate': 0.05, 'max_bin': 200, 'max_depth': 8, 'n_estimators': 50, 'num_leaves': 9},\n",
       "  mean: 0.96477, std: 0.01781, params: {'learning_rate': 0.1, 'max_bin': 50, 'max_depth': 4, 'n_estimators': 30, 'num_leaves': 3},\n",
       "  mean: 0.97286, std: 0.01369, params: {'learning_rate': 0.1, 'max_bin': 50, 'max_depth': 4, 'n_estimators': 30, 'num_leaves': 5},\n",
       "  mean: 0.97428, std: 0.01556, params: {'learning_rate': 0.1, 'max_bin': 50, 'max_depth': 4, 'n_estimators': 30, 'num_leaves': 7},\n",
       "  mean: 0.97448, std: 0.01626, params: {'learning_rate': 0.1, 'max_bin': 50, 'max_depth': 4, 'n_estimators': 30, 'num_leaves': 9},\n",
       "  mean: 0.96836, std: 0.01539, params: {'learning_rate': 0.1, 'max_bin': 50, 'max_depth': 4, 'n_estimators': 40, 'num_leaves': 3},\n",
       "  mean: 0.97472, std: 0.01318, params: {'learning_rate': 0.1, 'max_bin': 50, 'max_depth': 4, 'n_estimators': 40, 'num_leaves': 5},\n",
       "  mean: 0.97471, std: 0.01653, params: {'learning_rate': 0.1, 'max_bin': 50, 'max_depth': 4, 'n_estimators': 40, 'num_leaves': 7},\n",
       "  mean: 0.97470, std: 0.01762, params: {'learning_rate': 0.1, 'max_bin': 50, 'max_depth': 4, 'n_estimators': 40, 'num_leaves': 9},\n",
       "  mean: 0.97064, std: 0.01460, params: {'learning_rate': 0.1, 'max_bin': 50, 'max_depth': 4, 'n_estimators': 50, 'num_leaves': 3},\n",
       "  mean: 0.97425, std: 0.01514, params: {'learning_rate': 0.1, 'max_bin': 50, 'max_depth': 4, 'n_estimators': 50, 'num_leaves': 5},\n",
       "  mean: 0.97376, std: 0.01812, params: {'learning_rate': 0.1, 'max_bin': 50, 'max_depth': 4, 'n_estimators': 50, 'num_leaves': 7},\n",
       "  mean: 0.97418, std: 0.01976, params: {'learning_rate': 0.1, 'max_bin': 50, 'max_depth': 4, 'n_estimators': 50, 'num_leaves': 9},\n",
       "  mean: 0.96477, std: 0.01781, params: {'learning_rate': 0.1, 'max_bin': 50, 'max_depth': 5, 'n_estimators': 30, 'num_leaves': 3},\n",
       "  mean: 0.97286, std: 0.01369, params: {'learning_rate': 0.1, 'max_bin': 50, 'max_depth': 5, 'n_estimators': 30, 'num_leaves': 5},\n",
       "  mean: 0.97517, std: 0.01351, params: {'learning_rate': 0.1, 'max_bin': 50, 'max_depth': 5, 'n_estimators': 30, 'num_leaves': 7},\n",
       "  mean: 0.97573, std: 0.01458, params: {'learning_rate': 0.1, 'max_bin': 50, 'max_depth': 5, 'n_estimators': 30, 'num_leaves': 9},\n",
       "  mean: 0.96836, std: 0.01539, params: {'learning_rate': 0.1, 'max_bin': 50, 'max_depth': 5, 'n_estimators': 40, 'num_leaves': 3},\n",
       "  mean: 0.97472, std: 0.01318, params: {'learning_rate': 0.1, 'max_bin': 50, 'max_depth': 5, 'n_estimators': 40, 'num_leaves': 5},\n",
       "  mean: 0.97574, std: 0.01470, params: {'learning_rate': 0.1, 'max_bin': 50, 'max_depth': 5, 'n_estimators': 40, 'num_leaves': 7},\n",
       "  mean: 0.97490, std: 0.01737, params: {'learning_rate': 0.1, 'max_bin': 50, 'max_depth': 5, 'n_estimators': 40, 'num_leaves': 9},\n",
       "  mean: 0.97064, std: 0.01460, params: {'learning_rate': 0.1, 'max_bin': 50, 'max_depth': 5, 'n_estimators': 50, 'num_leaves': 3},\n",
       "  mean: 0.97425, std: 0.01514, params: {'learning_rate': 0.1, 'max_bin': 50, 'max_depth': 5, 'n_estimators': 50, 'num_leaves': 5},\n",
       "  mean: 0.97558, std: 0.01547, params: {'learning_rate': 0.1, 'max_bin': 50, 'max_depth': 5, 'n_estimators': 50, 'num_leaves': 7},\n",
       "  mean: 0.97581, std: 0.01627, params: {'learning_rate': 0.1, 'max_bin': 50, 'max_depth': 5, 'n_estimators': 50, 'num_leaves': 9},\n",
       "  mean: 0.96477, std: 0.01781, params: {'learning_rate': 0.1, 'max_bin': 50, 'max_depth': 7, 'n_estimators': 30, 'num_leaves': 3},\n",
       "  mean: 0.97286, std: 0.01369, params: {'learning_rate': 0.1, 'max_bin': 50, 'max_depth': 7, 'n_estimators': 30, 'num_leaves': 5},\n",
       "  mean: 0.97568, std: 0.01297, params: {'learning_rate': 0.1, 'max_bin': 50, 'max_depth': 7, 'n_estimators': 30, 'num_leaves': 7},\n",
       "  mean: 0.97610, std: 0.01384, params: {'learning_rate': 0.1, 'max_bin': 50, 'max_depth': 7, 'n_estimators': 30, 'num_leaves': 9},\n",
       "  mean: 0.96836, std: 0.01539, params: {'learning_rate': 0.1, 'max_bin': 50, 'max_depth': 7, 'n_estimators': 40, 'num_leaves': 3},\n",
       "  mean: 0.97472, std: 0.01318, params: {'learning_rate': 0.1, 'max_bin': 50, 'max_depth': 7, 'n_estimators': 40, 'num_leaves': 5},\n",
       "  mean: 0.97598, std: 0.01414, params: {'learning_rate': 0.1, 'max_bin': 50, 'max_depth': 7, 'n_estimators': 40, 'num_leaves': 7},\n",
       "  mean: 0.97558, std: 0.01577, params: {'learning_rate': 0.1, 'max_bin': 50, 'max_depth': 7, 'n_estimators': 40, 'num_leaves': 9},\n",
       "  mean: 0.97064, std: 0.01460, params: {'learning_rate': 0.1, 'max_bin': 50, 'max_depth': 7, 'n_estimators': 50, 'num_leaves': 3},\n",
       "  mean: 0.97425, std: 0.01514, params: {'learning_rate': 0.1, 'max_bin': 50, 'max_depth': 7, 'n_estimators': 50, 'num_leaves': 5},\n",
       "  mean: 0.97564, std: 0.01538, params: {'learning_rate': 0.1, 'max_bin': 50, 'max_depth': 7, 'n_estimators': 50, 'num_leaves': 7},\n",
       "  mean: 0.97564, std: 0.01600, params: {'learning_rate': 0.1, 'max_bin': 50, 'max_depth': 7, 'n_estimators': 50, 'num_leaves': 9},\n",
       "  mean: 0.96477, std: 0.01781, params: {'learning_rate': 0.1, 'max_bin': 50, 'max_depth': 8, 'n_estimators': 30, 'num_leaves': 3},\n",
       "  mean: 0.97286, std: 0.01369, params: {'learning_rate': 0.1, 'max_bin': 50, 'max_depth': 8, 'n_estimators': 30, 'num_leaves': 5},\n",
       "  mean: 0.97568, std: 0.01297, params: {'learning_rate': 0.1, 'max_bin': 50, 'max_depth': 8, 'n_estimators': 30, 'num_leaves': 7},\n",
       "  mean: 0.97603, std: 0.01411, params: {'learning_rate': 0.1, 'max_bin': 50, 'max_depth': 8, 'n_estimators': 30, 'num_leaves': 9},\n",
       "  mean: 0.96836, std: 0.01539, params: {'learning_rate': 0.1, 'max_bin': 50, 'max_depth': 8, 'n_estimators': 40, 'num_leaves': 3},\n",
       "  mean: 0.97472, std: 0.01318, params: {'learning_rate': 0.1, 'max_bin': 50, 'max_depth': 8, 'n_estimators': 40, 'num_leaves': 5},\n",
       "  mean: 0.97598, std: 0.01414, params: {'learning_rate': 0.1, 'max_bin': 50, 'max_depth': 8, 'n_estimators': 40, 'num_leaves': 7},\n",
       "  mean: 0.97519, std: 0.01654, params: {'learning_rate': 0.1, 'max_bin': 50, 'max_depth': 8, 'n_estimators': 40, 'num_leaves': 9},\n",
       "  mean: 0.97064, std: 0.01460, params: {'learning_rate': 0.1, 'max_bin': 50, 'max_depth': 8, 'n_estimators': 50, 'num_leaves': 3},\n",
       "  mean: 0.97425, std: 0.01514, params: {'learning_rate': 0.1, 'max_bin': 50, 'max_depth': 8, 'n_estimators': 50, 'num_leaves': 5},\n",
       "  mean: 0.97564, std: 0.01538, params: {'learning_rate': 0.1, 'max_bin': 50, 'max_depth': 8, 'n_estimators': 50, 'num_leaves': 7},\n",
       "  mean: 0.97589, std: 0.01616, params: {'learning_rate': 0.1, 'max_bin': 50, 'max_depth': 8, 'n_estimators': 50, 'num_leaves': 9},\n",
       "  mean: 0.96487, std: 0.01800, params: {'learning_rate': 0.1, 'max_bin': 100, 'max_depth': 4, 'n_estimators': 30, 'num_leaves': 3},\n",
       "  mean: 0.97271, std: 0.01423, params: {'learning_rate': 0.1, 'max_bin': 100, 'max_depth': 4, 'n_estimators': 30, 'num_leaves': 5},\n",
       "  mean: 0.97515, std: 0.01393, params: {'learning_rate': 0.1, 'max_bin': 100, 'max_depth': 4, 'n_estimators': 30, 'num_leaves': 7},\n",
       "  mean: 0.97480, std: 0.01612, params: {'learning_rate': 0.1, 'max_bin': 100, 'max_depth': 4, 'n_estimators': 30, 'num_leaves': 9},\n",
       "  mean: 0.96850, std: 0.01558, params: {'learning_rate': 0.1, 'max_bin': 100, 'max_depth': 4, 'n_estimators': 40, 'num_leaves': 3},\n",
       "  mean: 0.97389, std: 0.01441, params: {'learning_rate': 0.1, 'max_bin': 100, 'max_depth': 4, 'n_estimators': 40, 'num_leaves': 5},\n",
       "  mean: 0.97585, std: 0.01492, params: {'learning_rate': 0.1, 'max_bin': 100, 'max_depth': 4, 'n_estimators': 40, 'num_leaves': 7},\n",
       "  mean: 0.97528, std: 0.01718, params: {'learning_rate': 0.1, 'max_bin': 100, 'max_depth': 4, 'n_estimators': 40, 'num_leaves': 9},\n",
       "  mean: 0.97047, std: 0.01494, params: {'learning_rate': 0.1, 'max_bin': 100, 'max_depth': 4, 'n_estimators': 50, 'num_leaves': 3},\n",
       "  mean: 0.97446, std: 0.01500, params: {'learning_rate': 0.1, 'max_bin': 100, 'max_depth': 4, 'n_estimators': 50, 'num_leaves': 5},\n",
       "  mean: 0.97525, std: 0.01695, params: {'learning_rate': 0.1, 'max_bin': 100, 'max_depth': 4, 'n_estimators': 50, 'num_leaves': 7},\n",
       "  mean: 0.97445, std: 0.01980, params: {'learning_rate': 0.1, 'max_bin': 100, 'max_depth': 4, 'n_estimators': 50, 'num_leaves': 9},\n",
       "  mean: 0.96487, std: 0.01800, params: {'learning_rate': 0.1, 'max_bin': 100, 'max_depth': 5, 'n_estimators': 30, 'num_leaves': 3},\n",
       "  mean: 0.97271, std: 0.01423, params: {'learning_rate': 0.1, 'max_bin': 100, 'max_depth': 5, 'n_estimators': 30, 'num_leaves': 5},\n",
       "  mean: 0.97533, std: 0.01426, params: {'learning_rate': 0.1, 'max_bin': 100, 'max_depth': 5, 'n_estimators': 30, 'num_leaves': 7},\n",
       "  mean: 0.97528, std: 0.01519, params: {'learning_rate': 0.1, 'max_bin': 100, 'max_depth': 5, 'n_estimators': 30, 'num_leaves': 9},\n",
       "  mean: 0.96850, std: 0.01558, params: {'learning_rate': 0.1, 'max_bin': 100, 'max_depth': 5, 'n_estimators': 40, 'num_leaves': 3},\n",
       "  mean: 0.97389, std: 0.01441, params: {'learning_rate': 0.1, 'max_bin': 100, 'max_depth': 5, 'n_estimators': 40, 'num_leaves': 5},\n",
       "  mean: 0.97569, std: 0.01508, params: {'learning_rate': 0.1, 'max_bin': 100, 'max_depth': 5, 'n_estimators': 40, 'num_leaves': 7},\n",
       "  mean: 0.97522, std: 0.01700, params: {'learning_rate': 0.1, 'max_bin': 100, 'max_depth': 5, 'n_estimators': 40, 'num_leaves': 9},\n",
       "  mean: 0.97047, std: 0.01494, params: {'learning_rate': 0.1, 'max_bin': 100, 'max_depth': 5, 'n_estimators': 50, 'num_leaves': 3},\n",
       "  mean: 0.97446, std: 0.01500, params: {'learning_rate': 0.1, 'max_bin': 100, 'max_depth': 5, 'n_estimators': 50, 'num_leaves': 5},\n",
       "  mean: 0.97598, std: 0.01552, params: {'learning_rate': 0.1, 'max_bin': 100, 'max_depth': 5, 'n_estimators': 50, 'num_leaves': 7},\n",
       "  mean: 0.97515, std: 0.01825, params: {'learning_rate': 0.1, 'max_bin': 100, 'max_depth': 5, 'n_estimators': 50, 'num_leaves': 9},\n",
       "  mean: 0.96487, std: 0.01800, params: {'learning_rate': 0.1, 'max_bin': 100, 'max_depth': 7, 'n_estimators': 30, 'num_leaves': 3},\n",
       "  mean: 0.97271, std: 0.01423, params: {'learning_rate': 0.1, 'max_bin': 100, 'max_depth': 7, 'n_estimators': 30, 'num_leaves': 5},\n",
       "  mean: 0.97549, std: 0.01358, params: {'learning_rate': 0.1, 'max_bin': 100, 'max_depth': 7, 'n_estimators': 30, 'num_leaves': 7},\n",
       "  mean: 0.97686, std: 0.01320, params: {'learning_rate': 0.1, 'max_bin': 100, 'max_depth': 7, 'n_estimators': 30, 'num_leaves': 9},\n",
       "  mean: 0.96850, std: 0.01558, params: {'learning_rate': 0.1, 'max_bin': 100, 'max_depth': 7, 'n_estimators': 40, 'num_leaves': 3},\n",
       "  mean: 0.97389, std: 0.01441, params: {'learning_rate': 0.1, 'max_bin': 100, 'max_depth': 7, 'n_estimators': 40, 'num_leaves': 5},\n",
       "  mean: 0.97637, std: 0.01427, params: {'learning_rate': 0.1, 'max_bin': 100, 'max_depth': 7, 'n_estimators': 40, 'num_leaves': 7},\n",
       "  mean: 0.97617, std: 0.01549, params: {'learning_rate': 0.1, 'max_bin': 100, 'max_depth': 7, 'n_estimators': 40, 'num_leaves': 9},\n",
       "  mean: 0.97047, std: 0.01494, params: {'learning_rate': 0.1, 'max_bin': 100, 'max_depth': 7, 'n_estimators': 50, 'num_leaves': 3},\n",
       "  mean: 0.97446, std: 0.01500, params: {'learning_rate': 0.1, 'max_bin': 100, 'max_depth': 7, 'n_estimators': 50, 'num_leaves': 5},\n",
       "  mean: 0.97576, std: 0.01620, params: {'learning_rate': 0.1, 'max_bin': 100, 'max_depth': 7, 'n_estimators': 50, 'num_leaves': 7},\n",
       "  mean: 0.97587, std: 0.01609, params: {'learning_rate': 0.1, 'max_bin': 100, 'max_depth': 7, 'n_estimators': 50, 'num_leaves': 9},\n",
       "  mean: 0.96487, std: 0.01800, params: {'learning_rate': 0.1, 'max_bin': 100, 'max_depth': 8, 'n_estimators': 30, 'num_leaves': 3},\n",
       "  mean: 0.97271, std: 0.01423, params: {'learning_rate': 0.1, 'max_bin': 100, 'max_depth': 8, 'n_estimators': 30, 'num_leaves': 5},\n",
       "  mean: 0.97549, std: 0.01358, params: {'learning_rate': 0.1, 'max_bin': 100, 'max_depth': 8, 'n_estimators': 30, 'num_leaves': 7},\n",
       "  mean: 0.97659, std: 0.01321, params: {'learning_rate': 0.1, 'max_bin': 100, 'max_depth': 8, 'n_estimators': 30, 'num_leaves': 9},\n",
       "  mean: 0.96850, std: 0.01558, params: {'learning_rate': 0.1, 'max_bin': 100, 'max_depth': 8, 'n_estimators': 40, 'num_leaves': 3},\n",
       "  mean: 0.97389, std: 0.01441, params: {'learning_rate': 0.1, 'max_bin': 100, 'max_depth': 8, 'n_estimators': 40, 'num_leaves': 5},\n",
       "  mean: 0.97637, std: 0.01427, params: {'learning_rate': 0.1, 'max_bin': 100, 'max_depth': 8, 'n_estimators': 40, 'num_leaves': 7},\n",
       "  mean: 0.97620, std: 0.01527, params: {'learning_rate': 0.1, 'max_bin': 100, 'max_depth': 8, 'n_estimators': 40, 'num_leaves': 9},\n",
       "  mean: 0.97047, std: 0.01494, params: {'learning_rate': 0.1, 'max_bin': 100, 'max_depth': 8, 'n_estimators': 50, 'num_leaves': 3},\n",
       "  mean: 0.97446, std: 0.01500, params: {'learning_rate': 0.1, 'max_bin': 100, 'max_depth': 8, 'n_estimators': 50, 'num_leaves': 5},\n",
       "  mean: 0.97576, std: 0.01620, params: {'learning_rate': 0.1, 'max_bin': 100, 'max_depth': 8, 'n_estimators': 50, 'num_leaves': 7},\n",
       "  mean: 0.97620, std: 0.01650, params: {'learning_rate': 0.1, 'max_bin': 100, 'max_depth': 8, 'n_estimators': 50, 'num_leaves': 9},\n",
       "  mean: 0.96550, std: 0.01739, params: {'learning_rate': 0.1, 'max_bin': 200, 'max_depth': 4, 'n_estimators': 30, 'num_leaves': 3},\n",
       "  mean: 0.97281, std: 0.01467, params: {'learning_rate': 0.1, 'max_bin': 200, 'max_depth': 4, 'n_estimators': 30, 'num_leaves': 5},\n",
       "  mean: 0.97454, std: 0.01572, params: {'learning_rate': 0.1, 'max_bin': 200, 'max_depth': 4, 'n_estimators': 30, 'num_leaves': 7},\n",
       "  mean: 0.97492, std: 0.01638, params: {'learning_rate': 0.1, 'max_bin': 200, 'max_depth': 4, 'n_estimators': 30, 'num_leaves': 9},\n",
       "  mean: 0.96834, std: 0.01584, params: {'learning_rate': 0.1, 'max_bin': 200, 'max_depth': 4, 'n_estimators': 40, 'num_leaves': 3},\n",
       "  mean: 0.97491, std: 0.01362, params: {'learning_rate': 0.1, 'max_bin': 200, 'max_depth': 4, 'n_estimators': 40, 'num_leaves': 5},\n",
       "  mean: 0.97511, std: 0.01627, params: {'learning_rate': 0.1, 'max_bin': 200, 'max_depth': 4, 'n_estimators': 40, 'num_leaves': 7},\n",
       "  mean: 0.97548, std: 0.01712, params: {'learning_rate': 0.1, 'max_bin': 200, 'max_depth': 4, 'n_estimators': 40, 'num_leaves': 9},\n",
       "  mean: 0.97049, std: 0.01505, params: {'learning_rate': 0.1, 'max_bin': 200, 'max_depth': 4, 'n_estimators': 50, 'num_leaves': 3},\n",
       "  mean: 0.97493, std: 0.01510, params: {'learning_rate': 0.1, 'max_bin': 200, 'max_depth': 4, 'n_estimators': 50, 'num_leaves': 5},\n",
       "  mean: 0.97454, std: 0.01837, params: {'learning_rate': 0.1, 'max_bin': 200, 'max_depth': 4, 'n_estimators': 50, 'num_leaves': 7},\n",
       "  mean: 0.97490, std: 0.01869, params: {'learning_rate': 0.1, 'max_bin': 200, 'max_depth': 4, 'n_estimators': 50, 'num_leaves': 9},\n",
       "  mean: 0.96550, std: 0.01739, params: {'learning_rate': 0.1, 'max_bin': 200, 'max_depth': 5, 'n_estimators': 30, 'num_leaves': 3},\n",
       "  mean: 0.97281, std: 0.01467, params: {'learning_rate': 0.1, 'max_bin': 200, 'max_depth': 5, 'n_estimators': 30, 'num_leaves': 5},\n",
       "  mean: 0.97558, std: 0.01330, params: {'learning_rate': 0.1, 'max_bin': 200, 'max_depth': 5, 'n_estimators': 30, 'num_leaves': 7},\n",
       "  mean: 0.97517, std: 0.01533, params: {'learning_rate': 0.1, 'max_bin': 200, 'max_depth': 5, 'n_estimators': 30, 'num_leaves': 9},\n",
       "  mean: 0.96834, std: 0.01584, params: {'learning_rate': 0.1, 'max_bin': 200, 'max_depth': 5, 'n_estimators': 40, 'num_leaves': 3},\n",
       "  mean: 0.97491, std: 0.01362, params: {'learning_rate': 0.1, 'max_bin': 200, 'max_depth': 5, 'n_estimators': 40, 'num_leaves': 5},\n",
       "  mean: 0.97572, std: 0.01486, params: {'learning_rate': 0.1, 'max_bin': 200, 'max_depth': 5, 'n_estimators': 40, 'num_leaves': 7},\n",
       "  mean: 0.97555, std: 0.01665, params: {'learning_rate': 0.1, 'max_bin': 200, 'max_depth': 5, 'n_estimators': 40, 'num_leaves': 9},\n",
       "  mean: 0.97049, std: 0.01505, params: {'learning_rate': 0.1, 'max_bin': 200, 'max_depth': 5, 'n_estimators': 50, 'num_leaves': 3},\n",
       "  mean: 0.97493, std: 0.01510, params: {'learning_rate': 0.1, 'max_bin': 200, 'max_depth': 5, 'n_estimators': 50, 'num_leaves': 5},\n",
       "  mean: 0.97594, std: 0.01529, params: {'learning_rate': 0.1, 'max_bin': 200, 'max_depth': 5, 'n_estimators': 50, 'num_leaves': 7},\n",
       "  mean: 0.97586, std: 0.01687, params: {'learning_rate': 0.1, 'max_bin': 200, 'max_depth': 5, 'n_estimators': 50, 'num_leaves': 9},\n",
       "  mean: 0.96550, std: 0.01739, params: {'learning_rate': 0.1, 'max_bin': 200, 'max_depth': 7, 'n_estimators': 30, 'num_leaves': 3},\n",
       "  mean: 0.97281, std: 0.01467, params: {'learning_rate': 0.1, 'max_bin': 200, 'max_depth': 7, 'n_estimators': 30, 'num_leaves': 5},\n",
       "  mean: 0.97597, std: 0.01275, params: {'learning_rate': 0.1, 'max_bin': 200, 'max_depth': 7, 'n_estimators': 30, 'num_leaves': 7},\n",
       "  mean: 0.97632, std: 0.01400, params: {'learning_rate': 0.1, 'max_bin': 200, 'max_depth': 7, 'n_estimators': 30, 'num_leaves': 9},\n",
       "  mean: 0.96834, std: 0.01584, params: {'learning_rate': 0.1, 'max_bin': 200, 'max_depth': 7, 'n_estimators': 40, 'num_leaves': 3},\n",
       "  mean: 0.97491, std: 0.01362, params: {'learning_rate': 0.1, 'max_bin': 200, 'max_depth': 7, 'n_estimators': 40, 'num_leaves': 5},\n",
       "  mean: 0.97603, std: 0.01434, params: {'learning_rate': 0.1, 'max_bin': 200, 'max_depth': 7, 'n_estimators': 40, 'num_leaves': 7},\n",
       "  mean: 0.97561, std: 0.01628, params: {'learning_rate': 0.1, 'max_bin': 200, 'max_depth': 7, 'n_estimators': 40, 'num_leaves': 9},\n",
       "  mean: 0.97049, std: 0.01505, params: {'learning_rate': 0.1, 'max_bin': 200, 'max_depth': 7, 'n_estimators': 50, 'num_leaves': 3},\n",
       "  mean: 0.97493, std: 0.01510, params: {'learning_rate': 0.1, 'max_bin': 200, 'max_depth': 7, 'n_estimators': 50, 'num_leaves': 5},\n",
       "  mean: 0.97590, std: 0.01579, params: {'learning_rate': 0.1, 'max_bin': 200, 'max_depth': 7, 'n_estimators': 50, 'num_leaves': 7},\n",
       "  mean: 0.97566, std: 0.01665, params: {'learning_rate': 0.1, 'max_bin': 200, 'max_depth': 7, 'n_estimators': 50, 'num_leaves': 9},\n",
       "  mean: 0.96550, std: 0.01739, params: {'learning_rate': 0.1, 'max_bin': 200, 'max_depth': 8, 'n_estimators': 30, 'num_leaves': 3},\n",
       "  mean: 0.97281, std: 0.01467, params: {'learning_rate': 0.1, 'max_bin': 200, 'max_depth': 8, 'n_estimators': 30, 'num_leaves': 5},\n",
       "  mean: 0.97597, std: 0.01275, params: {'learning_rate': 0.1, 'max_bin': 200, 'max_depth': 8, 'n_estimators': 30, 'num_leaves': 7},\n",
       "  mean: 0.97671, std: 0.01346, params: {'learning_rate': 0.1, 'max_bin': 200, 'max_depth': 8, 'n_estimators': 30, 'num_leaves': 9},\n",
       "  mean: 0.96834, std: 0.01584, params: {'learning_rate': 0.1, 'max_bin': 200, 'max_depth': 8, 'n_estimators': 40, 'num_leaves': 3},\n",
       "  mean: 0.97491, std: 0.01362, params: {'learning_rate': 0.1, 'max_bin': 200, 'max_depth': 8, 'n_estimators': 40, 'num_leaves': 5},\n",
       "  mean: 0.97603, std: 0.01434, params: {'learning_rate': 0.1, 'max_bin': 200, 'max_depth': 8, 'n_estimators': 40, 'num_leaves': 7},\n",
       "  mean: 0.97622, std: 0.01513, params: {'learning_rate': 0.1, 'max_bin': 200, 'max_depth': 8, 'n_estimators': 40, 'num_leaves': 9},\n",
       "  mean: 0.97049, std: 0.01505, params: {'learning_rate': 0.1, 'max_bin': 200, 'max_depth': 8, 'n_estimators': 50, 'num_leaves': 3},\n",
       "  mean: 0.97493, std: 0.01510, params: {'learning_rate': 0.1, 'max_bin': 200, 'max_depth': 8, 'n_estimators': 50, 'num_leaves': 5},\n",
       "  mean: 0.97590, std: 0.01579, params: {'learning_rate': 0.1, 'max_bin': 200, 'max_depth': 8, 'n_estimators': 50, 'num_leaves': 7},\n",
       "  mean: 0.97678, std: 0.01484, params: {'learning_rate': 0.1, 'max_bin': 200, 'max_depth': 8, 'n_estimators': 50, 'num_leaves': 9},\n",
       "  mean: 0.97187, std: 0.02364, params: {'learning_rate': 1, 'max_bin': 50, 'max_depth': 4, 'n_estimators': 30, 'num_leaves': 3},\n",
       "  mean: 0.95960, std: 0.03402, params: {'learning_rate': 1, 'max_bin': 50, 'max_depth': 4, 'n_estimators': 30, 'num_leaves': 5},\n",
       "  mean: 0.96003, std: 0.02825, params: {'learning_rate': 1, 'max_bin': 50, 'max_depth': 4, 'n_estimators': 30, 'num_leaves': 7},\n",
       "  mean: 0.96414, std: 0.02413, params: {'learning_rate': 1, 'max_bin': 50, 'max_depth': 4, 'n_estimators': 30, 'num_leaves': 9},\n",
       "  mean: 0.96674, std: 0.02378, params: {'learning_rate': 1, 'max_bin': 50, 'max_depth': 4, 'n_estimators': 40, 'num_leaves': 3},\n",
       "  mean: 0.95982, std: 0.02724, params: {'learning_rate': 1, 'max_bin': 50, 'max_depth': 4, 'n_estimators': 40, 'num_leaves': 5},\n",
       "  mean: 0.96262, std: 0.02379, params: {'learning_rate': 1, 'max_bin': 50, 'max_depth': 4, 'n_estimators': 40, 'num_leaves': 7},\n",
       "  mean: 0.95774, std: 0.02728, params: {'learning_rate': 1, 'max_bin': 50, 'max_depth': 4, 'n_estimators': 40, 'num_leaves': 9},\n",
       "  mean: 0.96243, std: 0.03273, params: {'learning_rate': 1, 'max_bin': 50, 'max_depth': 4, 'n_estimators': 50, 'num_leaves': 3},\n",
       "  mean: 0.96108, std: 0.02414, params: {'learning_rate': 1, 'max_bin': 50, 'max_depth': 4, 'n_estimators': 50, 'num_leaves': 5},\n",
       "  mean: 0.95992, std: 0.02883, params: {'learning_rate': 1, 'max_bin': 50, 'max_depth': 4, 'n_estimators': 50, 'num_leaves': 7},\n",
       "  mean: 0.95427, std: 0.02862, params: {'learning_rate': 1, 'max_bin': 50, 'max_depth': 4, 'n_estimators': 50, 'num_leaves': 9},\n",
       "  mean: 0.97187, std: 0.02364, params: {'learning_rate': 1, 'max_bin': 50, 'max_depth': 5, 'n_estimators': 30, 'num_leaves': 3},\n",
       "  mean: 0.95960, std: 0.03402, params: {'learning_rate': 1, 'max_bin': 50, 'max_depth': 5, 'n_estimators': 30, 'num_leaves': 5},\n",
       "  mean: 0.96330, std: 0.02874, params: {'learning_rate': 1, 'max_bin': 50, 'max_depth': 5, 'n_estimators': 30, 'num_leaves': 7},\n",
       "  mean: 0.96231, std: 0.01968, params: {'learning_rate': 1, 'max_bin': 50, 'max_depth': 5, 'n_estimators': 30, 'num_leaves': 9},\n",
       "  mean: 0.96674, std: 0.02378, params: {'learning_rate': 1, 'max_bin': 50, 'max_depth': 5, 'n_estimators': 40, 'num_leaves': 3},\n",
       "  mean: 0.95982, std: 0.02724, params: {'learning_rate': 1, 'max_bin': 50, 'max_depth': 5, 'n_estimators': 40, 'num_leaves': 5},\n",
       "  mean: 0.96322, std: 0.02449, params: {'learning_rate': 1, 'max_bin': 50, 'max_depth': 5, 'n_estimators': 40, 'num_leaves': 7},\n",
       "  mean: 0.95976, std: 0.01978, params: {'learning_rate': 1, 'max_bin': 50, 'max_depth': 5, 'n_estimators': 40, 'num_leaves': 9},\n",
       "  mean: 0.96243, std: 0.03273, params: {'learning_rate': 1, 'max_bin': 50, 'max_depth': 5, 'n_estimators': 50, 'num_leaves': 3},\n",
       "  mean: 0.96108, std: 0.02414, params: {'learning_rate': 1, 'max_bin': 50, 'max_depth': 5, 'n_estimators': 50, 'num_leaves': 5},\n",
       "  mean: 0.95508, std: 0.03187, params: {'learning_rate': 1, 'max_bin': 50, 'max_depth': 5, 'n_estimators': 50, 'num_leaves': 7},\n",
       "  mean: 0.95685, std: 0.02619, params: {'learning_rate': 1, 'max_bin': 50, 'max_depth': 5, 'n_estimators': 50, 'num_leaves': 9},\n",
       "  mean: 0.97187, std: 0.02364, params: {'learning_rate': 1, 'max_bin': 50, 'max_depth': 7, 'n_estimators': 30, 'num_leaves': 3},\n",
       "  mean: 0.95960, std: 0.03402, params: {'learning_rate': 1, 'max_bin': 50, 'max_depth': 7, 'n_estimators': 30, 'num_leaves': 5},\n",
       "  mean: 0.96366, std: 0.02609, params: {'learning_rate': 1, 'max_bin': 50, 'max_depth': 7, 'n_estimators': 30, 'num_leaves': 7},\n",
       "  mean: 0.95741, std: 0.03060, params: {'learning_rate': 1, 'max_bin': 50, 'max_depth': 7, 'n_estimators': 30, 'num_leaves': 9},\n",
       "  mean: 0.96674, std: 0.02378, params: {'learning_rate': 1, 'max_bin': 50, 'max_depth': 7, 'n_estimators': 40, 'num_leaves': 3},\n",
       "  mean: 0.95982, std: 0.02724, params: {'learning_rate': 1, 'max_bin': 50, 'max_depth': 7, 'n_estimators': 40, 'num_leaves': 5},\n",
       "  mean: 0.95887, std: 0.03080, params: {'learning_rate': 1, 'max_bin': 50, 'max_depth': 7, 'n_estimators': 40, 'num_leaves': 7},\n",
       "  mean: 0.95427, std: 0.03078, params: {'learning_rate': 1, 'max_bin': 50, 'max_depth': 7, 'n_estimators': 40, 'num_leaves': 9},\n",
       "  mean: 0.96243, std: 0.03273, params: {'learning_rate': 1, 'max_bin': 50, 'max_depth': 7, 'n_estimators': 50, 'num_leaves': 3},\n",
       "  mean: 0.96108, std: 0.02414, params: {'learning_rate': 1, 'max_bin': 50, 'max_depth': 7, 'n_estimators': 50, 'num_leaves': 5},\n",
       "  mean: 0.95971, std: 0.03074, params: {'learning_rate': 1, 'max_bin': 50, 'max_depth': 7, 'n_estimators': 50, 'num_leaves': 7},\n",
       "  mean: 0.95623, std: 0.02916, params: {'learning_rate': 1, 'max_bin': 50, 'max_depth': 7, 'n_estimators': 50, 'num_leaves': 9},\n",
       "  mean: 0.97187, std: 0.02364, params: {'learning_rate': 1, 'max_bin': 50, 'max_depth': 8, 'n_estimators': 30, 'num_leaves': 3},\n",
       "  mean: 0.95960, std: 0.03402, params: {'learning_rate': 1, 'max_bin': 50, 'max_depth': 8, 'n_estimators': 30, 'num_leaves': 5},\n",
       "  mean: 0.96366, std: 0.02609, params: {'learning_rate': 1, 'max_bin': 50, 'max_depth': 8, 'n_estimators': 30, 'num_leaves': 7},\n",
       "  mean: 0.96120, std: 0.02519, params: {'learning_rate': 1, 'max_bin': 50, 'max_depth': 8, 'n_estimators': 30, 'num_leaves': 9},\n",
       "  mean: 0.96674, std: 0.02378, params: {'learning_rate': 1, 'max_bin': 50, 'max_depth': 8, 'n_estimators': 40, 'num_leaves': 3},\n",
       "  mean: 0.95982, std: 0.02724, params: {'learning_rate': 1, 'max_bin': 50, 'max_depth': 8, 'n_estimators': 40, 'num_leaves': 5},\n",
       "  mean: 0.95887, std: 0.03080, params: {'learning_rate': 1, 'max_bin': 50, 'max_depth': 8, 'n_estimators': 40, 'num_leaves': 7},\n",
       "  mean: 0.95677, std: 0.02238, params: {'learning_rate': 1, 'max_bin': 50, 'max_depth': 8, 'n_estimators': 40, 'num_leaves': 9},\n",
       "  mean: 0.96243, std: 0.03273, params: {'learning_rate': 1, 'max_bin': 50, 'max_depth': 8, 'n_estimators': 50, 'num_leaves': 3},\n",
       "  mean: 0.96108, std: 0.02414, params: {'learning_rate': 1, 'max_bin': 50, 'max_depth': 8, 'n_estimators': 50, 'num_leaves': 5},\n",
       "  mean: 0.95971, std: 0.03074, params: {'learning_rate': 1, 'max_bin': 50, 'max_depth': 8, 'n_estimators': 50, 'num_leaves': 7},\n",
       "  mean: 0.95383, std: 0.02412, params: {'learning_rate': 1, 'max_bin': 50, 'max_depth': 8, 'n_estimators': 50, 'num_leaves': 9},\n",
       "  mean: 0.96749, std: 0.03058, params: {'learning_rate': 1, 'max_bin': 100, 'max_depth': 4, 'n_estimators': 30, 'num_leaves': 3},\n",
       "  mean: 0.96410, std: 0.02533, params: {'learning_rate': 1, 'max_bin': 100, 'max_depth': 4, 'n_estimators': 30, 'num_leaves': 5},\n",
       "  mean: 0.95494, std: 0.03516, params: {'learning_rate': 1, 'max_bin': 100, 'max_depth': 4, 'n_estimators': 30, 'num_leaves': 7},\n",
       "  mean: 0.96372, std: 0.02704, params: {'learning_rate': 1, 'max_bin': 100, 'max_depth': 4, 'n_estimators': 30, 'num_leaves': 9},\n",
       "  mean: 0.96758, std: 0.02751, params: {'learning_rate': 1, 'max_bin': 100, 'max_depth': 4, 'n_estimators': 40, 'num_leaves': 3},\n",
       "  mean: 0.96491, std: 0.02762, params: {'learning_rate': 1, 'max_bin': 100, 'max_depth': 4, 'n_estimators': 40, 'num_leaves': 5},\n",
       "  mean: 0.95523, std: 0.03323, params: {'learning_rate': 1, 'max_bin': 100, 'max_depth': 4, 'n_estimators': 40, 'num_leaves': 7},\n",
       "  mean: 0.95809, std: 0.02478, params: {'learning_rate': 1, 'max_bin': 100, 'max_depth': 4, 'n_estimators': 40, 'num_leaves': 9},\n",
       "  mean: 0.96327, std: 0.03419, params: {'learning_rate': 1, 'max_bin': 100, 'max_depth': 4, 'n_estimators': 50, 'num_leaves': 3},\n",
       "  mean: 0.96698, std: 0.02401, params: {'learning_rate': 1, 'max_bin': 100, 'max_depth': 4, 'n_estimators': 50, 'num_leaves': 5},\n",
       "  mean: 0.95518, std: 0.03035, params: {'learning_rate': 1, 'max_bin': 100, 'max_depth': 4, 'n_estimators': 50, 'num_leaves': 7},\n",
       "  mean: 0.95631, std: 0.02461, params: {'learning_rate': 1, 'max_bin': 100, 'max_depth': 4, 'n_estimators': 50, 'num_leaves': 9},\n",
       "  mean: 0.96749, std: 0.03058, params: {'learning_rate': 1, 'max_bin': 100, 'max_depth': 5, 'n_estimators': 30, 'num_leaves': 3},\n",
       "  mean: 0.96410, std: 0.02533, params: {'learning_rate': 1, 'max_bin': 100, 'max_depth': 5, 'n_estimators': 30, 'num_leaves': 5},\n",
       "  mean: 0.96242, std: 0.02379, params: {'learning_rate': 1, 'max_bin': 100, 'max_depth': 5, 'n_estimators': 30, 'num_leaves': 7},\n",
       "  mean: 0.96012, std: 0.02812, params: {'learning_rate': 1, 'max_bin': 100, 'max_depth': 5, 'n_estimators': 30, 'num_leaves': 9},\n",
       "  mean: 0.96758, std: 0.02751, params: {'learning_rate': 1, 'max_bin': 100, 'max_depth': 5, 'n_estimators': 40, 'num_leaves': 3},\n",
       "  mean: 0.96491, std: 0.02762, params: {'learning_rate': 1, 'max_bin': 100, 'max_depth': 5, 'n_estimators': 40, 'num_leaves': 5},\n",
       "  mean: 0.96297, std: 0.02051, params: {'learning_rate': 1, 'max_bin': 100, 'max_depth': 5, 'n_estimators': 40, 'num_leaves': 7},\n",
       "  mean: 0.95038, std: 0.03848, params: {'learning_rate': 1, 'max_bin': 100, 'max_depth': 5, 'n_estimators': 40, 'num_leaves': 9},\n",
       "  mean: 0.96327, std: 0.03419, params: {'learning_rate': 1, 'max_bin': 100, 'max_depth': 5, 'n_estimators': 50, 'num_leaves': 3},\n",
       "  mean: 0.96698, std: 0.02401, params: {'learning_rate': 1, 'max_bin': 100, 'max_depth': 5, 'n_estimators': 50, 'num_leaves': 5},\n",
       "  mean: 0.96096, std: 0.02489, params: {'learning_rate': 1, 'max_bin': 100, 'max_depth': 5, 'n_estimators': 50, 'num_leaves': 7},\n",
       "  mean: 0.95146, std: 0.03594, params: {'learning_rate': 1, 'max_bin': 100, 'max_depth': 5, 'n_estimators': 50, 'num_leaves': 9},\n",
       "  mean: 0.96749, std: 0.03058, params: {'learning_rate': 1, 'max_bin': 100, 'max_depth': 7, 'n_estimators': 30, 'num_leaves': 3},\n",
       "  mean: 0.96410, std: 0.02533, params: {'learning_rate': 1, 'max_bin': 100, 'max_depth': 7, 'n_estimators': 30, 'num_leaves': 5},\n",
       "  mean: 0.96066, std: 0.02353, params: {'learning_rate': 1, 'max_bin': 100, 'max_depth': 7, 'n_estimators': 30, 'num_leaves': 7},\n",
       "  mean: 0.95420, std: 0.03374, params: {'learning_rate': 1, 'max_bin': 100, 'max_depth': 7, 'n_estimators': 30, 'num_leaves': 9},\n",
       "  mean: 0.96758, std: 0.02751, params: {'learning_rate': 1, 'max_bin': 100, 'max_depth': 7, 'n_estimators': 40, 'num_leaves': 3},\n",
       "  mean: 0.96491, std: 0.02762, params: {'learning_rate': 1, 'max_bin': 100, 'max_depth': 7, 'n_estimators': 40, 'num_leaves': 5},\n",
       "  mean: 0.96089, std: 0.02150, params: {'learning_rate': 1, 'max_bin': 100, 'max_depth': 7, 'n_estimators': 40, 'num_leaves': 7},\n",
       "  mean: 0.94973, std: 0.02939, params: {'learning_rate': 1, 'max_bin': 100, 'max_depth': 7, 'n_estimators': 40, 'num_leaves': 9},\n",
       "  mean: 0.96327, std: 0.03419, params: {'learning_rate': 1, 'max_bin': 100, 'max_depth': 7, 'n_estimators': 50, 'num_leaves': 3},\n",
       "  mean: 0.96698, std: 0.02401, params: {'learning_rate': 1, 'max_bin': 100, 'max_depth': 7, 'n_estimators': 50, 'num_leaves': 5},\n",
       "  mean: 0.95145, std: 0.03584, params: {'learning_rate': 1, 'max_bin': 100, 'max_depth': 7, 'n_estimators': 50, 'num_leaves': 7},\n",
       "  mean: 0.94584, std: 0.03323, params: {'learning_rate': 1, 'max_bin': 100, 'max_depth': 7, 'n_estimators': 50, 'num_leaves': 9},\n",
       "  mean: 0.96749, std: 0.03058, params: {'learning_rate': 1, 'max_bin': 100, 'max_depth': 8, 'n_estimators': 30, 'num_leaves': 3},\n",
       "  mean: 0.96410, std: 0.02533, params: {'learning_rate': 1, 'max_bin': 100, 'max_depth': 8, 'n_estimators': 30, 'num_leaves': 5},\n",
       "  mean: 0.96066, std: 0.02353, params: {'learning_rate': 1, 'max_bin': 100, 'max_depth': 8, 'n_estimators': 30, 'num_leaves': 7},\n",
       "  mean: 0.95441, std: 0.02753, params: {'learning_rate': 1, 'max_bin': 100, 'max_depth': 8, 'n_estimators': 30, 'num_leaves': 9},\n",
       "  mean: 0.96758, std: 0.02751, params: {'learning_rate': 1, 'max_bin': 100, 'max_depth': 8, 'n_estimators': 40, 'num_leaves': 3},\n",
       "  mean: 0.96491, std: 0.02762, params: {'learning_rate': 1, 'max_bin': 100, 'max_depth': 8, 'n_estimators': 40, 'num_leaves': 5},\n",
       "  mean: 0.96089, std: 0.02150, params: {'learning_rate': 1, 'max_bin': 100, 'max_depth': 8, 'n_estimators': 40, 'num_leaves': 7},\n",
       "  mean: 0.94657, std: 0.03143, params: {'learning_rate': 1, 'max_bin': 100, 'max_depth': 8, 'n_estimators': 40, 'num_leaves': 9},\n",
       "  mean: 0.96327, std: 0.03419, params: {'learning_rate': 1, 'max_bin': 100, 'max_depth': 8, 'n_estimators': 50, 'num_leaves': 3},\n",
       "  mean: 0.96698, std: 0.02401, params: {'learning_rate': 1, 'max_bin': 100, 'max_depth': 8, 'n_estimators': 50, 'num_leaves': 5},\n",
       "  mean: 0.95145, std: 0.03584, params: {'learning_rate': 1, 'max_bin': 100, 'max_depth': 8, 'n_estimators': 50, 'num_leaves': 7},\n",
       "  mean: 0.94510, std: 0.03240, params: {'learning_rate': 1, 'max_bin': 100, 'max_depth': 8, 'n_estimators': 50, 'num_leaves': 9},\n",
       "  mean: 0.97172, std: 0.02042, params: {'learning_rate': 1, 'max_bin': 200, 'max_depth': 4, 'n_estimators': 30, 'num_leaves': 3},\n",
       "  mean: 0.96883, std: 0.02536, params: {'learning_rate': 1, 'max_bin': 200, 'max_depth': 4, 'n_estimators': 30, 'num_leaves': 5},\n",
       "  mean: 0.96339, std: 0.02939, params: {'learning_rate': 1, 'max_bin': 200, 'max_depth': 4, 'n_estimators': 30, 'num_leaves': 7},\n",
       "  mean: 0.95909, std: 0.03520, params: {'learning_rate': 1, 'max_bin': 200, 'max_depth': 4, 'n_estimators': 30, 'num_leaves': 9},\n",
       "  mean: 0.97213, std: 0.02101, params: {'learning_rate': 1, 'max_bin': 200, 'max_depth': 4, 'n_estimators': 40, 'num_leaves': 3},\n",
       "  mean: 0.96571, std: 0.02299, params: {'learning_rate': 1, 'max_bin': 200, 'max_depth': 4, 'n_estimators': 40, 'num_leaves': 5},\n",
       "  mean: 0.96328, std: 0.02915, params: {'learning_rate': 1, 'max_bin': 200, 'max_depth': 4, 'n_estimators': 40, 'num_leaves': 7},\n",
       "  mean: 0.95669, std: 0.03415, params: {'learning_rate': 1, 'max_bin': 200, 'max_depth': 4, 'n_estimators': 40, 'num_leaves': 9},\n",
       "  mean: 0.96857, std: 0.02929, params: {'learning_rate': 1, 'max_bin': 200, 'max_depth': 4, 'n_estimators': 50, 'num_leaves': 3},\n",
       "  mean: 0.95948, std: 0.02779, params: {'learning_rate': 1, 'max_bin': 200, 'max_depth': 4, 'n_estimators': 50, 'num_leaves': 5},\n",
       "  mean: 0.96469, std: 0.02796, params: {'learning_rate': 1, 'max_bin': 200, 'max_depth': 4, 'n_estimators': 50, 'num_leaves': 7},\n",
       "  mean: 0.95671, std: 0.03290, params: {'learning_rate': 1, 'max_bin': 200, 'max_depth': 4, 'n_estimators': 50, 'num_leaves': 9},\n",
       "  mean: 0.97172, std: 0.02042, params: {'learning_rate': 1, 'max_bin': 200, 'max_depth': 5, 'n_estimators': 30, 'num_leaves': 3},\n",
       "  mean: 0.96883, std: 0.02536, params: {'learning_rate': 1, 'max_bin': 200, 'max_depth': 5, 'n_estimators': 30, 'num_leaves': 5},\n",
       "  mean: 0.96023, std: 0.02982, params: {'learning_rate': 1, 'max_bin': 200, 'max_depth': 5, 'n_estimators': 30, 'num_leaves': 7},\n",
       "  mean: 0.95960, std: 0.03413, params: {'learning_rate': 1, 'max_bin': 200, 'max_depth': 5, 'n_estimators': 30, 'num_leaves': 9},\n",
       "  mean: 0.97213, std: 0.02101, params: {'learning_rate': 1, 'max_bin': 200, 'max_depth': 5, 'n_estimators': 40, 'num_leaves': 3},\n",
       "  mean: 0.96571, std: 0.02299, params: {'learning_rate': 1, 'max_bin': 200, 'max_depth': 5, 'n_estimators': 40, 'num_leaves': 5},\n",
       "  mean: 0.96403, std: 0.02506, params: {'learning_rate': 1, 'max_bin': 200, 'max_depth': 5, 'n_estimators': 40, 'num_leaves': 7},\n",
       "  mean: 0.95610, std: 0.03282, params: {'learning_rate': 1, 'max_bin': 200, 'max_depth': 5, 'n_estimators': 40, 'num_leaves': 9},\n",
       "  mean: 0.96857, std: 0.02929, params: {'learning_rate': 1, 'max_bin': 200, 'max_depth': 5, 'n_estimators': 50, 'num_leaves': 3},\n",
       "  mean: 0.95948, std: 0.02779, params: {'learning_rate': 1, 'max_bin': 200, 'max_depth': 5, 'n_estimators': 50, 'num_leaves': 5},\n",
       "  mean: 0.95679, std: 0.02897, params: {'learning_rate': 1, 'max_bin': 200, 'max_depth': 5, 'n_estimators': 50, 'num_leaves': 7},\n",
       "  mean: 0.95088, std: 0.04090, params: {'learning_rate': 1, 'max_bin': 200, 'max_depth': 5, 'n_estimators': 50, 'num_leaves': 9},\n",
       "  mean: 0.97172, std: 0.02042, params: {'learning_rate': 1, 'max_bin': 200, 'max_depth': 7, 'n_estimators': 30, 'num_leaves': 3},\n",
       "  mean: 0.96883, std: 0.02536, params: {'learning_rate': 1, 'max_bin': 200, 'max_depth': 7, 'n_estimators': 30, 'num_leaves': 5},\n",
       "  mean: 0.95590, std: 0.03429, params: {'learning_rate': 1, 'max_bin': 200, 'max_depth': 7, 'n_estimators': 30, 'num_leaves': 7},\n",
       "  mean: 0.95854, std: 0.02603, params: {'learning_rate': 1, 'max_bin': 200, 'max_depth': 7, 'n_estimators': 30, 'num_leaves': 9},\n",
       "  mean: 0.97213, std: 0.02101, params: {'learning_rate': 1, 'max_bin': 200, 'max_depth': 7, 'n_estimators': 40, 'num_leaves': 3},\n",
       "  mean: 0.96571, std: 0.02299, params: {'learning_rate': 1, 'max_bin': 200, 'max_depth': 7, 'n_estimators': 40, 'num_leaves': 5},\n",
       "  mean: 0.95491, std: 0.03384, params: {'learning_rate': 1, 'max_bin': 200, 'max_depth': 7, 'n_estimators': 40, 'num_leaves': 7},\n",
       "  mean: 0.95765, std: 0.02428, params: {'learning_rate': 1, 'max_bin': 200, 'max_depth': 7, 'n_estimators': 40, 'num_leaves': 9},\n",
       "  mean: 0.96857, std: 0.02929, params: {'learning_rate': 1, 'max_bin': 200, 'max_depth': 7, 'n_estimators': 50, 'num_leaves': 3},\n",
       "  mean: 0.95948, std: 0.02779, params: {'learning_rate': 1, 'max_bin': 200, 'max_depth': 7, 'n_estimators': 50, 'num_leaves': 5},\n",
       "  mean: 0.95496, std: 0.03136, params: {'learning_rate': 1, 'max_bin': 200, 'max_depth': 7, 'n_estimators': 50, 'num_leaves': 7},\n",
       "  mean: 0.95493, std: 0.02872, params: {'learning_rate': 1, 'max_bin': 200, 'max_depth': 7, 'n_estimators': 50, 'num_leaves': 9},\n",
       "  mean: 0.97172, std: 0.02042, params: {'learning_rate': 1, 'max_bin': 200, 'max_depth': 8, 'n_estimators': 30, 'num_leaves': 3},\n",
       "  mean: 0.96883, std: 0.02536, params: {'learning_rate': 1, 'max_bin': 200, 'max_depth': 8, 'n_estimators': 30, 'num_leaves': 5},\n",
       "  mean: 0.95590, std: 0.03429, params: {'learning_rate': 1, 'max_bin': 200, 'max_depth': 8, 'n_estimators': 30, 'num_leaves': 7},\n",
       "  mean: 0.95882, std: 0.02995, params: {'learning_rate': 1, 'max_bin': 200, 'max_depth': 8, 'n_estimators': 30, 'num_leaves': 9},\n",
       "  mean: 0.97213, std: 0.02101, params: {'learning_rate': 1, 'max_bin': 200, 'max_depth': 8, 'n_estimators': 40, 'num_leaves': 3},\n",
       "  mean: 0.96571, std: 0.02299, params: {'learning_rate': 1, 'max_bin': 200, 'max_depth': 8, 'n_estimators': 40, 'num_leaves': 5},\n",
       "  mean: 0.95491, std: 0.03384, params: {'learning_rate': 1, 'max_bin': 200, 'max_depth': 8, 'n_estimators': 40, 'num_leaves': 7},\n",
       "  mean: 0.95863, std: 0.02606, params: {'learning_rate': 1, 'max_bin': 200, 'max_depth': 8, 'n_estimators': 40, 'num_leaves': 9},\n",
       "  mean: 0.96857, std: 0.02929, params: {'learning_rate': 1, 'max_bin': 200, 'max_depth': 8, 'n_estimators': 50, 'num_leaves': 3},\n",
       "  mean: 0.95948, std: 0.02779, params: {'learning_rate': 1, 'max_bin': 200, 'max_depth': 8, 'n_estimators': 50, 'num_leaves': 5},\n",
       "  mean: 0.95496, std: 0.03136, params: {'learning_rate': 1, 'max_bin': 200, 'max_depth': 8, 'n_estimators': 50, 'num_leaves': 7},\n",
       "  mean: 0.95905, std: 0.02491, params: {'learning_rate': 1, 'max_bin': 200, 'max_depth': 8, 'n_estimators': 50, 'num_leaves': 9}],\n",
       " {'learning_rate': 0.05,\n",
       "  'max_bin': 100,\n",
       "  'max_depth': 7,\n",
       "  'n_estimators': 50,\n",
       "  'num_leaves': 9},\n",
       " 0.9775450741960885)"
      ]
     },
     "execution_count": 17,
     "metadata": {},
     "output_type": "execute_result"
    }
   ],
   "source": [
    "param_set = {'n_estimators':[30,40,50],\n",
    "             'learning_rate': [0.01,0.05,0.1,1],\n",
    "             'num_leaves': [3,5,7,9],  # we should let it be smaller than 2^(max_depth)\n",
    "             'max_depth': [4,5,7,8],  # -1 means no limit\n",
    "             'max_bin': [50,100,200],  # Number of bucketed bin for feature values\n",
    "             }\n",
    "\n",
    "estimator = lgb.LGBMClassifier(boosting_type='gbdt', \n",
    "                           objective='binary',\n",
    "                           metric='auc',\n",
    "                           min_split_gain=0,\n",
    "                           min_child_weight=5,\n",
    "                           min_child_samples=10,\n",
    "                           subsample= 0.7,  # Subsample ratio of the training instance.\n",
    "                           subsample_freq=1,  # frequence of subsample, <=0 means no enable\\\n",
    "                           colsample_bytree=0.7,  # Subsample ratio of columns when constructing each tree.\n",
    "                           reg_alpha=1, \n",
    "                           reg_lambda=0,\n",
    "                           seed=410, \n",
    "                           nthread=4, \n",
    "                           silent=True)\n",
    "\n",
    "\n",
    "gsearch = GridSearchCV(estimator, param_grid = param_set, scoring='roc_auc',n_jobs=1,iid=False, cv=10)\n",
    "\n",
    "lgb_model = gsearch.fit(X.values, y.values)\n",
    "lgb_model.best_params_, lgb_model.best_score_"
   ]
  },
  {
   "cell_type": "code",
   "execution_count": null,
   "metadata": {},
   "outputs": [],
   "source": [
    "lgb_params = {'boosting_type': 'gbdt',\n",
    "              'objective': 'binary',\n",
    "              'metric':'auc',\n",
    "              'learning_rate': 0.05,\n",
    "              'num_leaves': 9,\n",
    "              'max_depth': 7,\n",
    "              'min_child_samples': 10,\n",
    "              'max_bin': 100,\n",
    "              'subsample': 0.7,\n",
    "              'subsample_freq': 1,\n",
    "              'colsample_bytree': 0.7,\n",
    "              'min_child_weight': 5,\n",
    "              'min_split_gain': 0,\n",
    "              'reg_alpha': 1,\n",
    "              'reg_lambda': 0,\n",
    "              'nthread': 4,\n",
    "              'verbose': 0,\n",
    "             }\n",
    "\n",
    "predictors = list(X.columns())\n",
    "categorical_features = []\n",
    "xgtrain = lgb.Dataset(dtrain[predictors].values, label=y.values,\n",
    "                      feature_name=predictors,\n",
    "                      categorical_feature=categorical_features\n",
    "                     )\n",
    "\n",
    "evals_results = {}\n",
    "\n",
    "lightGBM_model = lgb.train(lgb_params, \n",
    "                     xgtrain, \n",
    "                     evals_result=evals_results, \n",
    "                     verbose_eval=10, \n",
    "                     feval=feval)"
   ]
  },
  {
   "cell_type": "code",
   "execution_count": 19,
   "metadata": {},
   "outputs": [],
   "source": [
    "filename = 'lgb_model.sav'\n",
    "pickle.dump(lgb_model, open(filename, 'wb'))\n",
    "# some time later.. load the model from disk\n",
    "#loaded_model = pickle.load(open(filename, 'rb'))"
   ]
  },
  {
   "cell_type": "markdown",
   "metadata": {},
   "source": [
    "### Use lightGBM predict each test_fe file and merge into one CSV"
   ]
  },
  {
   "cell_type": "code",
   "execution_count": 47,
   "metadata": {},
   "outputs": [
    {
     "name": "stdout",
     "output_type": "stream",
     "text": [
      "Begin to forecast for file: input/test_fe/test_1fe.csv\n"
     ]
    },
    {
     "name": "stderr",
     "output_type": "stream",
     "text": [
      "/home/jacob/anaconda3/lib/python3.6/site-packages/sklearn/preprocessing/label.py:151: DeprecationWarning: The truth value of an empty array is ambiguous. Returning False, but in future this will result in an error. Use `array.size > 0` to check that an array is not empty.\n",
      "  if diff:\n"
     ]
    },
    {
     "name": "stdout",
     "output_type": "stream",
     "text": [
      "forecast finished: 148000. Total Work finished: 1/127\n",
      "Begin to forecast for file: input/test_fe/test_2fe.csv\n"
     ]
    },
    {
     "name": "stderr",
     "output_type": "stream",
     "text": [
      "/home/jacob/anaconda3/lib/python3.6/site-packages/sklearn/preprocessing/label.py:151: DeprecationWarning: The truth value of an empty array is ambiguous. Returning False, but in future this will result in an error. Use `array.size > 0` to check that an array is not empty.\n",
      "  if diff:\n"
     ]
    },
    {
     "name": "stdout",
     "output_type": "stream",
     "text": [
      "forecast finished: 296000. Total Work finished: 2/127\n",
      "Begin to forecast for file: input/test_fe/test_3fe.csv\n"
     ]
    },
    {
     "name": "stderr",
     "output_type": "stream",
     "text": [
      "/home/jacob/anaconda3/lib/python3.6/site-packages/sklearn/preprocessing/label.py:151: DeprecationWarning: The truth value of an empty array is ambiguous. Returning False, but in future this will result in an error. Use `array.size > 0` to check that an array is not empty.\n",
      "  if diff:\n"
     ]
    },
    {
     "name": "stdout",
     "output_type": "stream",
     "text": [
      "forecast finished: 444000. Total Work finished: 3/127\n",
      "Begin to forecast for file: input/test_fe/test_4fe.csv\n"
     ]
    },
    {
     "name": "stderr",
     "output_type": "stream",
     "text": [
      "/home/jacob/anaconda3/lib/python3.6/site-packages/sklearn/preprocessing/label.py:151: DeprecationWarning: The truth value of an empty array is ambiguous. Returning False, but in future this will result in an error. Use `array.size > 0` to check that an array is not empty.\n",
      "  if diff:\n"
     ]
    },
    {
     "name": "stdout",
     "output_type": "stream",
     "text": [
      "forecast finished: 592000. Total Work finished: 4/127\n",
      "Begin to forecast for file: input/test_fe/test_5fe.csv\n"
     ]
    },
    {
     "name": "stderr",
     "output_type": "stream",
     "text": [
      "/home/jacob/anaconda3/lib/python3.6/site-packages/sklearn/preprocessing/label.py:151: DeprecationWarning: The truth value of an empty array is ambiguous. Returning False, but in future this will result in an error. Use `array.size > 0` to check that an array is not empty.\n",
      "  if diff:\n"
     ]
    },
    {
     "name": "stdout",
     "output_type": "stream",
     "text": [
      "forecast finished: 740000. Total Work finished: 5/127\n",
      "Begin to forecast for file: input/test_fe/test_6fe.csv\n"
     ]
    },
    {
     "name": "stderr",
     "output_type": "stream",
     "text": [
      "/home/jacob/anaconda3/lib/python3.6/site-packages/sklearn/preprocessing/label.py:151: DeprecationWarning: The truth value of an empty array is ambiguous. Returning False, but in future this will result in an error. Use `array.size > 0` to check that an array is not empty.\n",
      "  if diff:\n"
     ]
    },
    {
     "name": "stdout",
     "output_type": "stream",
     "text": [
      "forecast finished: 888000. Total Work finished: 6/127\n",
      "Begin to forecast for file: input/test_fe/test_7fe.csv\n"
     ]
    },
    {
     "name": "stderr",
     "output_type": "stream",
     "text": [
      "/home/jacob/anaconda3/lib/python3.6/site-packages/sklearn/preprocessing/label.py:151: DeprecationWarning: The truth value of an empty array is ambiguous. Returning False, but in future this will result in an error. Use `array.size > 0` to check that an array is not empty.\n",
      "  if diff:\n"
     ]
    },
    {
     "name": "stdout",
     "output_type": "stream",
     "text": [
      "forecast finished: 1036000. Total Work finished: 7/127\n",
      "Begin to forecast for file: input/test_fe/test_8fe.csv\n"
     ]
    },
    {
     "name": "stderr",
     "output_type": "stream",
     "text": [
      "/home/jacob/anaconda3/lib/python3.6/site-packages/sklearn/preprocessing/label.py:151: DeprecationWarning: The truth value of an empty array is ambiguous. Returning False, but in future this will result in an error. Use `array.size > 0` to check that an array is not empty.\n",
      "  if diff:\n"
     ]
    },
    {
     "name": "stdout",
     "output_type": "stream",
     "text": [
      "forecast finished: 1184000. Total Work finished: 8/127\n",
      "Begin to forecast for file: input/test_fe/test_9fe.csv\n"
     ]
    },
    {
     "name": "stderr",
     "output_type": "stream",
     "text": [
      "/home/jacob/anaconda3/lib/python3.6/site-packages/sklearn/preprocessing/label.py:151: DeprecationWarning: The truth value of an empty array is ambiguous. Returning False, but in future this will result in an error. Use `array.size > 0` to check that an array is not empty.\n",
      "  if diff:\n"
     ]
    },
    {
     "name": "stdout",
     "output_type": "stream",
     "text": [
      "forecast finished: 1332000. Total Work finished: 9/127\n",
      "Begin to forecast for file: input/test_fe/test_10fe.csv\n"
     ]
    },
    {
     "name": "stderr",
     "output_type": "stream",
     "text": [
      "/home/jacob/anaconda3/lib/python3.6/site-packages/sklearn/preprocessing/label.py:151: DeprecationWarning: The truth value of an empty array is ambiguous. Returning False, but in future this will result in an error. Use `array.size > 0` to check that an array is not empty.\n",
      "  if diff:\n"
     ]
    },
    {
     "name": "stdout",
     "output_type": "stream",
     "text": [
      "forecast finished: 1480000. Total Work finished: 10/127\n",
      "Begin to forecast for file: input/test_fe/test_11fe.csv\n"
     ]
    },
    {
     "name": "stderr",
     "output_type": "stream",
     "text": [
      "/home/jacob/anaconda3/lib/python3.6/site-packages/sklearn/preprocessing/label.py:151: DeprecationWarning: The truth value of an empty array is ambiguous. Returning False, but in future this will result in an error. Use `array.size > 0` to check that an array is not empty.\n",
      "  if diff:\n"
     ]
    },
    {
     "name": "stdout",
     "output_type": "stream",
     "text": [
      "forecast finished: 1628000. Total Work finished: 11/127\n",
      "Begin to forecast for file: input/test_fe/test_12fe.csv\n"
     ]
    },
    {
     "name": "stderr",
     "output_type": "stream",
     "text": [
      "/home/jacob/anaconda3/lib/python3.6/site-packages/sklearn/preprocessing/label.py:151: DeprecationWarning: The truth value of an empty array is ambiguous. Returning False, but in future this will result in an error. Use `array.size > 0` to check that an array is not empty.\n",
      "  if diff:\n"
     ]
    },
    {
     "name": "stdout",
     "output_type": "stream",
     "text": [
      "forecast finished: 1776000. Total Work finished: 12/127\n",
      "Begin to forecast for file: input/test_fe/test_13fe.csv\n"
     ]
    },
    {
     "name": "stderr",
     "output_type": "stream",
     "text": [
      "/home/jacob/anaconda3/lib/python3.6/site-packages/sklearn/preprocessing/label.py:151: DeprecationWarning: The truth value of an empty array is ambiguous. Returning False, but in future this will result in an error. Use `array.size > 0` to check that an array is not empty.\n",
      "  if diff:\n"
     ]
    },
    {
     "name": "stdout",
     "output_type": "stream",
     "text": [
      "forecast finished: 1924000. Total Work finished: 13/127\n",
      "Begin to forecast for file: input/test_fe/test_14fe.csv\n"
     ]
    },
    {
     "name": "stderr",
     "output_type": "stream",
     "text": [
      "/home/jacob/anaconda3/lib/python3.6/site-packages/sklearn/preprocessing/label.py:151: DeprecationWarning: The truth value of an empty array is ambiguous. Returning False, but in future this will result in an error. Use `array.size > 0` to check that an array is not empty.\n",
      "  if diff:\n"
     ]
    },
    {
     "name": "stdout",
     "output_type": "stream",
     "text": [
      "forecast finished: 2072000. Total Work finished: 14/127\n",
      "Begin to forecast for file: input/test_fe/test_15fe.csv\n"
     ]
    },
    {
     "name": "stderr",
     "output_type": "stream",
     "text": [
      "/home/jacob/anaconda3/lib/python3.6/site-packages/sklearn/preprocessing/label.py:151: DeprecationWarning: The truth value of an empty array is ambiguous. Returning False, but in future this will result in an error. Use `array.size > 0` to check that an array is not empty.\n",
      "  if diff:\n"
     ]
    },
    {
     "name": "stdout",
     "output_type": "stream",
     "text": [
      "forecast finished: 2220000. Total Work finished: 15/127\n",
      "Begin to forecast for file: input/test_fe/test_16fe.csv\n"
     ]
    },
    {
     "name": "stderr",
     "output_type": "stream",
     "text": [
      "/home/jacob/anaconda3/lib/python3.6/site-packages/sklearn/preprocessing/label.py:151: DeprecationWarning: The truth value of an empty array is ambiguous. Returning False, but in future this will result in an error. Use `array.size > 0` to check that an array is not empty.\n",
      "  if diff:\n"
     ]
    },
    {
     "name": "stdout",
     "output_type": "stream",
     "text": [
      "forecast finished: 2368000. Total Work finished: 16/127\n",
      "Begin to forecast for file: input/test_fe/test_17fe.csv\n"
     ]
    },
    {
     "name": "stderr",
     "output_type": "stream",
     "text": [
      "/home/jacob/anaconda3/lib/python3.6/site-packages/sklearn/preprocessing/label.py:151: DeprecationWarning: The truth value of an empty array is ambiguous. Returning False, but in future this will result in an error. Use `array.size > 0` to check that an array is not empty.\n",
      "  if diff:\n"
     ]
    },
    {
     "name": "stdout",
     "output_type": "stream",
     "text": [
      "forecast finished: 2516000. Total Work finished: 17/127\n",
      "Begin to forecast for file: input/test_fe/test_18fe.csv\n"
     ]
    },
    {
     "name": "stderr",
     "output_type": "stream",
     "text": [
      "/home/jacob/anaconda3/lib/python3.6/site-packages/sklearn/preprocessing/label.py:151: DeprecationWarning: The truth value of an empty array is ambiguous. Returning False, but in future this will result in an error. Use `array.size > 0` to check that an array is not empty.\n",
      "  if diff:\n"
     ]
    },
    {
     "name": "stdout",
     "output_type": "stream",
     "text": [
      "forecast finished: 2664000. Total Work finished: 18/127\n",
      "Begin to forecast for file: input/test_fe/test_19fe.csv\n"
     ]
    },
    {
     "name": "stderr",
     "output_type": "stream",
     "text": [
      "/home/jacob/anaconda3/lib/python3.6/site-packages/sklearn/preprocessing/label.py:151: DeprecationWarning: The truth value of an empty array is ambiguous. Returning False, but in future this will result in an error. Use `array.size > 0` to check that an array is not empty.\n",
      "  if diff:\n"
     ]
    },
    {
     "name": "stdout",
     "output_type": "stream",
     "text": [
      "forecast finished: 2812000. Total Work finished: 19/127\n",
      "Begin to forecast for file: input/test_fe/test_20fe.csv\n"
     ]
    },
    {
     "name": "stderr",
     "output_type": "stream",
     "text": [
      "/home/jacob/anaconda3/lib/python3.6/site-packages/sklearn/preprocessing/label.py:151: DeprecationWarning: The truth value of an empty array is ambiguous. Returning False, but in future this will result in an error. Use `array.size > 0` to check that an array is not empty.\n",
      "  if diff:\n"
     ]
    },
    {
     "name": "stdout",
     "output_type": "stream",
     "text": [
      "forecast finished: 2960000. Total Work finished: 20/127\n",
      "Begin to forecast for file: input/test_fe/test_21fe.csv\n"
     ]
    },
    {
     "name": "stderr",
     "output_type": "stream",
     "text": [
      "/home/jacob/anaconda3/lib/python3.6/site-packages/sklearn/preprocessing/label.py:151: DeprecationWarning: The truth value of an empty array is ambiguous. Returning False, but in future this will result in an error. Use `array.size > 0` to check that an array is not empty.\n",
      "  if diff:\n"
     ]
    },
    {
     "name": "stdout",
     "output_type": "stream",
     "text": [
      "forecast finished: 3108000. Total Work finished: 21/127\n",
      "Begin to forecast for file: input/test_fe/test_22fe.csv\n"
     ]
    },
    {
     "name": "stderr",
     "output_type": "stream",
     "text": [
      "/home/jacob/anaconda3/lib/python3.6/site-packages/sklearn/preprocessing/label.py:151: DeprecationWarning: The truth value of an empty array is ambiguous. Returning False, but in future this will result in an error. Use `array.size > 0` to check that an array is not empty.\n",
      "  if diff:\n"
     ]
    },
    {
     "name": "stdout",
     "output_type": "stream",
     "text": [
      "forecast finished: 3256000. Total Work finished: 22/127\n",
      "Begin to forecast for file: input/test_fe/test_23fe.csv\n"
     ]
    },
    {
     "name": "stderr",
     "output_type": "stream",
     "text": [
      "/home/jacob/anaconda3/lib/python3.6/site-packages/sklearn/preprocessing/label.py:151: DeprecationWarning: The truth value of an empty array is ambiguous. Returning False, but in future this will result in an error. Use `array.size > 0` to check that an array is not empty.\n",
      "  if diff:\n"
     ]
    },
    {
     "name": "stdout",
     "output_type": "stream",
     "text": [
      "forecast finished: 3404000. Total Work finished: 23/127\n",
      "Begin to forecast for file: input/test_fe/test_24fe.csv\n"
     ]
    },
    {
     "name": "stderr",
     "output_type": "stream",
     "text": [
      "/home/jacob/anaconda3/lib/python3.6/site-packages/sklearn/preprocessing/label.py:151: DeprecationWarning: The truth value of an empty array is ambiguous. Returning False, but in future this will result in an error. Use `array.size > 0` to check that an array is not empty.\n",
      "  if diff:\n"
     ]
    },
    {
     "name": "stdout",
     "output_type": "stream",
     "text": [
      "forecast finished: 3552000. Total Work finished: 24/127\n",
      "Begin to forecast for file: input/test_fe/test_25fe.csv\n"
     ]
    },
    {
     "name": "stderr",
     "output_type": "stream",
     "text": [
      "/home/jacob/anaconda3/lib/python3.6/site-packages/sklearn/preprocessing/label.py:151: DeprecationWarning: The truth value of an empty array is ambiguous. Returning False, but in future this will result in an error. Use `array.size > 0` to check that an array is not empty.\n",
      "  if diff:\n"
     ]
    },
    {
     "name": "stdout",
     "output_type": "stream",
     "text": [
      "forecast finished: 3700000. Total Work finished: 25/127\n",
      "Begin to forecast for file: input/test_fe/test_26fe.csv\n"
     ]
    },
    {
     "name": "stderr",
     "output_type": "stream",
     "text": [
      "/home/jacob/anaconda3/lib/python3.6/site-packages/sklearn/preprocessing/label.py:151: DeprecationWarning: The truth value of an empty array is ambiguous. Returning False, but in future this will result in an error. Use `array.size > 0` to check that an array is not empty.\n",
      "  if diff:\n"
     ]
    },
    {
     "name": "stdout",
     "output_type": "stream",
     "text": [
      "forecast finished: 3848000. Total Work finished: 26/127\n",
      "Begin to forecast for file: input/test_fe/test_27fe.csv\n"
     ]
    },
    {
     "name": "stderr",
     "output_type": "stream",
     "text": [
      "/home/jacob/anaconda3/lib/python3.6/site-packages/sklearn/preprocessing/label.py:151: DeprecationWarning: The truth value of an empty array is ambiguous. Returning False, but in future this will result in an error. Use `array.size > 0` to check that an array is not empty.\n",
      "  if diff:\n"
     ]
    },
    {
     "name": "stdout",
     "output_type": "stream",
     "text": [
      "forecast finished: 3996000. Total Work finished: 27/127\n",
      "Begin to forecast for file: input/test_fe/test_28fe.csv\n"
     ]
    },
    {
     "name": "stderr",
     "output_type": "stream",
     "text": [
      "/home/jacob/anaconda3/lib/python3.6/site-packages/sklearn/preprocessing/label.py:151: DeprecationWarning: The truth value of an empty array is ambiguous. Returning False, but in future this will result in an error. Use `array.size > 0` to check that an array is not empty.\n",
      "  if diff:\n"
     ]
    },
    {
     "name": "stdout",
     "output_type": "stream",
     "text": [
      "forecast finished: 4144000. Total Work finished: 28/127\n",
      "Begin to forecast for file: input/test_fe/test_29fe.csv\n"
     ]
    },
    {
     "name": "stderr",
     "output_type": "stream",
     "text": [
      "/home/jacob/anaconda3/lib/python3.6/site-packages/sklearn/preprocessing/label.py:151: DeprecationWarning: The truth value of an empty array is ambiguous. Returning False, but in future this will result in an error. Use `array.size > 0` to check that an array is not empty.\n",
      "  if diff:\n"
     ]
    },
    {
     "name": "stdout",
     "output_type": "stream",
     "text": [
      "forecast finished: 4292000. Total Work finished: 29/127\n",
      "Begin to forecast for file: input/test_fe/test_30fe.csv\n"
     ]
    },
    {
     "name": "stderr",
     "output_type": "stream",
     "text": [
      "/home/jacob/anaconda3/lib/python3.6/site-packages/sklearn/preprocessing/label.py:151: DeprecationWarning: The truth value of an empty array is ambiguous. Returning False, but in future this will result in an error. Use `array.size > 0` to check that an array is not empty.\n",
      "  if diff:\n"
     ]
    },
    {
     "name": "stdout",
     "output_type": "stream",
     "text": [
      "forecast finished: 4440000. Total Work finished: 30/127\n",
      "Begin to forecast for file: input/test_fe/test_31fe.csv\n"
     ]
    },
    {
     "name": "stderr",
     "output_type": "stream",
     "text": [
      "/home/jacob/anaconda3/lib/python3.6/site-packages/sklearn/preprocessing/label.py:151: DeprecationWarning: The truth value of an empty array is ambiguous. Returning False, but in future this will result in an error. Use `array.size > 0` to check that an array is not empty.\n",
      "  if diff:\n"
     ]
    },
    {
     "name": "stdout",
     "output_type": "stream",
     "text": [
      "forecast finished: 4588000. Total Work finished: 31/127\n",
      "Begin to forecast for file: input/test_fe/test_32fe.csv\n"
     ]
    },
    {
     "name": "stderr",
     "output_type": "stream",
     "text": [
      "/home/jacob/anaconda3/lib/python3.6/site-packages/sklearn/preprocessing/label.py:151: DeprecationWarning: The truth value of an empty array is ambiguous. Returning False, but in future this will result in an error. Use `array.size > 0` to check that an array is not empty.\n",
      "  if diff:\n"
     ]
    },
    {
     "name": "stdout",
     "output_type": "stream",
     "text": [
      "forecast finished: 4736000. Total Work finished: 32/127\n",
      "Begin to forecast for file: input/test_fe/test_33fe.csv\n"
     ]
    },
    {
     "name": "stderr",
     "output_type": "stream",
     "text": [
      "/home/jacob/anaconda3/lib/python3.6/site-packages/sklearn/preprocessing/label.py:151: DeprecationWarning: The truth value of an empty array is ambiguous. Returning False, but in future this will result in an error. Use `array.size > 0` to check that an array is not empty.\n",
      "  if diff:\n"
     ]
    },
    {
     "name": "stdout",
     "output_type": "stream",
     "text": [
      "forecast finished: 4884000. Total Work finished: 33/127\n",
      "Begin to forecast for file: input/test_fe/test_34fe.csv\n"
     ]
    },
    {
     "name": "stderr",
     "output_type": "stream",
     "text": [
      "/home/jacob/anaconda3/lib/python3.6/site-packages/sklearn/preprocessing/label.py:151: DeprecationWarning: The truth value of an empty array is ambiguous. Returning False, but in future this will result in an error. Use `array.size > 0` to check that an array is not empty.\n",
      "  if diff:\n"
     ]
    },
    {
     "name": "stdout",
     "output_type": "stream",
     "text": [
      "forecast finished: 5032000. Total Work finished: 34/127\n",
      "Begin to forecast for file: input/test_fe/test_35fe.csv\n"
     ]
    },
    {
     "name": "stderr",
     "output_type": "stream",
     "text": [
      "/home/jacob/anaconda3/lib/python3.6/site-packages/sklearn/preprocessing/label.py:151: DeprecationWarning: The truth value of an empty array is ambiguous. Returning False, but in future this will result in an error. Use `array.size > 0` to check that an array is not empty.\n",
      "  if diff:\n"
     ]
    },
    {
     "name": "stdout",
     "output_type": "stream",
     "text": [
      "forecast finished: 5180000. Total Work finished: 35/127\n",
      "Begin to forecast for file: input/test_fe/test_36fe.csv\n"
     ]
    },
    {
     "name": "stderr",
     "output_type": "stream",
     "text": [
      "/home/jacob/anaconda3/lib/python3.6/site-packages/sklearn/preprocessing/label.py:151: DeprecationWarning: The truth value of an empty array is ambiguous. Returning False, but in future this will result in an error. Use `array.size > 0` to check that an array is not empty.\n",
      "  if diff:\n"
     ]
    },
    {
     "name": "stdout",
     "output_type": "stream",
     "text": [
      "forecast finished: 5328000. Total Work finished: 36/127\n",
      "Begin to forecast for file: input/test_fe/test_37fe.csv\n"
     ]
    },
    {
     "name": "stderr",
     "output_type": "stream",
     "text": [
      "/home/jacob/anaconda3/lib/python3.6/site-packages/sklearn/preprocessing/label.py:151: DeprecationWarning: The truth value of an empty array is ambiguous. Returning False, but in future this will result in an error. Use `array.size > 0` to check that an array is not empty.\n",
      "  if diff:\n"
     ]
    },
    {
     "name": "stdout",
     "output_type": "stream",
     "text": [
      "forecast finished: 5476000. Total Work finished: 37/127\n",
      "Begin to forecast for file: input/test_fe/test_38fe.csv\n"
     ]
    },
    {
     "name": "stderr",
     "output_type": "stream",
     "text": [
      "/home/jacob/anaconda3/lib/python3.6/site-packages/sklearn/preprocessing/label.py:151: DeprecationWarning: The truth value of an empty array is ambiguous. Returning False, but in future this will result in an error. Use `array.size > 0` to check that an array is not empty.\n",
      "  if diff:\n"
     ]
    },
    {
     "name": "stdout",
     "output_type": "stream",
     "text": [
      "forecast finished: 5624000. Total Work finished: 38/127\n",
      "Begin to forecast for file: input/test_fe/test_39fe.csv\n"
     ]
    },
    {
     "name": "stderr",
     "output_type": "stream",
     "text": [
      "/home/jacob/anaconda3/lib/python3.6/site-packages/sklearn/preprocessing/label.py:151: DeprecationWarning: The truth value of an empty array is ambiguous. Returning False, but in future this will result in an error. Use `array.size > 0` to check that an array is not empty.\n",
      "  if diff:\n"
     ]
    },
    {
     "name": "stdout",
     "output_type": "stream",
     "text": [
      "forecast finished: 5772000. Total Work finished: 39/127\n",
      "Begin to forecast for file: input/test_fe/test_40fe.csv\n"
     ]
    },
    {
     "name": "stderr",
     "output_type": "stream",
     "text": [
      "/home/jacob/anaconda3/lib/python3.6/site-packages/sklearn/preprocessing/label.py:151: DeprecationWarning: The truth value of an empty array is ambiguous. Returning False, but in future this will result in an error. Use `array.size > 0` to check that an array is not empty.\n",
      "  if diff:\n"
     ]
    },
    {
     "name": "stdout",
     "output_type": "stream",
     "text": [
      "forecast finished: 5920000. Total Work finished: 40/127\n",
      "Begin to forecast for file: input/test_fe/test_41fe.csv\n"
     ]
    },
    {
     "name": "stderr",
     "output_type": "stream",
     "text": [
      "/home/jacob/anaconda3/lib/python3.6/site-packages/sklearn/preprocessing/label.py:151: DeprecationWarning: The truth value of an empty array is ambiguous. Returning False, but in future this will result in an error. Use `array.size > 0` to check that an array is not empty.\n",
      "  if diff:\n"
     ]
    },
    {
     "name": "stdout",
     "output_type": "stream",
     "text": [
      "forecast finished: 6068000. Total Work finished: 41/127\n",
      "Begin to forecast for file: input/test_fe/test_42fe.csv\n"
     ]
    },
    {
     "name": "stderr",
     "output_type": "stream",
     "text": [
      "/home/jacob/anaconda3/lib/python3.6/site-packages/sklearn/preprocessing/label.py:151: DeprecationWarning: The truth value of an empty array is ambiguous. Returning False, but in future this will result in an error. Use `array.size > 0` to check that an array is not empty.\n",
      "  if diff:\n"
     ]
    },
    {
     "name": "stdout",
     "output_type": "stream",
     "text": [
      "forecast finished: 6216000. Total Work finished: 42/127\n",
      "Begin to forecast for file: input/test_fe/test_43fe.csv\n"
     ]
    },
    {
     "name": "stderr",
     "output_type": "stream",
     "text": [
      "/home/jacob/anaconda3/lib/python3.6/site-packages/sklearn/preprocessing/label.py:151: DeprecationWarning: The truth value of an empty array is ambiguous. Returning False, but in future this will result in an error. Use `array.size > 0` to check that an array is not empty.\n",
      "  if diff:\n"
     ]
    },
    {
     "name": "stdout",
     "output_type": "stream",
     "text": [
      "forecast finished: 6364000. Total Work finished: 43/127\n",
      "Begin to forecast for file: input/test_fe/test_44fe.csv\n"
     ]
    },
    {
     "name": "stderr",
     "output_type": "stream",
     "text": [
      "/home/jacob/anaconda3/lib/python3.6/site-packages/sklearn/preprocessing/label.py:151: DeprecationWarning: The truth value of an empty array is ambiguous. Returning False, but in future this will result in an error. Use `array.size > 0` to check that an array is not empty.\n",
      "  if diff:\n"
     ]
    },
    {
     "name": "stdout",
     "output_type": "stream",
     "text": [
      "forecast finished: 6512000. Total Work finished: 44/127\n",
      "Begin to forecast for file: input/test_fe/test_45fe.csv\n"
     ]
    },
    {
     "name": "stderr",
     "output_type": "stream",
     "text": [
      "/home/jacob/anaconda3/lib/python3.6/site-packages/sklearn/preprocessing/label.py:151: DeprecationWarning: The truth value of an empty array is ambiguous. Returning False, but in future this will result in an error. Use `array.size > 0` to check that an array is not empty.\n",
      "  if diff:\n"
     ]
    },
    {
     "name": "stdout",
     "output_type": "stream",
     "text": [
      "forecast finished: 6660000. Total Work finished: 45/127\n",
      "Begin to forecast for file: input/test_fe/test_46fe.csv\n"
     ]
    },
    {
     "name": "stderr",
     "output_type": "stream",
     "text": [
      "/home/jacob/anaconda3/lib/python3.6/site-packages/sklearn/preprocessing/label.py:151: DeprecationWarning: The truth value of an empty array is ambiguous. Returning False, but in future this will result in an error. Use `array.size > 0` to check that an array is not empty.\n",
      "  if diff:\n"
     ]
    },
    {
     "name": "stdout",
     "output_type": "stream",
     "text": [
      "forecast finished: 6808000. Total Work finished: 46/127\n",
      "Begin to forecast for file: input/test_fe/test_47fe.csv\n"
     ]
    },
    {
     "name": "stderr",
     "output_type": "stream",
     "text": [
      "/home/jacob/anaconda3/lib/python3.6/site-packages/sklearn/preprocessing/label.py:151: DeprecationWarning: The truth value of an empty array is ambiguous. Returning False, but in future this will result in an error. Use `array.size > 0` to check that an array is not empty.\n",
      "  if diff:\n"
     ]
    },
    {
     "name": "stdout",
     "output_type": "stream",
     "text": [
      "forecast finished: 6956000. Total Work finished: 47/127\n",
      "Begin to forecast for file: input/test_fe/test_48fe.csv\n"
     ]
    },
    {
     "name": "stderr",
     "output_type": "stream",
     "text": [
      "/home/jacob/anaconda3/lib/python3.6/site-packages/sklearn/preprocessing/label.py:151: DeprecationWarning: The truth value of an empty array is ambiguous. Returning False, but in future this will result in an error. Use `array.size > 0` to check that an array is not empty.\n",
      "  if diff:\n"
     ]
    },
    {
     "name": "stdout",
     "output_type": "stream",
     "text": [
      "forecast finished: 7104000. Total Work finished: 48/127\n",
      "Begin to forecast for file: input/test_fe/test_49fe.csv\n"
     ]
    },
    {
     "name": "stderr",
     "output_type": "stream",
     "text": [
      "/home/jacob/anaconda3/lib/python3.6/site-packages/sklearn/preprocessing/label.py:151: DeprecationWarning: The truth value of an empty array is ambiguous. Returning False, but in future this will result in an error. Use `array.size > 0` to check that an array is not empty.\n",
      "  if diff:\n"
     ]
    },
    {
     "name": "stdout",
     "output_type": "stream",
     "text": [
      "forecast finished: 7252000. Total Work finished: 49/127\n",
      "Begin to forecast for file: input/test_fe/test_50fe.csv\n"
     ]
    },
    {
     "name": "stderr",
     "output_type": "stream",
     "text": [
      "/home/jacob/anaconda3/lib/python3.6/site-packages/sklearn/preprocessing/label.py:151: DeprecationWarning: The truth value of an empty array is ambiguous. Returning False, but in future this will result in an error. Use `array.size > 0` to check that an array is not empty.\n",
      "  if diff:\n"
     ]
    },
    {
     "name": "stdout",
     "output_type": "stream",
     "text": [
      "forecast finished: 7400000. Total Work finished: 50/127\n",
      "Begin to forecast for file: input/test_fe/test_51fe.csv\n"
     ]
    },
    {
     "name": "stderr",
     "output_type": "stream",
     "text": [
      "/home/jacob/anaconda3/lib/python3.6/site-packages/sklearn/preprocessing/label.py:151: DeprecationWarning: The truth value of an empty array is ambiguous. Returning False, but in future this will result in an error. Use `array.size > 0` to check that an array is not empty.\n",
      "  if diff:\n"
     ]
    },
    {
     "name": "stdout",
     "output_type": "stream",
     "text": [
      "forecast finished: 7548000. Total Work finished: 51/127\n",
      "Begin to forecast for file: input/test_fe/test_52fe.csv\n"
     ]
    },
    {
     "name": "stderr",
     "output_type": "stream",
     "text": [
      "/home/jacob/anaconda3/lib/python3.6/site-packages/sklearn/preprocessing/label.py:151: DeprecationWarning: The truth value of an empty array is ambiguous. Returning False, but in future this will result in an error. Use `array.size > 0` to check that an array is not empty.\n",
      "  if diff:\n"
     ]
    },
    {
     "name": "stdout",
     "output_type": "stream",
     "text": [
      "forecast finished: 7696000. Total Work finished: 52/127\n",
      "Begin to forecast for file: input/test_fe/test_53fe.csv\n"
     ]
    },
    {
     "name": "stderr",
     "output_type": "stream",
     "text": [
      "/home/jacob/anaconda3/lib/python3.6/site-packages/sklearn/preprocessing/label.py:151: DeprecationWarning: The truth value of an empty array is ambiguous. Returning False, but in future this will result in an error. Use `array.size > 0` to check that an array is not empty.\n",
      "  if diff:\n"
     ]
    },
    {
     "name": "stdout",
     "output_type": "stream",
     "text": [
      "forecast finished: 7844000. Total Work finished: 53/127\n",
      "Begin to forecast for file: input/test_fe/test_54fe.csv\n"
     ]
    },
    {
     "name": "stderr",
     "output_type": "stream",
     "text": [
      "/home/jacob/anaconda3/lib/python3.6/site-packages/sklearn/preprocessing/label.py:151: DeprecationWarning: The truth value of an empty array is ambiguous. Returning False, but in future this will result in an error. Use `array.size > 0` to check that an array is not empty.\n",
      "  if diff:\n"
     ]
    },
    {
     "name": "stdout",
     "output_type": "stream",
     "text": [
      "forecast finished: 7992000. Total Work finished: 54/127\n",
      "Begin to forecast for file: input/test_fe/test_55fe.csv\n"
     ]
    },
    {
     "name": "stderr",
     "output_type": "stream",
     "text": [
      "/home/jacob/anaconda3/lib/python3.6/site-packages/sklearn/preprocessing/label.py:151: DeprecationWarning: The truth value of an empty array is ambiguous. Returning False, but in future this will result in an error. Use `array.size > 0` to check that an array is not empty.\n",
      "  if diff:\n"
     ]
    },
    {
     "name": "stdout",
     "output_type": "stream",
     "text": [
      "forecast finished: 8140000. Total Work finished: 55/127\n",
      "Begin to forecast for file: input/test_fe/test_56fe.csv\n"
     ]
    },
    {
     "name": "stderr",
     "output_type": "stream",
     "text": [
      "/home/jacob/anaconda3/lib/python3.6/site-packages/sklearn/preprocessing/label.py:151: DeprecationWarning: The truth value of an empty array is ambiguous. Returning False, but in future this will result in an error. Use `array.size > 0` to check that an array is not empty.\n",
      "  if diff:\n"
     ]
    },
    {
     "name": "stdout",
     "output_type": "stream",
     "text": [
      "forecast finished: 8288000. Total Work finished: 56/127\n",
      "Begin to forecast for file: input/test_fe/test_57fe.csv\n"
     ]
    },
    {
     "name": "stderr",
     "output_type": "stream",
     "text": [
      "/home/jacob/anaconda3/lib/python3.6/site-packages/sklearn/preprocessing/label.py:151: DeprecationWarning: The truth value of an empty array is ambiguous. Returning False, but in future this will result in an error. Use `array.size > 0` to check that an array is not empty.\n",
      "  if diff:\n"
     ]
    },
    {
     "name": "stdout",
     "output_type": "stream",
     "text": [
      "forecast finished: 8436000. Total Work finished: 57/127\n",
      "Begin to forecast for file: input/test_fe/test_58fe.csv\n"
     ]
    },
    {
     "name": "stderr",
     "output_type": "stream",
     "text": [
      "/home/jacob/anaconda3/lib/python3.6/site-packages/sklearn/preprocessing/label.py:151: DeprecationWarning: The truth value of an empty array is ambiguous. Returning False, but in future this will result in an error. Use `array.size > 0` to check that an array is not empty.\n",
      "  if diff:\n"
     ]
    },
    {
     "name": "stdout",
     "output_type": "stream",
     "text": [
      "forecast finished: 8584000. Total Work finished: 58/127\n",
      "Begin to forecast for file: input/test_fe/test_59fe.csv\n"
     ]
    },
    {
     "name": "stderr",
     "output_type": "stream",
     "text": [
      "/home/jacob/anaconda3/lib/python3.6/site-packages/sklearn/preprocessing/label.py:151: DeprecationWarning: The truth value of an empty array is ambiguous. Returning False, but in future this will result in an error. Use `array.size > 0` to check that an array is not empty.\n",
      "  if diff:\n"
     ]
    },
    {
     "name": "stdout",
     "output_type": "stream",
     "text": [
      "forecast finished: 8732000. Total Work finished: 59/127\n",
      "Begin to forecast for file: input/test_fe/test_60fe.csv\n"
     ]
    },
    {
     "name": "stderr",
     "output_type": "stream",
     "text": [
      "/home/jacob/anaconda3/lib/python3.6/site-packages/sklearn/preprocessing/label.py:151: DeprecationWarning: The truth value of an empty array is ambiguous. Returning False, but in future this will result in an error. Use `array.size > 0` to check that an array is not empty.\n",
      "  if diff:\n"
     ]
    },
    {
     "name": "stdout",
     "output_type": "stream",
     "text": [
      "forecast finished: 8880000. Total Work finished: 60/127\n",
      "Begin to forecast for file: input/test_fe/test_61fe.csv\n"
     ]
    },
    {
     "name": "stderr",
     "output_type": "stream",
     "text": [
      "/home/jacob/anaconda3/lib/python3.6/site-packages/sklearn/preprocessing/label.py:151: DeprecationWarning: The truth value of an empty array is ambiguous. Returning False, but in future this will result in an error. Use `array.size > 0` to check that an array is not empty.\n",
      "  if diff:\n"
     ]
    },
    {
     "name": "stdout",
     "output_type": "stream",
     "text": [
      "forecast finished: 9028000. Total Work finished: 61/127\n",
      "Begin to forecast for file: input/test_fe/test_62fe.csv\n"
     ]
    },
    {
     "name": "stderr",
     "output_type": "stream",
     "text": [
      "/home/jacob/anaconda3/lib/python3.6/site-packages/sklearn/preprocessing/label.py:151: DeprecationWarning: The truth value of an empty array is ambiguous. Returning False, but in future this will result in an error. Use `array.size > 0` to check that an array is not empty.\n",
      "  if diff:\n"
     ]
    },
    {
     "name": "stdout",
     "output_type": "stream",
     "text": [
      "forecast finished: 9176000. Total Work finished: 62/127\n",
      "Begin to forecast for file: input/test_fe/test_63fe.csv\n"
     ]
    },
    {
     "name": "stderr",
     "output_type": "stream",
     "text": [
      "/home/jacob/anaconda3/lib/python3.6/site-packages/sklearn/preprocessing/label.py:151: DeprecationWarning: The truth value of an empty array is ambiguous. Returning False, but in future this will result in an error. Use `array.size > 0` to check that an array is not empty.\n",
      "  if diff:\n"
     ]
    },
    {
     "name": "stdout",
     "output_type": "stream",
     "text": [
      "forecast finished: 9324000. Total Work finished: 63/127\n",
      "Begin to forecast for file: input/test_fe/test_64fe.csv\n"
     ]
    },
    {
     "name": "stderr",
     "output_type": "stream",
     "text": [
      "/home/jacob/anaconda3/lib/python3.6/site-packages/sklearn/preprocessing/label.py:151: DeprecationWarning: The truth value of an empty array is ambiguous. Returning False, but in future this will result in an error. Use `array.size > 0` to check that an array is not empty.\n",
      "  if diff:\n"
     ]
    },
    {
     "name": "stdout",
     "output_type": "stream",
     "text": [
      "forecast finished: 9472000. Total Work finished: 64/127\n",
      "Begin to forecast for file: input/test_fe/test_65fe.csv\n"
     ]
    },
    {
     "name": "stderr",
     "output_type": "stream",
     "text": [
      "/home/jacob/anaconda3/lib/python3.6/site-packages/sklearn/preprocessing/label.py:151: DeprecationWarning: The truth value of an empty array is ambiguous. Returning False, but in future this will result in an error. Use `array.size > 0` to check that an array is not empty.\n",
      "  if diff:\n"
     ]
    },
    {
     "name": "stdout",
     "output_type": "stream",
     "text": [
      "forecast finished: 9620000. Total Work finished: 65/127\n",
      "Begin to forecast for file: input/test_fe/test_66fe.csv\n"
     ]
    },
    {
     "name": "stderr",
     "output_type": "stream",
     "text": [
      "/home/jacob/anaconda3/lib/python3.6/site-packages/sklearn/preprocessing/label.py:151: DeprecationWarning: The truth value of an empty array is ambiguous. Returning False, but in future this will result in an error. Use `array.size > 0` to check that an array is not empty.\n",
      "  if diff:\n"
     ]
    },
    {
     "name": "stdout",
     "output_type": "stream",
     "text": [
      "forecast finished: 9768000. Total Work finished: 66/127\n",
      "Begin to forecast for file: input/test_fe/test_67fe.csv\n"
     ]
    },
    {
     "name": "stderr",
     "output_type": "stream",
     "text": [
      "/home/jacob/anaconda3/lib/python3.6/site-packages/sklearn/preprocessing/label.py:151: DeprecationWarning: The truth value of an empty array is ambiguous. Returning False, but in future this will result in an error. Use `array.size > 0` to check that an array is not empty.\n",
      "  if diff:\n"
     ]
    },
    {
     "name": "stdout",
     "output_type": "stream",
     "text": [
      "forecast finished: 9916000. Total Work finished: 67/127\n",
      "Begin to forecast for file: input/test_fe/test_68fe.csv\n"
     ]
    },
    {
     "name": "stderr",
     "output_type": "stream",
     "text": [
      "/home/jacob/anaconda3/lib/python3.6/site-packages/sklearn/preprocessing/label.py:151: DeprecationWarning: The truth value of an empty array is ambiguous. Returning False, but in future this will result in an error. Use `array.size > 0` to check that an array is not empty.\n",
      "  if diff:\n"
     ]
    },
    {
     "name": "stdout",
     "output_type": "stream",
     "text": [
      "forecast finished: 10064000. Total Work finished: 68/127\n",
      "Begin to forecast for file: input/test_fe/test_69fe.csv\n"
     ]
    },
    {
     "name": "stderr",
     "output_type": "stream",
     "text": [
      "/home/jacob/anaconda3/lib/python3.6/site-packages/sklearn/preprocessing/label.py:151: DeprecationWarning: The truth value of an empty array is ambiguous. Returning False, but in future this will result in an error. Use `array.size > 0` to check that an array is not empty.\n",
      "  if diff:\n"
     ]
    },
    {
     "name": "stdout",
     "output_type": "stream",
     "text": [
      "forecast finished: 10212000. Total Work finished: 69/127\n",
      "Begin to forecast for file: input/test_fe/test_70fe.csv\n"
     ]
    },
    {
     "name": "stderr",
     "output_type": "stream",
     "text": [
      "/home/jacob/anaconda3/lib/python3.6/site-packages/sklearn/preprocessing/label.py:151: DeprecationWarning: The truth value of an empty array is ambiguous. Returning False, but in future this will result in an error. Use `array.size > 0` to check that an array is not empty.\n",
      "  if diff:\n"
     ]
    },
    {
     "name": "stdout",
     "output_type": "stream",
     "text": [
      "forecast finished: 10360000. Total Work finished: 70/127\n",
      "Begin to forecast for file: input/test_fe/test_71fe.csv\n"
     ]
    },
    {
     "name": "stderr",
     "output_type": "stream",
     "text": [
      "/home/jacob/anaconda3/lib/python3.6/site-packages/sklearn/preprocessing/label.py:151: DeprecationWarning: The truth value of an empty array is ambiguous. Returning False, but in future this will result in an error. Use `array.size > 0` to check that an array is not empty.\n",
      "  if diff:\n"
     ]
    },
    {
     "name": "stdout",
     "output_type": "stream",
     "text": [
      "forecast finished: 10508000. Total Work finished: 71/127\n",
      "Begin to forecast for file: input/test_fe/test_72fe.csv\n"
     ]
    },
    {
     "name": "stderr",
     "output_type": "stream",
     "text": [
      "/home/jacob/anaconda3/lib/python3.6/site-packages/sklearn/preprocessing/label.py:151: DeprecationWarning: The truth value of an empty array is ambiguous. Returning False, but in future this will result in an error. Use `array.size > 0` to check that an array is not empty.\n",
      "  if diff:\n"
     ]
    },
    {
     "name": "stdout",
     "output_type": "stream",
     "text": [
      "forecast finished: 10656000. Total Work finished: 72/127\n",
      "Begin to forecast for file: input/test_fe/test_73fe.csv\n"
     ]
    },
    {
     "name": "stderr",
     "output_type": "stream",
     "text": [
      "/home/jacob/anaconda3/lib/python3.6/site-packages/sklearn/preprocessing/label.py:151: DeprecationWarning: The truth value of an empty array is ambiguous. Returning False, but in future this will result in an error. Use `array.size > 0` to check that an array is not empty.\n",
      "  if diff:\n"
     ]
    },
    {
     "name": "stdout",
     "output_type": "stream",
     "text": [
      "forecast finished: 10804000. Total Work finished: 73/127\n",
      "Begin to forecast for file: input/test_fe/test_74fe.csv\n"
     ]
    },
    {
     "name": "stderr",
     "output_type": "stream",
     "text": [
      "/home/jacob/anaconda3/lib/python3.6/site-packages/sklearn/preprocessing/label.py:151: DeprecationWarning: The truth value of an empty array is ambiguous. Returning False, but in future this will result in an error. Use `array.size > 0` to check that an array is not empty.\n",
      "  if diff:\n"
     ]
    },
    {
     "name": "stdout",
     "output_type": "stream",
     "text": [
      "forecast finished: 10952000. Total Work finished: 74/127\n",
      "Begin to forecast for file: input/test_fe/test_75fe.csv\n"
     ]
    },
    {
     "name": "stderr",
     "output_type": "stream",
     "text": [
      "/home/jacob/anaconda3/lib/python3.6/site-packages/sklearn/preprocessing/label.py:151: DeprecationWarning: The truth value of an empty array is ambiguous. Returning False, but in future this will result in an error. Use `array.size > 0` to check that an array is not empty.\n",
      "  if diff:\n"
     ]
    },
    {
     "name": "stdout",
     "output_type": "stream",
     "text": [
      "forecast finished: 11100000. Total Work finished: 75/127\n",
      "Begin to forecast for file: input/test_fe/test_76fe.csv\n"
     ]
    },
    {
     "name": "stderr",
     "output_type": "stream",
     "text": [
      "/home/jacob/anaconda3/lib/python3.6/site-packages/sklearn/preprocessing/label.py:151: DeprecationWarning: The truth value of an empty array is ambiguous. Returning False, but in future this will result in an error. Use `array.size > 0` to check that an array is not empty.\n",
      "  if diff:\n"
     ]
    },
    {
     "name": "stdout",
     "output_type": "stream",
     "text": [
      "forecast finished: 11248000. Total Work finished: 76/127\n",
      "Begin to forecast for file: input/test_fe/test_77fe.csv\n"
     ]
    },
    {
     "name": "stderr",
     "output_type": "stream",
     "text": [
      "/home/jacob/anaconda3/lib/python3.6/site-packages/sklearn/preprocessing/label.py:151: DeprecationWarning: The truth value of an empty array is ambiguous. Returning False, but in future this will result in an error. Use `array.size > 0` to check that an array is not empty.\n",
      "  if diff:\n"
     ]
    },
    {
     "name": "stdout",
     "output_type": "stream",
     "text": [
      "forecast finished: 11396000. Total Work finished: 77/127\n",
      "Begin to forecast for file: input/test_fe/test_78fe.csv\n"
     ]
    },
    {
     "name": "stderr",
     "output_type": "stream",
     "text": [
      "/home/jacob/anaconda3/lib/python3.6/site-packages/sklearn/preprocessing/label.py:151: DeprecationWarning: The truth value of an empty array is ambiguous. Returning False, but in future this will result in an error. Use `array.size > 0` to check that an array is not empty.\n",
      "  if diff:\n"
     ]
    },
    {
     "name": "stdout",
     "output_type": "stream",
     "text": [
      "forecast finished: 11544000. Total Work finished: 78/127\n",
      "Begin to forecast for file: input/test_fe/test_79fe.csv\n"
     ]
    },
    {
     "name": "stderr",
     "output_type": "stream",
     "text": [
      "/home/jacob/anaconda3/lib/python3.6/site-packages/sklearn/preprocessing/label.py:151: DeprecationWarning: The truth value of an empty array is ambiguous. Returning False, but in future this will result in an error. Use `array.size > 0` to check that an array is not empty.\n",
      "  if diff:\n"
     ]
    },
    {
     "name": "stdout",
     "output_type": "stream",
     "text": [
      "forecast finished: 11692000. Total Work finished: 79/127\n",
      "Begin to forecast for file: input/test_fe/test_80fe.csv\n"
     ]
    },
    {
     "name": "stderr",
     "output_type": "stream",
     "text": [
      "/home/jacob/anaconda3/lib/python3.6/site-packages/sklearn/preprocessing/label.py:151: DeprecationWarning: The truth value of an empty array is ambiguous. Returning False, but in future this will result in an error. Use `array.size > 0` to check that an array is not empty.\n",
      "  if diff:\n"
     ]
    },
    {
     "name": "stdout",
     "output_type": "stream",
     "text": [
      "forecast finished: 11840000. Total Work finished: 80/127\n",
      "Begin to forecast for file: input/test_fe/test_81fe.csv\n"
     ]
    },
    {
     "name": "stderr",
     "output_type": "stream",
     "text": [
      "/home/jacob/anaconda3/lib/python3.6/site-packages/sklearn/preprocessing/label.py:151: DeprecationWarning: The truth value of an empty array is ambiguous. Returning False, but in future this will result in an error. Use `array.size > 0` to check that an array is not empty.\n",
      "  if diff:\n"
     ]
    },
    {
     "name": "stdout",
     "output_type": "stream",
     "text": [
      "forecast finished: 11988000. Total Work finished: 81/127\n",
      "Begin to forecast for file: input/test_fe/test_82fe.csv\n"
     ]
    },
    {
     "name": "stderr",
     "output_type": "stream",
     "text": [
      "/home/jacob/anaconda3/lib/python3.6/site-packages/sklearn/preprocessing/label.py:151: DeprecationWarning: The truth value of an empty array is ambiguous. Returning False, but in future this will result in an error. Use `array.size > 0` to check that an array is not empty.\n",
      "  if diff:\n"
     ]
    },
    {
     "name": "stdout",
     "output_type": "stream",
     "text": [
      "forecast finished: 12136000. Total Work finished: 82/127\n",
      "Begin to forecast for file: input/test_fe/test_83fe.csv\n"
     ]
    },
    {
     "name": "stderr",
     "output_type": "stream",
     "text": [
      "/home/jacob/anaconda3/lib/python3.6/site-packages/sklearn/preprocessing/label.py:151: DeprecationWarning: The truth value of an empty array is ambiguous. Returning False, but in future this will result in an error. Use `array.size > 0` to check that an array is not empty.\n",
      "  if diff:\n"
     ]
    },
    {
     "name": "stdout",
     "output_type": "stream",
     "text": [
      "forecast finished: 12284000. Total Work finished: 83/127\n",
      "Begin to forecast for file: input/test_fe/test_84fe.csv\n"
     ]
    },
    {
     "name": "stderr",
     "output_type": "stream",
     "text": [
      "/home/jacob/anaconda3/lib/python3.6/site-packages/sklearn/preprocessing/label.py:151: DeprecationWarning: The truth value of an empty array is ambiguous. Returning False, but in future this will result in an error. Use `array.size > 0` to check that an array is not empty.\n",
      "  if diff:\n"
     ]
    },
    {
     "name": "stdout",
     "output_type": "stream",
     "text": [
      "forecast finished: 12432000. Total Work finished: 84/127\n",
      "Begin to forecast for file: input/test_fe/test_85fe.csv\n"
     ]
    },
    {
     "name": "stderr",
     "output_type": "stream",
     "text": [
      "/home/jacob/anaconda3/lib/python3.6/site-packages/sklearn/preprocessing/label.py:151: DeprecationWarning: The truth value of an empty array is ambiguous. Returning False, but in future this will result in an error. Use `array.size > 0` to check that an array is not empty.\n",
      "  if diff:\n"
     ]
    },
    {
     "name": "stdout",
     "output_type": "stream",
     "text": [
      "forecast finished: 12580000. Total Work finished: 85/127\n",
      "Begin to forecast for file: input/test_fe/test_86fe.csv\n"
     ]
    },
    {
     "name": "stderr",
     "output_type": "stream",
     "text": [
      "/home/jacob/anaconda3/lib/python3.6/site-packages/sklearn/preprocessing/label.py:151: DeprecationWarning: The truth value of an empty array is ambiguous. Returning False, but in future this will result in an error. Use `array.size > 0` to check that an array is not empty.\n",
      "  if diff:\n"
     ]
    },
    {
     "name": "stdout",
     "output_type": "stream",
     "text": [
      "forecast finished: 12728000. Total Work finished: 86/127\n",
      "Begin to forecast for file: input/test_fe/test_87fe.csv\n"
     ]
    },
    {
     "name": "stderr",
     "output_type": "stream",
     "text": [
      "/home/jacob/anaconda3/lib/python3.6/site-packages/sklearn/preprocessing/label.py:151: DeprecationWarning: The truth value of an empty array is ambiguous. Returning False, but in future this will result in an error. Use `array.size > 0` to check that an array is not empty.\n",
      "  if diff:\n"
     ]
    },
    {
     "name": "stdout",
     "output_type": "stream",
     "text": [
      "forecast finished: 12876000. Total Work finished: 87/127\n",
      "Begin to forecast for file: input/test_fe/test_88fe.csv\n"
     ]
    },
    {
     "name": "stderr",
     "output_type": "stream",
     "text": [
      "/home/jacob/anaconda3/lib/python3.6/site-packages/sklearn/preprocessing/label.py:151: DeprecationWarning: The truth value of an empty array is ambiguous. Returning False, but in future this will result in an error. Use `array.size > 0` to check that an array is not empty.\n",
      "  if diff:\n"
     ]
    },
    {
     "name": "stdout",
     "output_type": "stream",
     "text": [
      "forecast finished: 13024000. Total Work finished: 88/127\n",
      "Begin to forecast for file: input/test_fe/test_89fe.csv\n"
     ]
    },
    {
     "name": "stderr",
     "output_type": "stream",
     "text": [
      "/home/jacob/anaconda3/lib/python3.6/site-packages/sklearn/preprocessing/label.py:151: DeprecationWarning: The truth value of an empty array is ambiguous. Returning False, but in future this will result in an error. Use `array.size > 0` to check that an array is not empty.\n",
      "  if diff:\n"
     ]
    },
    {
     "name": "stdout",
     "output_type": "stream",
     "text": [
      "forecast finished: 13172000. Total Work finished: 89/127\n",
      "Begin to forecast for file: input/test_fe/test_90fe.csv\n"
     ]
    },
    {
     "name": "stderr",
     "output_type": "stream",
     "text": [
      "/home/jacob/anaconda3/lib/python3.6/site-packages/sklearn/preprocessing/label.py:151: DeprecationWarning: The truth value of an empty array is ambiguous. Returning False, but in future this will result in an error. Use `array.size > 0` to check that an array is not empty.\n",
      "  if diff:\n"
     ]
    },
    {
     "name": "stdout",
     "output_type": "stream",
     "text": [
      "forecast finished: 13320000. Total Work finished: 90/127\n",
      "Begin to forecast for file: input/test_fe/test_91fe.csv\n"
     ]
    },
    {
     "name": "stderr",
     "output_type": "stream",
     "text": [
      "/home/jacob/anaconda3/lib/python3.6/site-packages/sklearn/preprocessing/label.py:151: DeprecationWarning: The truth value of an empty array is ambiguous. Returning False, but in future this will result in an error. Use `array.size > 0` to check that an array is not empty.\n",
      "  if diff:\n"
     ]
    },
    {
     "name": "stdout",
     "output_type": "stream",
     "text": [
      "forecast finished: 13468000. Total Work finished: 91/127\n",
      "Begin to forecast for file: input/test_fe/test_92fe.csv\n"
     ]
    },
    {
     "name": "stderr",
     "output_type": "stream",
     "text": [
      "/home/jacob/anaconda3/lib/python3.6/site-packages/sklearn/preprocessing/label.py:151: DeprecationWarning: The truth value of an empty array is ambiguous. Returning False, but in future this will result in an error. Use `array.size > 0` to check that an array is not empty.\n",
      "  if diff:\n"
     ]
    },
    {
     "name": "stdout",
     "output_type": "stream",
     "text": [
      "forecast finished: 13616000. Total Work finished: 92/127\n",
      "Begin to forecast for file: input/test_fe/test_93fe.csv\n"
     ]
    },
    {
     "name": "stderr",
     "output_type": "stream",
     "text": [
      "/home/jacob/anaconda3/lib/python3.6/site-packages/sklearn/preprocessing/label.py:151: DeprecationWarning: The truth value of an empty array is ambiguous. Returning False, but in future this will result in an error. Use `array.size > 0` to check that an array is not empty.\n",
      "  if diff:\n"
     ]
    },
    {
     "name": "stdout",
     "output_type": "stream",
     "text": [
      "forecast finished: 13764000. Total Work finished: 93/127\n",
      "Begin to forecast for file: input/test_fe/test_94fe.csv\n"
     ]
    },
    {
     "name": "stderr",
     "output_type": "stream",
     "text": [
      "/home/jacob/anaconda3/lib/python3.6/site-packages/sklearn/preprocessing/label.py:151: DeprecationWarning: The truth value of an empty array is ambiguous. Returning False, but in future this will result in an error. Use `array.size > 0` to check that an array is not empty.\n",
      "  if diff:\n"
     ]
    },
    {
     "name": "stdout",
     "output_type": "stream",
     "text": [
      "forecast finished: 13912000. Total Work finished: 94/127\n",
      "Begin to forecast for file: input/test_fe/test_95fe.csv\n"
     ]
    },
    {
     "name": "stderr",
     "output_type": "stream",
     "text": [
      "/home/jacob/anaconda3/lib/python3.6/site-packages/sklearn/preprocessing/label.py:151: DeprecationWarning: The truth value of an empty array is ambiguous. Returning False, but in future this will result in an error. Use `array.size > 0` to check that an array is not empty.\n",
      "  if diff:\n"
     ]
    },
    {
     "name": "stdout",
     "output_type": "stream",
     "text": [
      "forecast finished: 14060000. Total Work finished: 95/127\n",
      "Begin to forecast for file: input/test_fe/test_96fe.csv\n"
     ]
    },
    {
     "name": "stderr",
     "output_type": "stream",
     "text": [
      "/home/jacob/anaconda3/lib/python3.6/site-packages/sklearn/preprocessing/label.py:151: DeprecationWarning: The truth value of an empty array is ambiguous. Returning False, but in future this will result in an error. Use `array.size > 0` to check that an array is not empty.\n",
      "  if diff:\n"
     ]
    },
    {
     "name": "stdout",
     "output_type": "stream",
     "text": [
      "forecast finished: 14208000. Total Work finished: 96/127\n",
      "Begin to forecast for file: input/test_fe/test_97fe.csv\n"
     ]
    },
    {
     "name": "stderr",
     "output_type": "stream",
     "text": [
      "/home/jacob/anaconda3/lib/python3.6/site-packages/sklearn/preprocessing/label.py:151: DeprecationWarning: The truth value of an empty array is ambiguous. Returning False, but in future this will result in an error. Use `array.size > 0` to check that an array is not empty.\n",
      "  if diff:\n"
     ]
    },
    {
     "name": "stdout",
     "output_type": "stream",
     "text": [
      "forecast finished: 14356000. Total Work finished: 97/127\n",
      "Begin to forecast for file: input/test_fe/test_98fe.csv\n"
     ]
    },
    {
     "name": "stderr",
     "output_type": "stream",
     "text": [
      "/home/jacob/anaconda3/lib/python3.6/site-packages/sklearn/preprocessing/label.py:151: DeprecationWarning: The truth value of an empty array is ambiguous. Returning False, but in future this will result in an error. Use `array.size > 0` to check that an array is not empty.\n",
      "  if diff:\n"
     ]
    },
    {
     "name": "stdout",
     "output_type": "stream",
     "text": [
      "forecast finished: 14504000. Total Work finished: 98/127\n",
      "Begin to forecast for file: input/test_fe/test_99fe.csv\n"
     ]
    },
    {
     "name": "stderr",
     "output_type": "stream",
     "text": [
      "/home/jacob/anaconda3/lib/python3.6/site-packages/sklearn/preprocessing/label.py:151: DeprecationWarning: The truth value of an empty array is ambiguous. Returning False, but in future this will result in an error. Use `array.size > 0` to check that an array is not empty.\n",
      "  if diff:\n"
     ]
    },
    {
     "name": "stdout",
     "output_type": "stream",
     "text": [
      "forecast finished: 14652000. Total Work finished: 99/127\n",
      "Begin to forecast for file: input/test_fe/test_100fe.csv\n"
     ]
    },
    {
     "name": "stderr",
     "output_type": "stream",
     "text": [
      "/home/jacob/anaconda3/lib/python3.6/site-packages/sklearn/preprocessing/label.py:151: DeprecationWarning: The truth value of an empty array is ambiguous. Returning False, but in future this will result in an error. Use `array.size > 0` to check that an array is not empty.\n",
      "  if diff:\n"
     ]
    },
    {
     "name": "stdout",
     "output_type": "stream",
     "text": [
      "forecast finished: 14800000. Total Work finished: 100/127\n",
      "Begin to forecast for file: input/test_fe/test_101fe.csv\n"
     ]
    },
    {
     "name": "stderr",
     "output_type": "stream",
     "text": [
      "/home/jacob/anaconda3/lib/python3.6/site-packages/sklearn/preprocessing/label.py:151: DeprecationWarning: The truth value of an empty array is ambiguous. Returning False, but in future this will result in an error. Use `array.size > 0` to check that an array is not empty.\n",
      "  if diff:\n"
     ]
    },
    {
     "name": "stdout",
     "output_type": "stream",
     "text": [
      "forecast finished: 14948000. Total Work finished: 101/127\n",
      "Begin to forecast for file: input/test_fe/test_102fe.csv\n"
     ]
    },
    {
     "name": "stderr",
     "output_type": "stream",
     "text": [
      "/home/jacob/anaconda3/lib/python3.6/site-packages/sklearn/preprocessing/label.py:151: DeprecationWarning: The truth value of an empty array is ambiguous. Returning False, but in future this will result in an error. Use `array.size > 0` to check that an array is not empty.\n",
      "  if diff:\n"
     ]
    },
    {
     "name": "stdout",
     "output_type": "stream",
     "text": [
      "forecast finished: 15096000. Total Work finished: 102/127\n",
      "Begin to forecast for file: input/test_fe/test_103fe.csv\n"
     ]
    },
    {
     "name": "stderr",
     "output_type": "stream",
     "text": [
      "/home/jacob/anaconda3/lib/python3.6/site-packages/sklearn/preprocessing/label.py:151: DeprecationWarning: The truth value of an empty array is ambiguous. Returning False, but in future this will result in an error. Use `array.size > 0` to check that an array is not empty.\n",
      "  if diff:\n"
     ]
    },
    {
     "name": "stdout",
     "output_type": "stream",
     "text": [
      "forecast finished: 15244000. Total Work finished: 103/127\n",
      "Begin to forecast for file: input/test_fe/test_104fe.csv\n"
     ]
    },
    {
     "name": "stderr",
     "output_type": "stream",
     "text": [
      "/home/jacob/anaconda3/lib/python3.6/site-packages/sklearn/preprocessing/label.py:151: DeprecationWarning: The truth value of an empty array is ambiguous. Returning False, but in future this will result in an error. Use `array.size > 0` to check that an array is not empty.\n",
      "  if diff:\n"
     ]
    },
    {
     "name": "stdout",
     "output_type": "stream",
     "text": [
      "forecast finished: 15392000. Total Work finished: 104/127\n",
      "Begin to forecast for file: input/test_fe/test_105fe.csv\n"
     ]
    },
    {
     "name": "stderr",
     "output_type": "stream",
     "text": [
      "/home/jacob/anaconda3/lib/python3.6/site-packages/sklearn/preprocessing/label.py:151: DeprecationWarning: The truth value of an empty array is ambiguous. Returning False, but in future this will result in an error. Use `array.size > 0` to check that an array is not empty.\n",
      "  if diff:\n"
     ]
    },
    {
     "name": "stdout",
     "output_type": "stream",
     "text": [
      "forecast finished: 15540000. Total Work finished: 105/127\n",
      "Begin to forecast for file: input/test_fe/test_106fe.csv\n"
     ]
    },
    {
     "name": "stderr",
     "output_type": "stream",
     "text": [
      "/home/jacob/anaconda3/lib/python3.6/site-packages/sklearn/preprocessing/label.py:151: DeprecationWarning: The truth value of an empty array is ambiguous. Returning False, but in future this will result in an error. Use `array.size > 0` to check that an array is not empty.\n",
      "  if diff:\n"
     ]
    },
    {
     "name": "stdout",
     "output_type": "stream",
     "text": [
      "forecast finished: 15688000. Total Work finished: 106/127\n",
      "Begin to forecast for file: input/test_fe/test_107fe.csv\n"
     ]
    },
    {
     "name": "stderr",
     "output_type": "stream",
     "text": [
      "/home/jacob/anaconda3/lib/python3.6/site-packages/sklearn/preprocessing/label.py:151: DeprecationWarning: The truth value of an empty array is ambiguous. Returning False, but in future this will result in an error. Use `array.size > 0` to check that an array is not empty.\n",
      "  if diff:\n"
     ]
    },
    {
     "name": "stdout",
     "output_type": "stream",
     "text": [
      "forecast finished: 15836000. Total Work finished: 107/127\n",
      "Begin to forecast for file: input/test_fe/test_108fe.csv\n"
     ]
    },
    {
     "name": "stderr",
     "output_type": "stream",
     "text": [
      "/home/jacob/anaconda3/lib/python3.6/site-packages/sklearn/preprocessing/label.py:151: DeprecationWarning: The truth value of an empty array is ambiguous. Returning False, but in future this will result in an error. Use `array.size > 0` to check that an array is not empty.\n",
      "  if diff:\n"
     ]
    },
    {
     "name": "stdout",
     "output_type": "stream",
     "text": [
      "forecast finished: 15984000. Total Work finished: 108/127\n",
      "Begin to forecast for file: input/test_fe/test_109fe.csv\n"
     ]
    },
    {
     "name": "stderr",
     "output_type": "stream",
     "text": [
      "/home/jacob/anaconda3/lib/python3.6/site-packages/sklearn/preprocessing/label.py:151: DeprecationWarning: The truth value of an empty array is ambiguous. Returning False, but in future this will result in an error. Use `array.size > 0` to check that an array is not empty.\n",
      "  if diff:\n"
     ]
    },
    {
     "name": "stdout",
     "output_type": "stream",
     "text": [
      "forecast finished: 16132000. Total Work finished: 109/127\n",
      "Begin to forecast for file: input/test_fe/test_110fe.csv\n"
     ]
    },
    {
     "name": "stderr",
     "output_type": "stream",
     "text": [
      "/home/jacob/anaconda3/lib/python3.6/site-packages/sklearn/preprocessing/label.py:151: DeprecationWarning: The truth value of an empty array is ambiguous. Returning False, but in future this will result in an error. Use `array.size > 0` to check that an array is not empty.\n",
      "  if diff:\n"
     ]
    },
    {
     "name": "stdout",
     "output_type": "stream",
     "text": [
      "forecast finished: 16280000. Total Work finished: 110/127\n",
      "Begin to forecast for file: input/test_fe/test_111fe.csv\n"
     ]
    },
    {
     "name": "stderr",
     "output_type": "stream",
     "text": [
      "/home/jacob/anaconda3/lib/python3.6/site-packages/sklearn/preprocessing/label.py:151: DeprecationWarning: The truth value of an empty array is ambiguous. Returning False, but in future this will result in an error. Use `array.size > 0` to check that an array is not empty.\n",
      "  if diff:\n"
     ]
    },
    {
     "name": "stdout",
     "output_type": "stream",
     "text": [
      "forecast finished: 16428000. Total Work finished: 111/127\n",
      "Begin to forecast for file: input/test_fe/test_112fe.csv\n"
     ]
    },
    {
     "name": "stderr",
     "output_type": "stream",
     "text": [
      "/home/jacob/anaconda3/lib/python3.6/site-packages/sklearn/preprocessing/label.py:151: DeprecationWarning: The truth value of an empty array is ambiguous. Returning False, but in future this will result in an error. Use `array.size > 0` to check that an array is not empty.\n",
      "  if diff:\n"
     ]
    },
    {
     "name": "stdout",
     "output_type": "stream",
     "text": [
      "forecast finished: 16576000. Total Work finished: 112/127\n",
      "Begin to forecast for file: input/test_fe/test_113fe.csv\n"
     ]
    },
    {
     "name": "stderr",
     "output_type": "stream",
     "text": [
      "/home/jacob/anaconda3/lib/python3.6/site-packages/sklearn/preprocessing/label.py:151: DeprecationWarning: The truth value of an empty array is ambiguous. Returning False, but in future this will result in an error. Use `array.size > 0` to check that an array is not empty.\n",
      "  if diff:\n"
     ]
    },
    {
     "name": "stdout",
     "output_type": "stream",
     "text": [
      "forecast finished: 16724000. Total Work finished: 113/127\n",
      "Begin to forecast for file: input/test_fe/test_114fe.csv\n"
     ]
    },
    {
     "name": "stderr",
     "output_type": "stream",
     "text": [
      "/home/jacob/anaconda3/lib/python3.6/site-packages/sklearn/preprocessing/label.py:151: DeprecationWarning: The truth value of an empty array is ambiguous. Returning False, but in future this will result in an error. Use `array.size > 0` to check that an array is not empty.\n",
      "  if diff:\n"
     ]
    },
    {
     "name": "stdout",
     "output_type": "stream",
     "text": [
      "forecast finished: 16872000. Total Work finished: 114/127\n",
      "Begin to forecast for file: input/test_fe/test_115fe.csv\n"
     ]
    },
    {
     "name": "stderr",
     "output_type": "stream",
     "text": [
      "/home/jacob/anaconda3/lib/python3.6/site-packages/sklearn/preprocessing/label.py:151: DeprecationWarning: The truth value of an empty array is ambiguous. Returning False, but in future this will result in an error. Use `array.size > 0` to check that an array is not empty.\n",
      "  if diff:\n"
     ]
    },
    {
     "name": "stdout",
     "output_type": "stream",
     "text": [
      "forecast finished: 17020000. Total Work finished: 115/127\n",
      "Begin to forecast for file: input/test_fe/test_116fe.csv\n"
     ]
    },
    {
     "name": "stderr",
     "output_type": "stream",
     "text": [
      "/home/jacob/anaconda3/lib/python3.6/site-packages/sklearn/preprocessing/label.py:151: DeprecationWarning: The truth value of an empty array is ambiguous. Returning False, but in future this will result in an error. Use `array.size > 0` to check that an array is not empty.\n",
      "  if diff:\n"
     ]
    },
    {
     "name": "stdout",
     "output_type": "stream",
     "text": [
      "forecast finished: 17168000. Total Work finished: 116/127\n",
      "Begin to forecast for file: input/test_fe/test_117fe.csv\n"
     ]
    },
    {
     "name": "stderr",
     "output_type": "stream",
     "text": [
      "/home/jacob/anaconda3/lib/python3.6/site-packages/sklearn/preprocessing/label.py:151: DeprecationWarning: The truth value of an empty array is ambiguous. Returning False, but in future this will result in an error. Use `array.size > 0` to check that an array is not empty.\n",
      "  if diff:\n"
     ]
    },
    {
     "name": "stdout",
     "output_type": "stream",
     "text": [
      "forecast finished: 17316000. Total Work finished: 117/127\n",
      "Begin to forecast for file: input/test_fe/test_118fe.csv\n"
     ]
    },
    {
     "name": "stderr",
     "output_type": "stream",
     "text": [
      "/home/jacob/anaconda3/lib/python3.6/site-packages/sklearn/preprocessing/label.py:151: DeprecationWarning: The truth value of an empty array is ambiguous. Returning False, but in future this will result in an error. Use `array.size > 0` to check that an array is not empty.\n",
      "  if diff:\n"
     ]
    },
    {
     "name": "stdout",
     "output_type": "stream",
     "text": [
      "forecast finished: 17464000. Total Work finished: 118/127\n",
      "Begin to forecast for file: input/test_fe/test_119fe.csv\n"
     ]
    },
    {
     "name": "stderr",
     "output_type": "stream",
     "text": [
      "/home/jacob/anaconda3/lib/python3.6/site-packages/sklearn/preprocessing/label.py:151: DeprecationWarning: The truth value of an empty array is ambiguous. Returning False, but in future this will result in an error. Use `array.size > 0` to check that an array is not empty.\n",
      "  if diff:\n"
     ]
    },
    {
     "name": "stdout",
     "output_type": "stream",
     "text": [
      "forecast finished: 17612000. Total Work finished: 119/127\n",
      "Begin to forecast for file: input/test_fe/test_120fe.csv\n"
     ]
    },
    {
     "name": "stderr",
     "output_type": "stream",
     "text": [
      "/home/jacob/anaconda3/lib/python3.6/site-packages/sklearn/preprocessing/label.py:151: DeprecationWarning: The truth value of an empty array is ambiguous. Returning False, but in future this will result in an error. Use `array.size > 0` to check that an array is not empty.\n",
      "  if diff:\n"
     ]
    },
    {
     "name": "stdout",
     "output_type": "stream",
     "text": [
      "forecast finished: 17760000. Total Work finished: 120/127\n",
      "Begin to forecast for file: input/test_fe/test_121fe.csv\n"
     ]
    },
    {
     "name": "stderr",
     "output_type": "stream",
     "text": [
      "/home/jacob/anaconda3/lib/python3.6/site-packages/sklearn/preprocessing/label.py:151: DeprecationWarning: The truth value of an empty array is ambiguous. Returning False, but in future this will result in an error. Use `array.size > 0` to check that an array is not empty.\n",
      "  if diff:\n"
     ]
    },
    {
     "name": "stdout",
     "output_type": "stream",
     "text": [
      "forecast finished: 17908000. Total Work finished: 121/127\n",
      "Begin to forecast for file: input/test_fe/test_122fe.csv\n"
     ]
    },
    {
     "name": "stderr",
     "output_type": "stream",
     "text": [
      "/home/jacob/anaconda3/lib/python3.6/site-packages/sklearn/preprocessing/label.py:151: DeprecationWarning: The truth value of an empty array is ambiguous. Returning False, but in future this will result in an error. Use `array.size > 0` to check that an array is not empty.\n",
      "  if diff:\n"
     ]
    },
    {
     "name": "stdout",
     "output_type": "stream",
     "text": [
      "forecast finished: 18056000. Total Work finished: 122/127\n",
      "Begin to forecast for file: input/test_fe/test_123fe.csv\n"
     ]
    },
    {
     "name": "stderr",
     "output_type": "stream",
     "text": [
      "/home/jacob/anaconda3/lib/python3.6/site-packages/sklearn/preprocessing/label.py:151: DeprecationWarning: The truth value of an empty array is ambiguous. Returning False, but in future this will result in an error. Use `array.size > 0` to check that an array is not empty.\n",
      "  if diff:\n"
     ]
    },
    {
     "name": "stdout",
     "output_type": "stream",
     "text": [
      "forecast finished: 18204000. Total Work finished: 123/127\n",
      "Begin to forecast for file: input/test_fe/test_124fe.csv\n"
     ]
    },
    {
     "name": "stderr",
     "output_type": "stream",
     "text": [
      "/home/jacob/anaconda3/lib/python3.6/site-packages/sklearn/preprocessing/label.py:151: DeprecationWarning: The truth value of an empty array is ambiguous. Returning False, but in future this will result in an error. Use `array.size > 0` to check that an array is not empty.\n",
      "  if diff:\n"
     ]
    },
    {
     "name": "stdout",
     "output_type": "stream",
     "text": [
      "forecast finished: 18352000. Total Work finished: 124/127\n",
      "Begin to forecast for file: input/test_fe/test_125fe.csv\n"
     ]
    },
    {
     "name": "stderr",
     "output_type": "stream",
     "text": [
      "/home/jacob/anaconda3/lib/python3.6/site-packages/sklearn/preprocessing/label.py:151: DeprecationWarning: The truth value of an empty array is ambiguous. Returning False, but in future this will result in an error. Use `array.size > 0` to check that an array is not empty.\n",
      "  if diff:\n"
     ]
    },
    {
     "name": "stdout",
     "output_type": "stream",
     "text": [
      "forecast finished: 18500000. Total Work finished: 125/127\n",
      "Begin to forecast for file: input/test_fe/test_126fe.csv\n"
     ]
    },
    {
     "name": "stderr",
     "output_type": "stream",
     "text": [
      "/home/jacob/anaconda3/lib/python3.6/site-packages/sklearn/preprocessing/label.py:151: DeprecationWarning: The truth value of an empty array is ambiguous. Returning False, but in future this will result in an error. Use `array.size > 0` to check that an array is not empty.\n",
      "  if diff:\n"
     ]
    },
    {
     "name": "stdout",
     "output_type": "stream",
     "text": [
      "forecast finished: 18648000. Total Work finished: 126/127\n",
      "Begin to forecast for file: input/test_fe/test_127fe.csv\n",
      "forecast finished: 18790469. Total Work finished: 127/127\n"
     ]
    },
    {
     "name": "stderr",
     "output_type": "stream",
     "text": [
      "/home/jacob/anaconda3/lib/python3.6/site-packages/sklearn/preprocessing/label.py:151: DeprecationWarning: The truth value of an empty array is ambiguous. Returning False, but in future this will result in an error. Use `array.size > 0` to check that an array is not empty.\n",
      "  if diff:\n"
     ]
    }
   ],
   "source": [
    "for i in np.arange(127)+1:\n",
    "    print('Begin to forecast for file: ' + 'input/test_fe/test_'+str(i)+'fe.csv')\n",
    "    test = pd.read_csv('input/test_fe/test_'+str(i)+'fe.csv', header=0)\n",
    "    test = test.drop(columns=['Unnamed: 0'])\n",
    "    if i == 1:\n",
    "        p = lgb_model.predict(test.values)\n",
    "    else:\n",
    "        p = np.append(p,lgb_model.predict(test.values))\n",
    "    print('forecast finished: '+ str(len(p))+'. Total Work finished: '+ str(i)+ '/127')"
   ]
  },
  {
   "cell_type": "code",
   "execution_count": 51,
   "metadata": {},
   "outputs": [],
   "source": [
    "sub = pd.DataFrame()\n",
    "sub.loc[:,'click_id'] = np.arange(len(p))\n",
    "sub.loc[:,'is_attributed'] = p\n",
    "sub.to_csv('/output/ligGBM_forecast.csv',index=False)"
   ]
  },
  {
   "cell_type": "markdown",
   "metadata": {},
   "source": [
    "### Using Xgboost"
   ]
  },
  {
   "cell_type": "code",
   "execution_count": 52,
   "metadata": {},
   "outputs": [
    {
     "name": "stderr",
     "output_type": "stream",
     "text": [
      "/home/jacob/anaconda3/lib/python3.6/site-packages/sklearn/cross_validation.py:41: DeprecationWarning: This module was deprecated in version 0.18 in favor of the model_selection module into which all the refactored classes and functions are moved. Also note that the interface of the new CV iterators are different from that of this module. This module will be removed in 0.20.\n",
      "  \"This module will be removed in 0.20.\", DeprecationWarning)\n",
      "/home/jacob/anaconda3/lib/python3.6/site-packages/sklearn/grid_search.py:42: DeprecationWarning: This module was deprecated in version 0.18 in favor of the model_selection module into which all the refactored classes and functions are moved. This module will be removed in 0.20.\n",
      "  DeprecationWarning)\n"
     ]
    }
   ],
   "source": [
    "from xgboost.sklearn import XGBClassifier\n",
    "from sklearn import cross_validation, metrics\n",
    "from sklearn.grid_search import GridSearchCV"
   ]
  },
  {
   "cell_type": "code",
   "execution_count": 56,
   "metadata": {},
   "outputs": [],
   "source": [
    "#test_results = pd.read_csv('test_results.csv')\n",
    "def modelfit(alg, X, y,useTrainCV=True, cv_folds=5, early_stopping_rounds=50):\n",
    "\n",
    "    if useTrainCV:\n",
    "        xgb_param = alg.get_xgb_params()\n",
    "        xgtrain = xgb.DMatrix(X.values, label=y.values)\n",
    "        cvresult = xgb.cv(xgb_param, xgtrain, num_boost_round=alg.get_params()['n_estimators'], nfold=cv_folds,\n",
    "             early_stopping_rounds=early_stopping_rounds)\n",
    "        alg.set_params(n_estimators=cvresult.shape[0])\n",
    "    \n",
    "    #建模\n",
    "    alg.fit(X.values ,y.values ,eval_metric='auc')\n",
    "        \n",
    "    #对训练集预测\n",
    "    dtrain_predictions = alg.predict(X.values)\n",
    "    dtrain_predprob = alg.predict_proba(X.values)[:,1]\n",
    "        \n",
    "    #输出模型的一些结果\n",
    "    print(\"准确率 : %.4g\" % metrics.accuracy_score(y.values, dtrain_predictions))\n",
    "    print(\"AUC 得分 (训练集): %f\" % metrics.roc_auc_score(y, dtrain_predprob))"
   ]
  },
  {
   "cell_type": "code",
   "execution_count": 57,
   "metadata": {},
   "outputs": [
    {
     "name": "stderr",
     "output_type": "stream",
     "text": [
      "/home/jacob/anaconda3/lib/python3.6/site-packages/sklearn/preprocessing/label.py:151: DeprecationWarning: The truth value of an empty array is ambiguous. Returning False, but in future this will result in an error. Use `array.size > 0` to check that an array is not empty.\n",
      "  if diff:\n"
     ]
    },
    {
     "name": "stdout",
     "output_type": "stream",
     "text": [
      "准确率 : 0.9558\n",
      "AUC 得分 (训练集): 0.993632\n"
     ]
    }
   ],
   "source": [
    "xgb1 = XGBClassifier(\n",
    "        learning_rate =0.1,\n",
    "        n_estimators=1000,\n",
    "        max_depth=5,\n",
    "        min_child_weight=1,\n",
    "        gamma=0,\n",
    "        subsample=0.8,\n",
    "        colsample_bytree=0.8,\n",
    "        objective= 'binary:logistic',\n",
    "        nthread=4,\n",
    "        scale_pos_weight=1,\n",
    "        seed=27)\n",
    "modelfit(xgb1, X, y)"
   ]
  },
  {
   "cell_type": "code",
   "execution_count": null,
   "metadata": {},
   "outputs": [],
   "source": [
    "# 对于max_depth和min_child_weight查找最好的参数\n",
    "param_test1 = {\n",
    "    'max_depth':np.arange(3,10,2),\n",
    "    'min_child_weight':np.arange(1,6,2)\n",
    "}\n",
    "gsearch1 = GridSearchCV(estimator = XGBClassifier(learning_rate =0.1, n_estimators=140, max_depth=5,\n",
    "                                        min_child_weight=1, gamma=0, subsample=0.8, colsample_bytree=0.8,\n",
    "                                        objective= 'binary:logistic', nthread=4, scale_pos_weight=1, seed=27), \n",
    "                       param_grid = param_test1, scoring='roc_auc',n_jobs=4,iid=False, cv=5)\n",
    "gsearch1.fit(X,y)\n",
    "gsearch1.best_params_, gsearch1.best_score_"
   ]
  },
  {
   "cell_type": "code",
   "execution_count": null,
   "metadata": {},
   "outputs": [],
   "source": [
    "# 对于max_depth和min_child_weight查找最好的参数\n",
    "param_test2 = {\n",
    "    'max_depth':[4,5,6],\n",
    "    'min_child_weight':[4,5,6]\n",
    "}\n",
    "gsearch2 = GridSearchCV(estimator = XGBClassifier( learning_rate=0.1, n_estimators=140, max_depth=5,\n",
    "                                        min_child_weight=2, gamma=0, subsample=0.8, colsample_bytree=0.8,\n",
    "                                        objective= 'binary:logistic', nthread=4, scale_pos_weight=1,seed=27), \n",
    "                       param_grid = param_test2, scoring='roc_auc',n_jobs=4,iid=False, cv=5)\n",
    "gsearch2.fit(X,y)\n",
    "gsearch2.best_params_, gsearch2.best_score_"
   ]
  },
  {
   "cell_type": "code",
   "execution_count": null,
   "metadata": {},
   "outputs": [],
   "source": [
    "#交叉验证对min_child_weight寻找最合适的参数\n",
    "param_test2b = {\n",
    "    'min_child_weight':[6,8,10,12]\n",
    "}\n",
    "gsearch2b = GridSearchCV(estimator = XGBClassifier( learning_rate=0.1, n_estimators=140, max_depth=4,\n",
    "                                        min_child_weight=2, gamma=0, subsample=0.8, colsample_bytree=0.8,\n",
    "                                        objective= 'binary:logistic', nthread=4, scale_pos_weight=1,seed=27), \n",
    "                       param_grid = param_test2b, scoring='roc_auc',n_jobs=4,iid=False, cv=5)\n",
    "gsearch2b.fit(X,y)\n",
    "gsearch2b.best_params_, gsearch2b.best_score_"
   ]
  },
  {
   "cell_type": "code",
   "execution_count": null,
   "metadata": {},
   "outputs": [],
   "source": [
    "#Grid seach选择合适的gamma\n",
    "param_test3 = {\n",
    "    'gamma':[i/10.0 for i in range(0,5)]\n",
    "}\n",
    "gsearch3 = GridSearchCV(estimator = XGBClassifier( learning_rate =0.1, n_estimators=140, max_depth=4,\n",
    "                                        min_child_weight=6, gamma=0, subsample=0.8, colsample_bytree=0.8,\n",
    "                                        objective= 'binary:logistic', nthread=4, scale_pos_weight=1,seed=27), \n",
    "                       param_grid = param_test3, scoring='roc_auc',n_jobs=4,iid=False, cv=5)\n",
    "gsearch3.fit(X,y)\n",
    "gsearch3.best_params_, gsearch3.best_score_"
   ]
  },
  {
   "cell_type": "code",
   "execution_count": null,
   "metadata": {},
   "outputs": [],
   "source": [
    "#对subsample 和 colsample_bytree用grid search寻找最合适的参数\n",
    "param_test4 = {\n",
    "    'subsample':[i/10.0 for i in range(6,10)],\n",
    "    'colsample_bytree':[i/10.0 for i in range(6,10)]\n",
    "}\n",
    "gsearch4 = GridSearchCV(estimator = XGBClassifier( learning_rate =0.1, n_estimators=177, max_depth=4,\n",
    "                                        min_child_weight=6, gamma=0, subsample=0.8, colsample_bytree=0.8,\n",
    "                                        objective= 'binary:logistic', nthread=4, scale_pos_weight=1,seed=27), \n",
    "                       param_grid = param_test4, scoring='roc_auc',n_jobs=4,iid=False, cv=5)\n",
    "gsearch4.fit(train[predictors],train[target])\n",
    "gsearch4.best_params_, gsearch4.best_score_"
   ]
  },
  {
   "cell_type": "code",
   "execution_count": null,
   "metadata": {},
   "outputs": [],
   "source": [
    "# 同上\n",
    "param_test5 = {\n",
    "    'subsample':[i/100.0 for i in range(75,90,5)],\n",
    "    'colsample_bytree':[i/100.0 for i in range(75,90,5)]\n",
    "}\n",
    "gsearch5 = GridSearchCV(estimator = XGBClassifier( learning_rate =0.1, n_estimators=177, max_depth=4,\n",
    "                                        min_child_weight=6, gamma=0, subsample=0.8, colsample_bytree=0.8,\n",
    "                                        objective= 'binary:logistic', nthread=4, scale_pos_weight=1,seed=27), \n",
    "                       param_grid = param_test5, scoring='roc_auc',n_jobs=4,iid=False, cv=5)\n",
    "gsearch5.fit(train[predictors],train[target])\n",
    "gsearch5.best_params_, gsearch5.best_score_"
   ]
  },
  {
   "cell_type": "code",
   "execution_count": null,
   "metadata": {},
   "outputs": [],
   "source": [
    "#对reg_alpha用grid search寻找最合适的参数\n",
    "param_test6 = {\n",
    "    'reg_alpha':[1e-5, 1e-2, 0.1, 1, 100]\n",
    "}\n",
    "gsearch6 = GridSearchCV(estimator = XGBClassifier( learning_rate =0.1, n_estimators=177, max_depth=4,\n",
    "                                        min_child_weight=6, gamma=0.1, subsample=0.8, colsample_bytree=0.8,\n",
    "                                        objective= 'binary:logistic', nthread=4, scale_pos_weight=1,seed=27), \n",
    "                       param_grid = param_test6, scoring='roc_auc',n_jobs=4,iid=False, cv=5)\n",
    "gsearch6.fit(train[predictors],train[target])\n",
    "gsearch6.best_params_, gsearch6.best_score_"
   ]
  },
  {
   "cell_type": "code",
   "execution_count": null,
   "metadata": {},
   "outputs": [],
   "source": [
    "# 换一组参数对reg_alpha用grid search寻找最合适的参数\n",
    "param_test7 = {\n",
    "    'reg_alpha':[0, 0.001, 0.005, 0.01, 0.05]\n",
    "}\n",
    "gsearch7 = GridSearchCV(estimator = XGBClassifier( learning_rate =0.1, n_estimators=177, max_depth=4,\n",
    "                                        min_child_weight=6, gamma=0.1, subsample=0.8, colsample_bytree=0.8,\n",
    "                                        objective= 'binary:logistic', nthread=4, scale_pos_weight=1,seed=27), \n",
    "                       param_grid = param_test7, scoring='roc_auc',n_jobs=4,iid=False, cv=5)\n",
    "gsearch7.fit(train[predictors],train[target])\n",
    "gsearch7.best_params_, gsearch7.best_score_"
   ]
  },
  {
   "cell_type": "code",
   "execution_count": null,
   "metadata": {},
   "outputs": [],
   "source": []
  },
  {
   "cell_type": "markdown",
   "metadata": {},
   "source": [
    "### Blend prediction from different models"
   ]
  },
  {
   "cell_type": "code",
   "execution_count": null,
   "metadata": {},
   "outputs": [],
   "source": [
    "# All credits go to original authors!\n",
    "import pandas as pd\n",
    "\n",
    "test_files = ['../input/lewis-undersampler-9562-version/pred.csv',\n",
    "              '../input/weighted-app-chanel-os/subnew.csv',\n",
    "              '../input/single-xgboost-lb-0-9639/xgb_sub.csv',\n",
    "              '../input/lightgbm-with-count-features/sub_lgb_balanced99.csv'\n",
    "              ]\n",
    "\n",
    "model_test_data = []\n",
    "for test_file in test_files:\n",
    "    print('read ' + test_file)\n",
    "    model_test_data.append(pd.read_csv(test_file, encoding='utf-8'))\n",
    "n_models = len(model_test_data)\n",
    "\n",
    "weights = [0.10, 0.15, 0.25, 0.50]\n",
    "column_name = 'is_attributed'\n",
    "\n",
    "print('predict')\n",
    "test_predict_column = [0.] * len(model_test_data[0][column_name])\n",
    "for ind in range(0, n_models):\n",
    "    test_predict_column += model_test_data[ind][column_name] * weights[ind]\n",
    "\n",
    "print('make result')\n",
    "final_result = model_test_data[0]['click_id']\n",
    "final_result = pd.concat((final_result, pd.DataFrame(\n",
    "    {column_name: test_predict_column})), axis=1)\n",
    "final_result.to_csv(\"average_result.csv\", index=False)"
   ]
  }
 ],
 "metadata": {
  "kernelspec": {
   "display_name": "Python 3",
   "language": "python",
   "name": "python3"
  },
  "language_info": {
   "codemirror_mode": {
    "name": "ipython",
    "version": 3
   },
   "file_extension": ".py",
   "mimetype": "text/x-python",
   "name": "python",
   "nbconvert_exporter": "python",
   "pygments_lexer": "ipython3",
   "version": "3.6.4"
  }
 },
 "nbformat": 4,
 "nbformat_minor": 2
}
