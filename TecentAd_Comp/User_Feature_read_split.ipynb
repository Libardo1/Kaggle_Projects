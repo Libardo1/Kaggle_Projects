{
 "cells": [
  {
   "cell_type": "code",
   "execution_count": 1,
   "metadata": {},
   "outputs": [],
   "source": [
    "import pandas as pd\n",
    "import gc\n",
    "import os"
   ]
  },
  {
   "cell_type": "code",
   "execution_count": 2,
   "metadata": {},
   "outputs": [
    {
     "name": "stdout",
     "output_type": "stream",
     "text": [
      "10000000\n",
      "10100000\n",
      "10200000\n",
      "10300000\n",
      "10400000\n",
      "10500000\n",
      "10600000\n",
      "10700000\n",
      "10800000\n",
      "10900000\n",
      "11000000\n",
      "11100000\n",
      "11200000\n",
      "11300000\n",
      "11400000\n"
     ]
    }
   ],
   "source": [
    "userFeature_data = []\n",
    "with open('data/userFeature.data', 'r') as f:\n",
    "    for i, line in enumerate(f):\n",
    "        if i < 100000 * 100:\n",
    "            continue\n",
    "        line = line.strip().split('|')\n",
    "        userFeature_dict = {}\n",
    "        for each in line:\n",
    "            each_list = each.split(' ')\n",
    "            userFeature_dict[each_list[0]] = ' '.join(each_list[1:])\n",
    "        userFeature_data.append(userFeature_dict)\n",
    "        if i % 100000 == 0 and i <100000*120:\n",
    "            print(i)\n",
    "        elif i >=100000*120:\n",
    "            break\n",
    "                \n",
    "    user_feature = pd.DataFrame(userFeature_data)\n",
    "    gc.collect()"
   ]
  },
  {
   "cell_type": "code",
   "execution_count": 3,
   "metadata": {},
   "outputs": [],
   "source": [
    "del userFeature_data"
   ]
  },
  {
   "cell_type": "code",
   "execution_count": 4,
   "metadata": {},
   "outputs": [],
   "source": [
    "user_feature.to_csv('userFeature_6.csv')"
   ]
  },
  {
   "cell_type": "code",
   "execution_count": 5,
   "metadata": {},
   "outputs": [],
   "source": [
    "del user_feature"
   ]
  },
  {
   "cell_type": "code",
   "execution_count": null,
   "metadata": {},
   "outputs": [],
   "source": []
  }
 ],
 "metadata": {
  "kernelspec": {
   "display_name": "Python 3",
   "language": "python",
   "name": "python3"
  },
  "language_info": {
   "codemirror_mode": {
    "name": "ipython",
    "version": 3
   },
   "file_extension": ".py",
   "mimetype": "text/x-python",
   "name": "python",
   "nbconvert_exporter": "python",
   "pygments_lexer": "ipython3",
   "version": "3.6.4"
  }
 },
 "nbformat": 4,
 "nbformat_minor": 2
}
